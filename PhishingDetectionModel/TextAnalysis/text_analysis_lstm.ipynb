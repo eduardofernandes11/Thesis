{
 "cells": [
  {
   "cell_type": "code",
   "execution_count": 33,
   "metadata": {},
   "outputs": [],
   "source": [
    "import pandas as pd\n",
    "#import torch\n",
    "from sklearn.model_selection import train_test_split\n",
    "import matplotlib.pyplot as plt\n",
    "import tensorflow as tf\n",
    "import numpy as np\n",
    "from bs4 import BeautifulSoup\n",
    "from nltk.corpus import stopwords\n",
    "from nltk.stem import SnowballStemmer\n",
    "import nltk\n",
    "from collections import Counter\n",
    "import re\n",
    "# from datasets import load_dataset"
   ]
  },
  {
   "cell_type": "code",
   "execution_count": 34,
   "metadata": {},
   "outputs": [
    {
     "name": "stdout",
     "output_type": "stream",
     "text": [
      "Num GPUs Available:  1\n",
      "2.2.0\n",
      "Keras available from TensorFlow:  tensorflow.keras\n"
     ]
    }
   ],
   "source": [
    "print(\"Num GPUs Available: \", len(tf.config.list_physical_devices('GPU')))\n",
    "print(tf.__version__)\n",
    "print(\"Keras available from TensorFlow: \", tf.keras.__name__)  # Should print \"tensorflow.keras\"\n",
    "#print(torch.cuda.is_available())"
   ]
  },
  {
   "cell_type": "code",
   "execution_count": 35,
   "metadata": {},
   "outputs": [
    {
     "name": "stdout",
     "output_type": "stream",
     "text": [
      "(2152, 2)\n",
      "(2471, 2)\n",
      "                                             message  label\n",
      "0  Important Security Message You will not see th...      1\n",
      "1  NEW PDF MESSAGE FROM AMERICAN EXPRESS ONLINE F...      1\n",
      "2  Confirm Your recent Transactions You will not ...      1\n",
      "3  =?UTF-8?B?WW91ciBFbWFpbCDinIkg?=jose@monkey.or...      1\n",
      "4  confirm This Transaction You will not see this...      1\n",
      "                                             message  label\n",
      "0  Re: [R] How to solve difficult equations? plot...      0\n",
      "1  CNN Alerts: bush CNN Alerts: bush Alert Name: ...      0\n",
      "2  This weeks' component news: $34,000+ in prizes...      0\n",
      "3  Speech-dispatcher, Festival and Flite Hi, this...      0\n",
      "4  Information for Napster Napster Stock Quote No...      0\n"
     ]
    }
   ],
   "source": [
    "df_phishing = pd.read_csv('cleaned_phishing_emails.csv')\n",
    "df_ham = pd.read_csv('cleaned_ham_emails.csv')\n",
    "\n",
    "# Replace NaN values in the dataframe with empty strings, if any\n",
    "df_phishing['message'] = df_phishing['message'].fillna('')\n",
    "df_ham['message'] = df_ham['message'].fillna('')\n",
    "\n",
    "# Filter the DataFrame to keep only rows where the 'message' length is 10000 characters or shorter\n",
    "df_filtered = df_phishing[df_phishing['message'].str.len() <= 10000]\n",
    "df_ham = df_ham[df_ham['message'].str.len() <= 10000]\n",
    "\n",
    "# Update the original DataFrame if needed\n",
    "df_phishing = df_filtered\n",
    "\n",
    "#df_ham = df_ham.sample(n=1992, random_state=42)\n",
    "\n",
    "print(df_phishing.shape)\n",
    "print(df_ham.shape)\n",
    "print(df_phishing.head())\n",
    "print(df_ham.head())"
   ]
  },
  {
   "cell_type": "code",
   "execution_count": 37,
   "metadata": {},
   "outputs": [],
   "source": [
    "df_combined = pd.concat([df_ham, df_phishing], ignore_index=True)\n",
    "\n",
    "# Shuffle the combined DataFrame\n",
    "df = df_combined.sample(frac=1, random_state=42).reset_index(drop=True)\n",
    "\n",
    "msg_label = df['label'].values"
   ]
  },
  {
   "cell_type": "code",
   "execution_count": 38,
   "metadata": {},
   "outputs": [
    {
     "name": "stdout",
     "output_type": "stream",
     "text": [
      "Training set class distribution: [1963 1735]\n",
      "Test set class distribution: [508 417]\n"
     ]
    }
   ],
   "source": [
    "x_train, x_test, y_train, y_test = train_test_split(df[\"message\"], msg_label, test_size=0.2, random_state=42)\n",
    "\n",
    "# To check the distribution in the training and testing sets\n",
    "print(\"Training set class distribution:\", np.bincount(y_train))\n",
    "print(\"Test set class distribution:\", np.bincount(y_test))"
   ]
  },
  {
   "cell_type": "code",
   "execution_count": 39,
   "metadata": {},
   "outputs": [],
   "source": [
    "# Defining pre-processing parameters\n",
    "max_len = 300 \n",
    "trunc_type = 'post'\n",
    "padding_type = 'post'\n",
    "oov_tok = '<OOV>' # out of vocabulary token\n",
    "vocab_size = 5000"
   ]
  },
  {
   "cell_type": "code",
   "execution_count": 40,
   "metadata": {},
   "outputs": [],
   "source": [
    "from tensorflow.keras.preprocessing.text import Tokenizer\n",
    "\n",
    "tokenizer = Tokenizer(num_words = vocab_size, \n",
    "                      char_level = False,\n",
    "                      oov_token = oov_tok)\n",
    "tokenizer.fit_on_texts(x_train)"
   ]
  },
  {
   "cell_type": "code",
   "execution_count": 41,
   "metadata": {},
   "outputs": [
    {
     "data": {
      "text/plain": [
       "44985"
      ]
     },
     "execution_count": 41,
     "metadata": {},
     "output_type": "execute_result"
    }
   ],
   "source": [
    "# Get the word_index\n",
    "word_index = tokenizer.word_index\n",
    "total_words = len(word_index)\n",
    "total_words"
   ]
  },
  {
   "cell_type": "code",
   "execution_count": 42,
   "metadata": {},
   "outputs": [],
   "source": [
    "from tensorflow.keras.preprocessing.sequence import pad_sequences\n",
    "\n",
    "training_sequences = tokenizer.texts_to_sequences(x_train)\n",
    "training_padded = pad_sequences(training_sequences,\n",
    "                                maxlen = max_len,\n",
    "                                padding = padding_type,\n",
    "                                truncating = trunc_type)"
   ]
  },
  {
   "cell_type": "code",
   "execution_count": 43,
   "metadata": {},
   "outputs": [],
   "source": [
    "testing_sequences = tokenizer.texts_to_sequences(x_test)\n",
    "testing_padded = pad_sequences(testing_sequences,\n",
    "                               maxlen = max_len,\n",
    "                               padding = padding_type,\n",
    "                               truncating = trunc_type)"
   ]
  },
  {
   "cell_type": "code",
   "execution_count": 44,
   "metadata": {},
   "outputs": [
    {
     "name": "stdout",
     "output_type": "stream",
     "text": [
      "Shape of training tensor:  (3698, 300)\n",
      "Shape of testing tensor:  (925, 300)\n"
     ]
    }
   ],
   "source": [
    "print('Shape of training tensor: ', training_padded.shape)\n",
    "print('Shape of testing tensor: ', testing_padded.shape)"
   ]
  },
  {
   "cell_type": "code",
   "execution_count": 45,
   "metadata": {},
   "outputs": [
    {
     "name": "stdout",
     "output_type": "stream",
     "text": [
      "Model: \"sequential_2\"\n",
      "_________________________________________________________________\n",
      "Layer (type)                 Output Shape              Param #   \n",
      "=================================================================\n",
      "embedding_2 (Embedding)      (None, 300, 128)          640128    \n",
      "_________________________________________________________________\n",
      "spatial_dropout1d_2 (Spatial (None, 300, 128)          0         \n",
      "_________________________________________________________________\n",
      "lstm_2 (LSTM)                (None, 128)               131584    \n",
      "_________________________________________________________________\n",
      "dropout_2 (Dropout)          (None, 128)               0         \n",
      "_________________________________________________________________\n",
      "dense_2 (Dense)              (None, 1)                 129       \n",
      "=================================================================\n",
      "Total params: 771,841\n",
      "Trainable params: 771,841\n",
      "Non-trainable params: 0\n",
      "_________________________________________________________________\n"
     ]
    }
   ],
   "source": [
    "from tensorflow.keras.models import Sequential\n",
    "from tensorflow.keras.layers import Embedding, LSTM, Dense, SpatialDropout1D, Dropout\n",
    "\n",
    "embedding_dim = 128\n",
    "vocab_size = 5001\n",
    "max_len = 300\n",
    "drop_lstm = 0.2\n",
    "n_lstm = 128\n",
    "\n",
    "# Example LSTM model\n",
    "model = Sequential()\n",
    "model.add(Embedding(vocab_size, embedding_dim, input_length=max_len))  # Adjust dimensions as needed\n",
    "model.add(SpatialDropout1D(drop_lstm))\n",
    "model.add(LSTM(n_lstm, return_sequences=False))\n",
    "model.add(Dropout(drop_lstm))\n",
    "model.add(Dense(1, activation='sigmoid'))  # Binary classification\n",
    "\n",
    "# Compile the model\n",
    "model.compile(optimizer='adam', loss='binary_crossentropy', metrics=['accuracy'])\n",
    "model.summary()"
   ]
  },
  {
   "cell_type": "code",
   "execution_count": 46,
   "metadata": {},
   "outputs": [
    {
     "name": "stdout",
     "output_type": "stream",
     "text": [
      "Epoch 1/30\n",
      "116/116 [==============================] - 4s 36ms/step - loss: 0.4754 - accuracy: 0.7653 - val_loss: 0.2363 - val_accuracy: 0.9265\n",
      "Epoch 2/30\n",
      "116/116 [==============================] - 4s 33ms/step - loss: 0.1864 - accuracy: 0.9440 - val_loss: 0.1726 - val_accuracy: 0.9535\n",
      "Epoch 3/30\n",
      "116/116 [==============================] - 3s 30ms/step - loss: 0.1325 - accuracy: 0.9694 - val_loss: 0.1682 - val_accuracy: 0.9600\n",
      "Epoch 4/30\n",
      "116/116 [==============================] - 2s 19ms/step - loss: 0.2931 - accuracy: 0.9067 - val_loss: 0.2723 - val_accuracy: 0.9081\n",
      "Epoch 5/30\n",
      "116/116 [==============================] - 3s 28ms/step - loss: 0.2206 - accuracy: 0.9302 - val_loss: 0.1031 - val_accuracy: 0.9741\n",
      "Epoch 6/30\n",
      "116/116 [==============================] - 3s 28ms/step - loss: 0.1889 - accuracy: 0.9438 - val_loss: 0.2036 - val_accuracy: 0.9395\n",
      "Epoch 7/30\n",
      "116/116 [==============================] - 3s 29ms/step - loss: 0.1934 - accuracy: 0.9448 - val_loss: 0.1869 - val_accuracy: 0.9395\n",
      "Epoch 8/30\n",
      "116/116 [==============================] - 3s 28ms/step - loss: 0.1663 - accuracy: 0.9502 - val_loss: 0.1520 - val_accuracy: 0.9578\n",
      "Epoch 9/30\n",
      "116/116 [==============================] - 3s 29ms/step - loss: 0.1498 - accuracy: 0.9584 - val_loss: 0.1385 - val_accuracy: 0.9611\n",
      "Epoch 10/30\n",
      "116/116 [==============================] - 3s 28ms/step - loss: 0.0872 - accuracy: 0.9762 - val_loss: 0.0758 - val_accuracy: 0.9795\n",
      "Epoch 11/30\n",
      "116/116 [==============================] - 3s 29ms/step - loss: 0.1121 - accuracy: 0.9776 - val_loss: 0.0665 - val_accuracy: 0.9870\n",
      "Epoch 12/30\n",
      "116/116 [==============================] - 3s 28ms/step - loss: 0.0871 - accuracy: 0.9827 - val_loss: 0.0612 - val_accuracy: 0.9881\n",
      "Epoch 13/30\n",
      "116/116 [==============================] - 3s 28ms/step - loss: 0.0732 - accuracy: 0.9859 - val_loss: 0.0592 - val_accuracy: 0.9892\n",
      "Epoch 14/30\n",
      "116/116 [==============================] - 2s 18ms/step - loss: 0.0765 - accuracy: 0.9851 - val_loss: 0.0569 - val_accuracy: 0.9892\n",
      "Epoch 15/30\n",
      "116/116 [==============================] - 3s 28ms/step - loss: 0.0810 - accuracy: 0.9835 - val_loss: 0.0697 - val_accuracy: 0.9859\n",
      "Epoch 16/30\n",
      "116/116 [==============================] - 3s 29ms/step - loss: 0.0691 - accuracy: 0.9862 - val_loss: 0.0824 - val_accuracy: 0.9838\n",
      "Epoch 17/30\n",
      "116/116 [==============================] - 3s 29ms/step - loss: 0.0749 - accuracy: 0.9849 - val_loss: 0.0630 - val_accuracy: 0.9892\n",
      "Epoch 18/30\n",
      "116/116 [==============================] - 3s 29ms/step - loss: 0.0871 - accuracy: 0.9805 - val_loss: 0.0872 - val_accuracy: 0.9816\n",
      "Epoch 19/30\n",
      "116/116 [==============================] - 4s 32ms/step - loss: 0.0751 - accuracy: 0.9846 - val_loss: 0.1167 - val_accuracy: 0.9751\n",
      "Epoch 20/30\n",
      "116/116 [==============================] - 4s 33ms/step - loss: 0.0742 - accuracy: 0.9849 - val_loss: 0.0712 - val_accuracy: 0.9849\n",
      "Epoch 21/30\n",
      "116/116 [==============================] - 4s 33ms/step - loss: 0.0857 - accuracy: 0.9803 - val_loss: 0.1483 - val_accuracy: 0.9589\n",
      "Epoch 22/30\n",
      "116/116 [==============================] - 4s 33ms/step - loss: 0.1398 - accuracy: 0.9624 - val_loss: 0.1248 - val_accuracy: 0.9719\n",
      "Epoch 23/30\n",
      "116/116 [==============================] - 3s 22ms/step - loss: 0.0731 - accuracy: 0.9792 - val_loss: 0.0817 - val_accuracy: 0.9773\n",
      "Epoch 24/30\n",
      "116/116 [==============================] - 4s 33ms/step - loss: 0.0477 - accuracy: 0.9900 - val_loss: 0.0418 - val_accuracy: 0.9924\n",
      "Epoch 25/30\n",
      "116/116 [==============================] - 4s 32ms/step - loss: 0.0313 - accuracy: 0.9935 - val_loss: 0.0416 - val_accuracy: 0.9914\n",
      "Epoch 26/30\n",
      "116/116 [==============================] - 4s 34ms/step - loss: 0.2457 - accuracy: 0.9151 - val_loss: 0.1398 - val_accuracy: 0.9568\n",
      "Epoch 27/30\n",
      "116/116 [==============================] - 4s 33ms/step - loss: 0.0728 - accuracy: 0.9822 - val_loss: 0.2189 - val_accuracy: 0.9395\n",
      "Epoch 28/30\n",
      "116/116 [==============================] - 4s 32ms/step - loss: 0.0442 - accuracy: 0.9919 - val_loss: 0.0688 - val_accuracy: 0.9849\n",
      "Epoch 29/30\n",
      "116/116 [==============================] - 4s 32ms/step - loss: 0.0302 - accuracy: 0.9946 - val_loss: 0.0797 - val_accuracy: 0.9849\n",
      "Epoch 30/30\n",
      "116/116 [==============================] - 4s 33ms/step - loss: 0.0346 - accuracy: 0.9924 - val_loss: 0.0697 - val_accuracy: 0.9859\n"
     ]
    }
   ],
   "source": [
    "# Train the model\n",
    "history = model.fit(training_padded, y_train, epochs=30, validation_data=(testing_padded, y_test), batch_size=32)"
   ]
  },
  {
   "cell_type": "code",
   "execution_count": 14,
   "metadata": {},
   "outputs": [
    {
     "data": {
      "image/png": "[encoded data removed]",
      "text/plain": [
       "<Figure size 864x288 with 2 Axes>"
      ]
     },
     "metadata": {
      "needs_background": "light"
     },
     "output_type": "display_data"
    }
   ],
   "source": [
    "# Plot training & validation accuracy and loss values\n",
    "plt.figure(figsize=(12, 4))\n",
    "\n",
    "# Plot accuracy\n",
    "plt.subplot(1, 2, 1)\n",
    "plt.plot(history.history['accuracy'], label='Train Accuracy')\n",
    "plt.plot(history.history['val_accuracy'], label='Validation Accuracy')\n",
    "plt.title('Model Accuracy')\n",
    "plt.xlabel('Epoch')\n",
    "plt.ylabel('Accuracy')\n",
    "plt.legend(loc='upper left')\n",
    "\n",
    "# Plot loss\n",
    "plt.subplot(1, 2, 2)\n",
    "plt.plot(history.history['loss'], label='Train Loss')\n",
    "plt.plot(history.history['val_loss'], label='Validation Loss')\n",
    "plt.title('Model Loss')\n",
    "plt.xlabel('Epoch')\n",
    "plt.ylabel('Loss')\n",
    "plt.legend(loc='upper left')\n",
    "\n",
    "plt.tight_layout()\n",
    "plt.show()"
   ]
  },
  {
   "cell_type": "code",
   "execution_count": 47,
   "metadata": {},
   "outputs": [
    {
     "name": "stdout",
     "output_type": "stream",
     "text": [
      "Classificaiton Report:\n",
      "              precision    recall  f1-score   support\n",
      "\n",
      "           0       0.98      0.99      0.99       508\n",
      "           1       0.99      0.98      0.98       417\n",
      "\n",
      "    accuracy                           0.99       925\n",
      "   macro avg       0.99      0.99      0.99       925\n",
      "weighted avg       0.99      0.99      0.99       925\n",
      "\n",
      "Accuracy: 0.98595\n",
      "Precision: 0.98637\n",
      "Recall: 0.98527\n",
      "F1-score: 0.98579\n",
      "False Negative Rate: 0.02158\n"
     ]
    },
    {
     "data": {
      "image/png": "[encoded data removed]",
      "text/plain": [
       "<Figure size 504x432 with 2 Axes>"
      ]
     },
     "metadata": {
      "needs_background": "light"
     },
     "output_type": "display_data"
    }
   ],
   "source": [
    "from sklearn.metrics import classification_report, accuracy_score, precision_score, recall_score, f1_score, confusion_matrix\n",
    "import seaborn as sns\n",
    "\n",
    "y_pred_probs = model.predict(testing_padded)\n",
    "\n",
    "# 2. For binary classification, you can threshold at 0.5 to get class predictions\n",
    "y_pred = (y_pred_probs > 0.5).astype(int)\n",
    "\n",
    "# 4. Generate the classification report\n",
    "report = classification_report(y_test, y_pred, digits=2)\n",
    "\n",
    "# 5. Print the classification report\n",
    "print(\"Classificaiton Report:\")\n",
    "print(report)\n",
    "\n",
    "# Calculate metrics\n",
    "accuracy = accuracy_score(y_test, y_pred)\n",
    "precision = precision_score(y_test, y_pred, average='macro')\n",
    "recall = recall_score(y_test, y_pred, average='macro')\n",
    "f1 = f1_score(y_test, y_pred, average='macro')\n",
    "\n",
    "# Print the metrics\n",
    "print(f\"Accuracy: {accuracy:.5f}\")\n",
    "print(f\"Precision: {precision:.5f}\")\n",
    "print(f\"Recall: {recall:.5f}\")\n",
    "print(f\"F1-score: {f1:.5f}\")\n",
    "\n",
    "# Calculate the false negative rate\n",
    "# Get the confusion matrix\n",
    "cm = confusion_matrix(y_test, y_pred)\n",
    "\n",
    "# False Negative (FN) is the second row, first column in binary classification\n",
    "false_negatives = cm[1][0]\n",
    "# True Positives (TP) is the second row, second column\n",
    "true_positives = cm[1][1]\n",
    "# Calculate false negative rate\n",
    "fn_rate = false_negatives / (false_negatives + true_positives)\n",
    "\n",
    "# Print the false negative rate\n",
    "print(f\"False Negative Rate: {fn_rate:.5f}\")\n",
    "\n",
    "# Normalize the confusion matrix to percentages\n",
    "conf_matrix_percent = cm.astype('float') / cm.sum(axis=1)[:, np.newaxis]\n",
    "\n",
    "fig, ax = plt.subplots(figsize=(7, 6))\n",
    "heatmap = sns.heatmap(conf_matrix_percent, annot=True, fmt='.3f', cmap='Blues', cbar=True, linewidths=0.5,\n",
    "            xticklabels=['Legitimate', 'Phishing'], yticklabels=['Legitimate', 'Phishing'], annot_kws={\"size\": 14})\n",
    "ax.set_title(f\"Confusion Matrix for LSTM\", fontsize=16)\n",
    "ax.set_xlabel('Predicted Label', fontsize=14)\n",
    "ax.set_ylabel('True Label', fontsize=14)\n",
    "plt.xticks(fontsize=14) \n",
    "plt.yticks(fontsize=14)\n",
    "# Modify the color bar\n",
    "cbar = heatmap.collections[0].colorbar\n",
    "cbar.ax.tick_params(labelsize=14)  # Increase font size of color bar ticks\n",
    "plt.show()"
   ]
  },
  {
   "cell_type": "code",
   "execution_count": null,
   "metadata": {},
   "outputs": [],
   "source": []
  }
 ],
 "metadata": {
  "kernelspec": {
   "display_name": "python3.6-2",
   "language": "python",
   "name": "python3"
  },
  "language_info": {
   "codemirror_mode": {
    "name": "ipython",
    "version": 3
   },
   "file_extension": ".py",
   "mimetype": "text/x-python",
   "name": "python",
   "nbconvert_exporter": "python",
   "pygments_lexer": "ipython3",
   "version": "3.6.13"
  }
 },
 "nbformat": 4,
 "nbformat_minor": 2
}
