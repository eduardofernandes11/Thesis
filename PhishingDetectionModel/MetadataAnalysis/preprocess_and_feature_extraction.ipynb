{
 "cells": [
  {
   "cell_type": "markdown",
   "metadata": {},
   "source": [
    "## Import data "
   ]
  },
  {
   "cell_type": "code",
   "execution_count": 1,
   "metadata": {},
   "outputs": [],
   "source": [
    "import numpy as np\n",
    "import pandas as pd\n",
    "import re\n",
    "import time\n",
    "import email.utils"
   ]
  },
  {
   "cell_type": "code",
   "execution_count": 2,
   "metadata": {},
   "outputs": [],
   "source": [
    "# Load the phishing emails\n",
    "source_directory = '../../Data/JosePhishingEmails/extracted/'\n",
    "\n",
    "PHISHING_FILE = source_directory + 'extracted_headers.csv'\n",
    "\n",
    "df_phishing = pd.read_csv(PHISHING_FILE)\n",
    "\n",
    "df_phishing.head(1)\n",
    "\n",
    "df_phishing = df_phishing.drop_duplicates()"
   ]
  },
  {
   "cell_type": "code",
   "execution_count": 3,
   "metadata": {},
   "outputs": [
    {
     "data": {
      "text/html": [
       "<div>\n",
       "<style scoped>\n",
       "    .dataframe tbody tr th:only-of-type {\n",
       "        vertical-align: middle;\n",
       "    }\n",
       "\n",
       "    .dataframe tbody tr th {\n",
       "        vertical-align: top;\n",
       "    }\n",
       "\n",
       "    .dataframe thead th {\n",
       "        text-align: right;\n",
       "    }\n",
       "</style>\n",
       "<table border=\"1\" class=\"dataframe\">\n",
       "  <thead>\n",
       "    <tr style=\"text-align: right;\">\n",
       "      <th></th>\n",
       "      <th>received1</th>\n",
       "      <th>received2</th>\n",
       "      <th>received3</th>\n",
       "      <th>received4</th>\n",
       "      <th>hops</th>\n",
       "      <th>subject</th>\n",
       "      <th>date</th>\n",
       "      <th>message-id</th>\n",
       "      <th>from</th>\n",
       "      <th>return-path</th>\n",
       "      <th>...</th>\n",
       "      <th>list-id</th>\n",
       "      <th>precedence</th>\n",
       "      <th>delivered-to</th>\n",
       "      <th>list-unsubscribe</th>\n",
       "      <th>sender</th>\n",
       "      <th>reply-to</th>\n",
       "      <th>received-spf</th>\n",
       "      <th>x-original-to</th>\n",
       "      <th>content-disposition</th>\n",
       "      <th>label</th>\n",
       "    </tr>\n",
       "  </thead>\n",
       "  <tbody>\n",
       "    <tr>\n",
       "      <th>0</th>\n",
       "      <td>from mda3cf.sendnode.com (mda3cf.sendnode.com ...</td>\n",
       "      <td>NaN</td>\n",
       "      <td>NaN</td>\n",
       "      <td>NaN</td>\n",
       "      <td>1</td>\n",
       "      <td>=?UTF-8?Q?Bitte_best=C3=A4tigen_Sie_Ihr_Newsle...</td>\n",
       "      <td>Thu, 27 Aug 2020 18:54:29 +0200</td>\n",
       "      <td>&lt;6cc.4.199@sendnode.com&gt;</td>\n",
       "      <td>=?UTF-8?Q?Sparkasse_zu_L=C3=BCbeck_AG?=\\n &lt;new...</td>\n",
       "      <td>&lt;hbbj.d.afbi=bounce@bounces.sendnode.com&gt;</td>\n",
       "      <td>...</td>\n",
       "      <td>&lt;201c.4.sendnode.com&gt;</td>\n",
       "      <td>NaN</td>\n",
       "      <td>mailbox@privacy-mail.org</td>\n",
       "      <td>NaN</td>\n",
       "      <td>NaN</td>\n",
       "      <td>&lt;newsletter@sparkasse-luebeck.de&gt;</td>\n",
       "      <td>pass (mx2e90: domain of bounces.sendnode.com d...</td>\n",
       "      <td>christopher.casto@privacy-mail.org</td>\n",
       "      <td>NaN</td>\n",
       "      <td>0</td>\n",
       "    </tr>\n",
       "  </tbody>\n",
       "</table>\n",
       "<p>1 rows × 25 columns</p>\n",
       "</div>"
      ],
      "text/plain": [
       "                                           received1 received2 received3  \\\n",
       "0  from mda3cf.sendnode.com (mda3cf.sendnode.com ...       NaN       NaN   \n",
       "\n",
       "  received4  hops                                            subject  \\\n",
       "0       NaN     1  =?UTF-8?Q?Bitte_best=C3=A4tigen_Sie_Ihr_Newsle...   \n",
       "\n",
       "                              date                message-id  \\\n",
       "0  Thu, 27 Aug 2020 18:54:29 +0200  <6cc.4.199@sendnode.com>   \n",
       "\n",
       "                                                from  \\\n",
       "0  =?UTF-8?Q?Sparkasse_zu_L=C3=BCbeck_AG?=\\n <new...   \n",
       "\n",
       "                                 return-path  ...                list-id  \\\n",
       "0  <hbbj.d.afbi=bounce@bounces.sendnode.com>  ...  <201c.4.sendnode.com>   \n",
       "\n",
       "  precedence              delivered-to list-unsubscribe sender  \\\n",
       "0        NaN  mailbox@privacy-mail.org              NaN    NaN   \n",
       "\n",
       "                            reply-to  \\\n",
       "0  <newsletter@sparkasse-luebeck.de>   \n",
       "\n",
       "                                        received-spf  \\\n",
       "0  pass (mx2e90: domain of bounces.sendnode.com d...   \n",
       "\n",
       "                        x-original-to content-disposition label  \n",
       "0  christopher.casto@privacy-mail.org                 NaN     0  \n",
       "\n",
       "[1 rows x 25 columns]"
      ]
     },
     "execution_count": 3,
     "metadata": {},
     "output_type": "execute_result"
    }
   ],
   "source": [
    "# Load the non-phishing emails\n",
    "HAM_FILE = '../../Data/HamEmails/extracted/extracted_2544_headers.csv'\n",
    "\n",
    "df_ham = pd.read_csv(HAM_FILE)\n",
    "\n",
    "df_ham.head(1)"
   ]
  },
  {
   "cell_type": "code",
   "execution_count": 4,
   "metadata": {},
   "outputs": [
    {
     "name": "stdout",
     "output_type": "stream",
     "text": [
      "The DataFrame with the most columns is df_phishing with 52 columns.\n"
     ]
    }
   ],
   "source": [
    "# DataFrame with the most columns and the column count\n",
    "dfs = {\n",
    "    'df': df_ham,\n",
    "    'df_phishing': df_phishing,\n",
    "}\n",
    "max_columns_name, max_columns_df = max(dfs.items(), key=lambda x: x[1].shape[1])\n",
    "\n",
    "print(f\"The DataFrame with the most columns is {max_columns_name} with {max_columns_df.shape[1]} columns.\")"
   ]
  },
  {
   "cell_type": "code",
   "execution_count": 5,
   "metadata": {},
   "outputs": [
    {
     "data": {
      "text/html": [
       "<div>\n",
       "<style scoped>\n",
       "    .dataframe tbody tr th:only-of-type {\n",
       "        vertical-align: middle;\n",
       "    }\n",
       "\n",
       "    .dataframe tbody tr th {\n",
       "        vertical-align: top;\n",
       "    }\n",
       "\n",
       "    .dataframe thead th {\n",
       "        text-align: right;\n",
       "    }\n",
       "</style>\n",
       "<table border=\"1\" class=\"dataframe\">\n",
       "  <thead>\n",
       "    <tr style=\"text-align: right;\">\n",
       "      <th></th>\n",
       "      <th>received1</th>\n",
       "      <th>received2</th>\n",
       "      <th>received3</th>\n",
       "      <th>received4</th>\n",
       "      <th>received5</th>\n",
       "      <th>received6</th>\n",
       "      <th>received7</th>\n",
       "      <th>received8</th>\n",
       "      <th>received9</th>\n",
       "      <th>received10</th>\n",
       "      <th>...</th>\n",
       "      <th>in-reply-to</th>\n",
       "      <th>user-agent</th>\n",
       "      <th>thread-index</th>\n",
       "      <th>cc</th>\n",
       "      <th>received-spf</th>\n",
       "      <th>content-disposition</th>\n",
       "      <th>mailing-list</th>\n",
       "      <th>domainkey-signature</th>\n",
       "      <th>importance</th>\n",
       "      <th>label</th>\n",
       "    </tr>\n",
       "  </thead>\n",
       "  <tbody>\n",
       "    <tr>\n",
       "      <th>5077</th>\n",
       "      <td>from omr2.cc.vt.edu (outbound.smtp.vt.edu [198...</td>\n",
       "      <td>from mr5.cc.vt.edu (mr5.cc.ipv6.vt.edu [IPv6:2...</td>\n",
       "      <td>from Unknown (h80ad7345.dhcp.vt.edu [128.173.1...</td>\n",
       "      <td>NaN</td>\n",
       "      <td>NaN</td>\n",
       "      <td>NaN</td>\n",
       "      <td>NaN</td>\n",
       "      <td>NaN</td>\n",
       "      <td>NaN</td>\n",
       "      <td>NaN</td>\n",
       "      <td>...</td>\n",
       "      <td>NaN</td>\n",
       "      <td>NaN</td>\n",
       "      <td>NaN</td>\n",
       "      <td>NaN</td>\n",
       "      <td>NaN</td>\n",
       "      <td>NaN</td>\n",
       "      <td>NaN</td>\n",
       "      <td>NaN</td>\n",
       "      <td>NaN</td>\n",
       "      <td>1</td>\n",
       "    </tr>\n",
       "  </tbody>\n",
       "</table>\n",
       "<p>1 rows × 52 columns</p>\n",
       "</div>"
      ],
      "text/plain": [
       "                                              received1  \\\n",
       "5077  from omr2.cc.vt.edu (outbound.smtp.vt.edu [198...   \n",
       "\n",
       "                                              received2  \\\n",
       "5077  from mr5.cc.vt.edu (mr5.cc.ipv6.vt.edu [IPv6:2...   \n",
       "\n",
       "                                              received3 received4 received5  \\\n",
       "5077  from Unknown (h80ad7345.dhcp.vt.edu [128.173.1...       NaN       NaN   \n",
       "\n",
       "     received6 received7 received8 received9 received10  ...  in-reply-to  \\\n",
       "5077       NaN       NaN       NaN       NaN        NaN  ...          NaN   \n",
       "\n",
       "     user-agent thread-index   cc received-spf content-disposition  \\\n",
       "5077        NaN          NaN  NaN          NaN                 NaN   \n",
       "\n",
       "     mailing-list domainkey-signature importance label  \n",
       "5077          NaN                 NaN        NaN     1  \n",
       "\n",
       "[1 rows x 52 columns]"
      ]
     },
     "execution_count": 5,
     "metadata": {},
     "output_type": "execute_result"
    }
   ],
   "source": [
    "# Ensure all DataFrames have the same columns as df2015, adding missing ones with NaN values\n",
    "dfs_aligned = [d[1].reindex(columns=df_phishing.columns, fill_value=np.nan) for d in dfs.items()]\n",
    "\n",
    "# Concatenate all DataFrames into one, ignoring the original index\n",
    "df_combined = pd.concat(dfs_aligned, ignore_index=True)\n",
    "\n",
    "df_combined.tail(1)"
   ]
  },
  {
   "cell_type": "markdown",
   "metadata": {},
   "source": [
    "## Dataset Information"
   ]
  },
  {
   "cell_type": "code",
   "execution_count": 6,
   "metadata": {},
   "outputs": [
    {
     "data": {
      "text/plain": [
       "0    2544\n",
       "1    2534\n",
       "Name: label, dtype: int64"
      ]
     },
     "execution_count": 6,
     "metadata": {},
     "output_type": "execute_result"
    }
   ],
   "source": [
    "df_combined['label'].value_counts()"
   ]
  },
  {
   "cell_type": "code",
   "execution_count": 7,
   "metadata": {},
   "outputs": [
    {
     "data": {
      "text/plain": [
       "array(['received1', 'received2', 'received3', 'received4', 'received5',\n",
       "       'received6', 'received7', 'received8', 'received9', 'received10',\n",
       "       'hops', 'subject', 'date', 'message-id', 'from', 'return-path',\n",
       "       'to', 'content-type', 'mime-version', 'x-mailer',\n",
       "       'content-transfer-encoding', 'x-mimeole', 'x-priority', 'list-id',\n",
       "       'x-virus-scanned', 'status', 'content-length', 'precedence',\n",
       "       'delivered-to', 'list-unsubscribe', 'list-post', 'list-help',\n",
       "       'x-msmail-priority', 'x-spam-status', 'sender', 'x-beenthere',\n",
       "       'list-archive', 'reply-to', 'x-virus-status', 'x-spam-level',\n",
       "       'x-spam-checker-version', 'references', 'in-reply-to',\n",
       "       'user-agent', 'thread-index', 'cc', 'received-spf',\n",
       "       'content-disposition', 'mailing-list', 'domainkey-signature',\n",
       "       'importance', 'label'], dtype=object)"
      ]
     },
     "execution_count": 7,
     "metadata": {},
     "output_type": "execute_result"
    }
   ],
   "source": [
    "df_combined.columns.values"
   ]
  },
  {
   "cell_type": "code",
   "execution_count": 8,
   "metadata": {},
   "outputs": [
    {
     "name": "stdout",
     "output_type": "stream",
     "text": [
      "<class 'pandas.core.frame.DataFrame'>\n",
      "RangeIndex: 5078 entries, 0 to 5077\n",
      "Data columns (total 52 columns):\n",
      " #   Column                     Non-Null Count  Dtype  \n",
      "---  ------                     --------------  -----  \n",
      " 0   received1                  5072 non-null   object \n",
      " 1   received2                  3327 non-null   object \n",
      " 2   received3                  992 non-null    object \n",
      " 3   received4                  400 non-null    object \n",
      " 4   received5                  215 non-null    object \n",
      " 5   received6                  155 non-null    object \n",
      " 6   received7                  45 non-null     object \n",
      " 7   received8                  15 non-null     object \n",
      " 8   received9                  4 non-null      object \n",
      " 9   received10                 1 non-null      object \n",
      " 10  hops                       5078 non-null   int64  \n",
      " 11  subject                    5073 non-null   object \n",
      " 12  date                       5023 non-null   object \n",
      " 13  message-id                 4730 non-null   object \n",
      " 14  from                       5078 non-null   object \n",
      " 15  return-path                5072 non-null   object \n",
      " 16  to                         4965 non-null   object \n",
      " 17  content-type               5068 non-null   object \n",
      " 18  mime-version               5055 non-null   object \n",
      " 19  x-mailer                   1686 non-null   object \n",
      " 20  content-transfer-encoding  1054 non-null   object \n",
      " 21  x-mimeole                  64 non-null     object \n",
      " 22  x-priority                 211 non-null    object \n",
      " 23  list-id                    1315 non-null   object \n",
      " 24  x-virus-scanned            191 non-null    object \n",
      " 25  status                     2488 non-null   object \n",
      " 26  content-length             2 non-null      float64\n",
      " 27  precedence                 781 non-null    object \n",
      " 28  delivered-to               5072 non-null   object \n",
      " 29  list-unsubscribe           2255 non-null   object \n",
      " 30  list-post                  2 non-null      object \n",
      " 31  list-help                  2 non-null      object \n",
      " 32  x-msmail-priority          82 non-null     object \n",
      " 33  x-spam-status              984 non-null    object \n",
      " 34  sender                     500 non-null    object \n",
      " 35  x-beenthere                2 non-null      object \n",
      " 36  list-archive               2 non-null      object \n",
      " 37  reply-to                   2451 non-null   object \n",
      " 38  x-virus-status             9 non-null      object \n",
      " 39  x-spam-level               20 non-null     object \n",
      " 40  x-spam-checker-version     16 non-null     object \n",
      " 41  references                 80 non-null     object \n",
      " 42  in-reply-to                53 non-null     object \n",
      " 43  user-agent                 23 non-null     object \n",
      " 44  thread-index               199 non-null    object \n",
      " 45  cc                         33 non-null     object \n",
      " 46  received-spf               2675 non-null   object \n",
      " 47  content-disposition        6 non-null      object \n",
      " 48  mailing-list               2 non-null      object \n",
      " 49  domainkey-signature        81 non-null     object \n",
      " 50  importance                 51 non-null     object \n",
      " 51  label                      5078 non-null   int64  \n",
      "dtypes: float64(1), int64(2), object(49)\n",
      "memory usage: 2.0+ MB\n"
     ]
    }
   ],
   "source": [
    "df_combined.info()"
   ]
  },
  {
   "cell_type": "code",
   "execution_count": 9,
   "metadata": {},
   "outputs": [
    {
     "data": {
      "text/html": [
       "<div>\n",
       "<style scoped>\n",
       "    .dataframe tbody tr th:only-of-type {\n",
       "        vertical-align: middle;\n",
       "    }\n",
       "\n",
       "    .dataframe tbody tr th {\n",
       "        vertical-align: top;\n",
       "    }\n",
       "\n",
       "    .dataframe thead th {\n",
       "        text-align: right;\n",
       "    }\n",
       "</style>\n",
       "<table border=\"1\" class=\"dataframe\">\n",
       "  <thead>\n",
       "    <tr style=\"text-align: right;\">\n",
       "      <th></th>\n",
       "      <th>hops</th>\n",
       "      <th>content-length</th>\n",
       "      <th>label</th>\n",
       "    </tr>\n",
       "  </thead>\n",
       "  <tbody>\n",
       "    <tr>\n",
       "      <th>count</th>\n",
       "      <td>5078.000000</td>\n",
       "      <td>2.000000</td>\n",
       "      <td>5078.000000</td>\n",
       "    </tr>\n",
       "    <tr>\n",
       "      <th>mean</th>\n",
       "      <td>2.013785</td>\n",
       "      <td>276635.000000</td>\n",
       "      <td>0.499015</td>\n",
       "    </tr>\n",
       "    <tr>\n",
       "      <th>std</th>\n",
       "      <td>1.153651</td>\n",
       "      <td>205906.666254</td>\n",
       "      <td>0.500048</td>\n",
       "    </tr>\n",
       "    <tr>\n",
       "      <th>min</th>\n",
       "      <td>0.000000</td>\n",
       "      <td>131037.000000</td>\n",
       "      <td>0.000000</td>\n",
       "    </tr>\n",
       "    <tr>\n",
       "      <th>25%</th>\n",
       "      <td>1.000000</td>\n",
       "      <td>203836.000000</td>\n",
       "      <td>0.000000</td>\n",
       "    </tr>\n",
       "    <tr>\n",
       "      <th>50%</th>\n",
       "      <td>2.000000</td>\n",
       "      <td>276635.000000</td>\n",
       "      <td>0.000000</td>\n",
       "    </tr>\n",
       "    <tr>\n",
       "      <th>75%</th>\n",
       "      <td>2.000000</td>\n",
       "      <td>349434.000000</td>\n",
       "      <td>1.000000</td>\n",
       "    </tr>\n",
       "    <tr>\n",
       "      <th>max</th>\n",
       "      <td>10.000000</td>\n",
       "      <td>422233.000000</td>\n",
       "      <td>1.000000</td>\n",
       "    </tr>\n",
       "  </tbody>\n",
       "</table>\n",
       "</div>"
      ],
      "text/plain": [
       "              hops  content-length        label\n",
       "count  5078.000000        2.000000  5078.000000\n",
       "mean      2.013785   276635.000000     0.499015\n",
       "std       1.153651   205906.666254     0.500048\n",
       "min       0.000000   131037.000000     0.000000\n",
       "25%       1.000000   203836.000000     0.000000\n",
       "50%       2.000000   276635.000000     0.000000\n",
       "75%       2.000000   349434.000000     1.000000\n",
       "max      10.000000   422233.000000     1.000000"
      ]
     },
     "execution_count": 9,
     "metadata": {},
     "output_type": "execute_result"
    }
   ],
   "source": [
    "df_combined.describe()"
   ]
  },
  {
   "cell_type": "code",
   "execution_count": 10,
   "metadata": {},
   "outputs": [
    {
     "data": {
      "text/plain": [
       "received1                    5072\n",
       "received2                    3326\n",
       "received3                     992\n",
       "received4                     400\n",
       "received5                     215\n",
       "received6                     155\n",
       "received7                      45\n",
       "received8                      15\n",
       "received9                       4\n",
       "received10                      1\n",
       "hops                           11\n",
       "subject                      4134\n",
       "date                         4766\n",
       "message-id                   4725\n",
       "from                         2200\n",
       "return-path                  4092\n",
       "to                            451\n",
       "content-type                 3740\n",
       "mime-version                    5\n",
       "x-mailer                      161\n",
       "content-transfer-encoding       7\n",
       "x-mimeole                      20\n",
       "x-priority                      8\n",
       "list-id                        21\n",
       "x-virus-scanned               149\n",
       "status                          3\n",
       "content-length                  2\n",
       "precedence                      2\n",
       "delivered-to                    6\n",
       "list-unsubscribe             1824\n",
       "list-post                       1\n",
       "list-help                       1\n",
       "x-msmail-priority               5\n",
       "x-spam-status                 586\n",
       "sender                         42\n",
       "x-beenthere                     1\n",
       "list-archive                    1\n",
       "reply-to                      609\n",
       "x-virus-status                  3\n",
       "x-spam-level                   13\n",
       "x-spam-checker-version         15\n",
       "references                     80\n",
       "in-reply-to                    53\n",
       "user-agent                     13\n",
       "thread-index                  198\n",
       "cc                             20\n",
       "received-spf                 2238\n",
       "content-disposition             2\n",
       "mailing-list                    1\n",
       "domainkey-signature            81\n",
       "importance                      6\n",
       "label                           2\n",
       "dtype: int64"
      ]
     },
     "execution_count": 10,
     "metadata": {},
     "output_type": "execute_result"
    }
   ],
   "source": [
    "df_combined.nunique()"
   ]
  },
  {
   "cell_type": "code",
   "execution_count": 11,
   "metadata": {},
   "outputs": [
    {
     "data": {
      "text/plain": [
       "array([ 1,  2,  3,  4,  6,  5,  8,  0,  9,  7, 10])"
      ]
     },
     "execution_count": 11,
     "metadata": {},
     "output_type": "execute_result"
    }
   ],
   "source": [
    "df_combined['hops'].unique()"
   ]
  },
  {
   "cell_type": "code",
   "execution_count": 12,
   "metadata": {},
   "outputs": [
    {
     "data": {
      "text/plain": [
       "['hops', 'from', 'label']"
      ]
     },
     "execution_count": 12,
     "metadata": {},
     "output_type": "execute_result"
    }
   ],
   "source": [
    "# Columns with no missing values\n",
    "df_combined.columns[~df_combined.isna().any()].tolist()"
   ]
  },
  {
   "cell_type": "code",
   "execution_count": 13,
   "metadata": {},
   "outputs": [
    {
     "data": {
      "text/plain": [
       "['received1',\n",
       " 'received2',\n",
       " 'received3',\n",
       " 'received4',\n",
       " 'received5',\n",
       " 'received6',\n",
       " 'received7',\n",
       " 'received8',\n",
       " 'received9',\n",
       " 'received10',\n",
       " 'subject',\n",
       " 'date',\n",
       " 'message-id',\n",
       " 'return-path',\n",
       " 'to',\n",
       " 'content-type',\n",
       " 'mime-version',\n",
       " 'x-mailer',\n",
       " 'content-transfer-encoding',\n",
       " 'x-mimeole',\n",
       " 'x-priority',\n",
       " 'list-id',\n",
       " 'x-virus-scanned',\n",
       " 'status',\n",
       " 'content-length',\n",
       " 'precedence',\n",
       " 'delivered-to',\n",
       " 'list-unsubscribe',\n",
       " 'list-post',\n",
       " 'list-help',\n",
       " 'x-msmail-priority',\n",
       " 'x-spam-status',\n",
       " 'sender',\n",
       " 'x-beenthere',\n",
       " 'list-archive',\n",
       " 'reply-to',\n",
       " 'x-virus-status',\n",
       " 'x-spam-level',\n",
       " 'x-spam-checker-version',\n",
       " 'references',\n",
       " 'in-reply-to',\n",
       " 'user-agent',\n",
       " 'thread-index',\n",
       " 'cc',\n",
       " 'received-spf',\n",
       " 'content-disposition',\n",
       " 'mailing-list',\n",
       " 'domainkey-signature',\n",
       " 'importance']"
      ]
     },
     "execution_count": 13,
     "metadata": {},
     "output_type": "execute_result"
    }
   ],
   "source": [
    "# Columns with missing values\n",
    "df_combined.columns[df_combined.isna().any()].tolist()"
   ]
  },
  {
   "cell_type": "markdown",
   "metadata": {},
   "source": [
    "## Data preprocessing"
   ]
  },
  {
   "cell_type": "code",
   "execution_count": 14,
   "metadata": {},
   "outputs": [],
   "source": [
    "initial_features_list = ['received1', 'received2', 'received3', 'received4', 'received5',\n",
    "       'received6', 'received7', 'received8', 'subject', 'date',\n",
    "       'message-id', 'from', 'return-path', 'to', 'content-type',\n",
    "       'mime-version', 'x-mailer', 'content-transfer-encoding',\n",
    "       'x-mimeole', 'x-priority', 'list-id', 'x-virus-scanned', 'status',\n",
    "       'content-length', 'precedence', 'delivered-to', 'list-unsubscribe',\n",
    "       'list-post', 'list-help', 'x-msmail-priority', 'x-spam-status',\n",
    "       'sender', 'x-beenthere', 'list-archive', 'reply-to',\n",
    "       'x-virus-status', 'x-spam-level', 'x-spam-checker-version',\n",
    "       'references', 'in-reply-to', 'user-agent', 'thread-index', 'cc',\n",
    "       'received-spf', 'content-disposition', 'mailing-list',\n",
    "       'domainkey-signature', 'importance']\n",
    "\n",
    "label_name = 'label'\n",
    "\n",
    "final_features_list = ['hops']"
   ]
  },
  {
   "cell_type": "markdown",
   "metadata": {},
   "source": [
    "## **Feature - Handling Missing Values in Features**\n",
    "\n",
    "In this step, we create binary indicator features for missing values in the initial features list. For each feature in the `initial_features_list`, a new feature is created to indicate whether the value is missing (1) or not missing (0). This is useful for many machine learning models that may benefit from knowing whether a value was imputed."
   ]
  },
  {
   "cell_type": "code",
   "execution_count": 15,
   "metadata": {},
   "outputs": [
    {
     "data": {
      "text/plain": [
       "(5078, 52)"
      ]
     },
     "execution_count": 15,
     "metadata": {},
     "output_type": "execute_result"
    }
   ],
   "source": [
    "df_combined.shape"
   ]
  },
  {
   "cell_type": "code",
   "execution_count": 16,
   "metadata": {},
   "outputs": [],
   "source": [
    "missing_feature_names = ['missing_' + name for name in initial_features_list]\n",
    "\n",
    "for feature, missing_feature in zip(initial_features_list, missing_feature_names):\n",
    "    df_combined[missing_feature] = df_combined[feature].isnull().astype(int)\n",
    "\n",
    "final_features_list.extend(missing_feature_names)"
   ]
  },
  {
   "cell_type": "code",
   "execution_count": 17,
   "metadata": {},
   "outputs": [
    {
     "data": {
      "text/plain": [
       "(5078, 100)"
      ]
     },
     "execution_count": 17,
     "metadata": {},
     "output_type": "execute_result"
    }
   ],
   "source": [
    "df_combined.shape"
   ]
  },
  {
   "cell_type": "code",
   "execution_count": 18,
   "metadata": {},
   "outputs": [
    {
     "data": {
      "text/plain": [
       "0    5078\n",
       "Name: missing_from, dtype: int64"
      ]
     },
     "execution_count": 18,
     "metadata": {},
     "output_type": "execute_result"
    }
   ],
   "source": [
    "df_combined['missing_from'].value_counts()"
   ]
  },
  {
   "cell_type": "code",
   "execution_count": 19,
   "metadata": {},
   "outputs": [
    {
     "data": {
      "text/plain": [
       "0    4965\n",
       "1     113\n",
       "Name: missing_to, dtype: int64"
      ]
     },
     "execution_count": 19,
     "metadata": {},
     "output_type": "execute_result"
    }
   ],
   "source": [
    "df_combined['missing_to'].value_counts()"
   ]
  },
  {
   "cell_type": "markdown",
   "metadata": {},
   "source": [
    "### Replacing NaN Values in the DF\n",
    "\n",
    "In this step, we replace all `NaN` values in the `df_combined` DataFrame with empty strings. This operation ensures that there are no `NaN` values in the DataFrame, which can be particularly useful when preparing data for models that do not handle `NaN` values well or when converting the DataFrame to formats that do not support `NaN`.\n",
    "\n",
    "The code below performs this replacement using the `replace` method from Pandas."
   ]
  },
  {
   "cell_type": "code",
   "execution_count": 20,
   "metadata": {},
   "outputs": [],
   "source": [
    "df_combined = df_combined.replace(np.nan, '', regex=True)"
   ]
  },
  {
   "cell_type": "markdown",
   "metadata": {},
   "source": [
    "## **Feature - String Content Matching**"
   ]
  },
  {
   "cell_type": "code",
   "execution_count": 21,
   "metadata": {},
   "outputs": [],
   "source": [
    "def str_based_features_add(old_col_name, new_col_names, items_to_check):\n",
    "\n",
    "  for col_name, item_to_check in zip(new_col_names, items_to_check):\n",
    "    if item_to_check == '':\n",
    "      df_combined.loc[(df_combined[old_col_name].str.fullmatch(item_to_check)), col_name] = 1\n",
    "      df_combined.loc[~(df_combined[old_col_name].str.fullmatch(item_to_check)), col_name] = 0\n",
    "    else:\n",
    "      df_combined.loc[(df_combined[old_col_name].str.contains('(?i)' + item_to_check)), col_name] = 1\n",
    "      df_combined.loc[~(df_combined[old_col_name].str.contains('(?i)' + item_to_check)), col_name] = 0\n",
    "\n",
    "  final_features_list.extend(new_col_names)"
   ]
  },
  {
   "cell_type": "markdown",
   "metadata": {},
   "source": [
    "**Received-SPF:**\n",
    "\n",
    "'Received-SPF': contains 'bad', 'softfail', 'fail'"
   ]
  },
  {
   "cell_type": "code",
   "execution_count": 22,
   "metadata": {},
   "outputs": [],
   "source": [
    "new_col_names = ['str_received-SPF_bad', 'str_received-SPF_softfail', \n",
    "                 'str_received-SPF_fail']\n",
    "items_to_check = ['bad', 'softfail', 'fail']\n",
    "feature = 'received-spf'\n",
    "str_based_features_add(feature, new_col_names, items_to_check)"
   ]
  },
  {
   "cell_type": "code",
   "execution_count": 23,
   "metadata": {},
   "outputs": [
    {
     "data": {
      "text/plain": [
       "0.0    5075\n",
       "1.0       3\n",
       "Name: str_received-SPF_softfail, dtype: int64"
      ]
     },
     "execution_count": 23,
     "metadata": {},
     "output_type": "execute_result"
    }
   ],
   "source": [
    "df_combined['str_received-SPF_softfail'].value_counts()"
   ]
  },
  {
   "cell_type": "markdown",
   "metadata": {},
   "source": [
    "**Received check:**\n",
    "\n",
    "Detect if any of the 'received' columns contain the word 'forged'. If found, it returns 1; otherwise, it continues checking. A new feature, `received_str_forged`, is created in the DataFrame to store these binary indicators.\n"
   ]
  },
  {
   "cell_type": "code",
   "execution_count": 24,
   "metadata": {},
   "outputs": [],
   "source": [
    "def check_received_forged(row):\n",
    "  num_iters = row['hops']\n",
    "  col_name_base = 'received'\n",
    "\n",
    "  for i in range(1, num_iters+1):\n",
    "    curr_val = row[col_name_base + str(i)]\n",
    "    if 'forged' in curr_val:\n",
    "      return 1\n",
    "    else:\n",
    "      continue\n",
    "  return 0\n",
    "\n",
    "df_combined['received_str_forged'] = df_combined.apply(check_received_forged, axis=1)\n",
    "final_features_list.append('received_str_forged')"
   ]
  },
  {
   "cell_type": "code",
   "execution_count": 25,
   "metadata": {},
   "outputs": [
    {
     "data": {
      "text/plain": [
       "1    13\n",
       "Name: label, dtype: int64"
      ]
     },
     "execution_count": 25,
     "metadata": {},
     "output_type": "execute_result"
    }
   ],
   "source": [
    "df_combined[df_combined['received_str_forged'] == 1]['label'].value_counts()"
   ]
  },
  {
   "cell_type": "markdown",
   "metadata": {},
   "source": [
    "**From:**\n",
    "\n",
    "'From': contains '?', '!', or '<>'"
   ]
  },
  {
   "cell_type": "code",
   "execution_count": 26,
   "metadata": {},
   "outputs": [],
   "source": [
    "new_col_names = ['str_from_question', 'str_from_exclam', 'str_from_chevron']\n",
    "items_to_check = ['\\?', '!', '<.+>']\n",
    "feature = 'from'\n",
    "str_based_features_add(feature, new_col_names, items_to_check)"
   ]
  },
  {
   "cell_type": "markdown",
   "metadata": {},
   "source": [
    "**To:**\n",
    "\n",
    "'To': contains '<>'"
   ]
  },
  {
   "cell_type": "code",
   "execution_count": 27,
   "metadata": {},
   "outputs": [],
   "source": [
    "new_col_names = ['str_to_chevron', 'str_to_undisclosed', 'str_to_empty']\n",
    "items_to_check = ['<.+>', 'Undisclosed Recipients', '']\n",
    "feature = 'to'\n",
    "str_based_features_add(feature, new_col_names, items_to_check)"
   ]
  },
  {
   "cell_type": "markdown",
   "metadata": {},
   "source": [
    "**Message-ID:**\n",
    "\n",
    "'Message-ID': contains '$'"
   ]
  },
  {
   "cell_type": "code",
   "execution_count": 28,
   "metadata": {},
   "outputs": [],
   "source": [
    "new_col_names = ['str_message-ID_dollar']\n",
    "items_to_check = ['\\$']\n",
    "feature = 'message-id'\n",
    "str_based_features_add(feature, new_col_names, items_to_check)"
   ]
  },
  {
   "cell_type": "markdown",
   "metadata": {},
   "source": [
    "**Return-path:**\n",
    "\n",
    "'Return-Path': contains 'bounce'"
   ]
  },
  {
   "cell_type": "code",
   "execution_count": 29,
   "metadata": {},
   "outputs": [],
   "source": [
    "new_col_names = ['str_return-path_bounce', 'str_return-path_empty']\n",
    "items_to_check = ['bounce', '']\n",
    "feature = 'return-path'\n",
    "str_based_features_add(feature, new_col_names, items_to_check)"
   ]
  },
  {
   "cell_type": "markdown",
   "metadata": {},
   "source": [
    "**Reply-to:**\n",
    "\n",
    "'Reply-To': contains: '?'"
   ]
  },
  {
   "cell_type": "code",
   "execution_count": 30,
   "metadata": {},
   "outputs": [],
   "source": [
    "new_col_names = ['str_reply-to_question']\n",
    "items_to_check = ['\\?']\n",
    "feature = 'reply-to'\n",
    "str_based_features_add(feature, new_col_names, items_to_check)"
   ]
  },
  {
   "cell_type": "markdown",
   "metadata": {},
   "source": [
    "## **Feature - Count Based features**\n",
    "\n"
   ]
  },
  {
   "cell_type": "markdown",
   "metadata": {},
   "source": [
    "**Hops:**\n",
    "\n",
    "Hops: The number of received fields in an email."
   ]
  },
  {
   "cell_type": "code",
   "execution_count": 31,
   "metadata": {},
   "outputs": [
    {
     "data": {
      "text/plain": [
       "2     2335\n",
       "1     1745\n",
       "3      592\n",
       "4      185\n",
       "6      110\n",
       "5       60\n",
       "7       30\n",
       "8       11\n",
       "0        6\n",
       "9        3\n",
       "10       1\n",
       "Name: hops, dtype: int64"
      ]
     },
     "execution_count": 31,
     "metadata": {},
     "output_type": "execute_result"
    }
   ],
   "source": [
    "df_combined['hops'].value_counts()"
   ]
  },
  {
   "cell_type": "code",
   "execution_count": 32,
   "metadata": {},
   "outputs": [
    {
     "data": {
      "text/plain": [
       "1    398\n",
       "0      2\n",
       "Name: label, dtype: int64"
      ]
     },
     "execution_count": 32,
     "metadata": {},
     "output_type": "execute_result"
    }
   ],
   "source": [
    "df_combined[df_combined['hops'] > 3]['label'].value_counts()"
   ]
  },
  {
   "cell_type": "code",
   "execution_count": 33,
   "metadata": {},
   "outputs": [],
   "source": [
    "df_combined['hops'] = df_combined['hops'].apply(lambda x: 0 if x <= 3 else 1)"
   ]
  },
  {
   "cell_type": "markdown",
   "metadata": {},
   "source": [
    "**Length-from:**\n",
    "\n",
    "Length-from: The total number of characters in the 'From' field."
   ]
  },
  {
   "cell_type": "code",
   "execution_count": 34,
   "metadata": {},
   "outputs": [],
   "source": [
    "def count_chars(field_names, new_col_names):\n",
    "  for field_name, new_col_name in zip(field_names, new_col_names):\n",
    "    df_combined[new_col_name] = df_combined[field_name].str.len()\n",
    "\n",
    "  final_features_list.extend(new_col_names)\n",
    "\n",
    "fields_to_find_lengths = ['from']\n",
    "new_col_names_lengths = []\n",
    "\n",
    "for val in fields_to_find_lengths:\n",
    "  new_col_names_lengths.append('length_' + val)\n",
    "\n",
    "count_chars(fields_to_find_lengths, new_col_names_lengths)"
   ]
  },
  {
   "cell_type": "code",
   "execution_count": 35,
   "metadata": {},
   "outputs": [
    {
     "data": {
      "text/plain": [
       "1    1227\n",
       "0     929\n",
       "Name: label, dtype: int64"
      ]
     },
     "execution_count": 35,
     "metadata": {},
     "output_type": "execute_result"
    }
   ],
   "source": [
    "df_combined[df_combined['length_from'] > 40]['label'].value_counts()"
   ]
  },
  {
   "cell_type": "code",
   "execution_count": 36,
   "metadata": {},
   "outputs": [],
   "source": [
    "df_combined['length_from'] = df_combined['length_from'].apply(lambda x: 0 if x > 40 else 1)"
   ]
  },
  {
   "cell_type": "markdown",
   "metadata": {},
   "source": [
    "**Number of recipients - To**\n",
    "\n",
    "The number of email addresses specified in the 'To' field."
   ]
  },
  {
   "cell_type": "code",
   "execution_count": 37,
   "metadata": {},
   "outputs": [],
   "source": [
    "df_combined['num_recipients_to'] = df_combined.apply(lambda x: len(re.findall(\n",
    "    r'([a-zA-Z0-9+._-]+@[a-zA-Z0-9._-]+\\.[a-zA-Z0-9_-]+)', x['to'])), axis=1)"
   ]
  },
  {
   "cell_type": "code",
   "execution_count": 38,
   "metadata": {},
   "outputs": [
    {
     "data": {
      "text/plain": [
       "1       4774\n",
       "0        181\n",
       "2        120\n",
       "97         1\n",
       "908        1\n",
       "4544       1\n",
       "Name: num_recipients_to, dtype: int64"
      ]
     },
     "execution_count": 38,
     "metadata": {},
     "output_type": "execute_result"
    }
   ],
   "source": [
    "df_combined['num_recipients_to'].value_counts()"
   ]
  },
  {
   "cell_type": "code",
   "execution_count": 39,
   "metadata": {},
   "outputs": [
    {
     "data": {
      "text/plain": [
       "1    4897\n",
       "0     181\n",
       "Name: num_recipients_to, dtype: int64"
      ]
     },
     "execution_count": 39,
     "metadata": {},
     "output_type": "execute_result"
    }
   ],
   "source": [
    "df_combined['num_recipients_to'] = df_combined['num_recipients_to'].apply(lambda x: 0 if x == 0 else 1)\n",
    "df_combined['num_recipients_to'].value_counts()"
   ]
  },
  {
   "cell_type": "code",
   "execution_count": 40,
   "metadata": {},
   "outputs": [],
   "source": [
    "final_features_list.append('num_recipients_to')"
   ]
  },
  {
   "cell_type": "markdown",
   "metadata": {},
   "source": [
    "**Number of recipients - Cc**\n",
    "\n",
    "The number of email addresses specified in the 'Cc' field."
   ]
  },
  {
   "cell_type": "code",
   "execution_count": 41,
   "metadata": {},
   "outputs": [],
   "source": [
    "df_combined['num_recipients_cc'] = df_combined.apply(lambda x: len(re.findall(\n",
    "    r'([a-zA-Z0-9+._-]+@[a-zA-Z0-9._-]+\\.[a-zA-Z0-9_-]+)', x['cc'])), axis=1)"
   ]
  },
  {
   "cell_type": "code",
   "execution_count": 42,
   "metadata": {},
   "outputs": [
    {
     "data": {
      "text/plain": [
       "0    5045\n",
       "3      22\n",
       "1       7\n",
       "2       2\n",
       "5       2\n",
       "Name: num_recipients_cc, dtype: int64"
      ]
     },
     "execution_count": 42,
     "metadata": {},
     "output_type": "execute_result"
    }
   ],
   "source": [
    "df_combined['num_recipients_cc'].value_counts()"
   ]
  },
  {
   "cell_type": "code",
   "execution_count": 43,
   "metadata": {},
   "outputs": [
    {
     "data": {
      "text/plain": [
       "0    5045\n",
       "1      33\n",
       "Name: num_recipients_cc, dtype: int64"
      ]
     },
     "execution_count": 43,
     "metadata": {},
     "output_type": "execute_result"
    }
   ],
   "source": [
    "df_combined['num_recipients_cc'] = df_combined['num_recipients_cc'].apply(lambda x: 0 if x == 0 else 1)\n",
    "df_combined['num_recipients_cc'].value_counts()"
   ]
  },
  {
   "cell_type": "code",
   "execution_count": 44,
   "metadata": {},
   "outputs": [],
   "source": [
    "final_features_list.append('num_recipients_cc')"
   ]
  },
  {
   "cell_type": "markdown",
   "metadata": {},
   "source": [
    "**Number of recipients - From**\n",
    "\n",
    "The number of email addresses specified in the 'From' field."
   ]
  },
  {
   "cell_type": "code",
   "execution_count": 45,
   "metadata": {},
   "outputs": [],
   "source": [
    "df_combined['num_recipients_from'] = df_combined.apply(lambda x: len(re.findall(\n",
    "    r'([a-zA-Z0-9+._-]+@[a-zA-Z0-9._-]+\\.[a-zA-Z0-9_-]+)', x['cc'])), axis=1)"
   ]
  },
  {
   "cell_type": "code",
   "execution_count": 46,
   "metadata": {},
   "outputs": [
    {
     "data": {
      "text/plain": [
       "0    5045\n",
       "3      22\n",
       "1       7\n",
       "2       2\n",
       "5       2\n",
       "Name: num_recipients_from, dtype: int64"
      ]
     },
     "execution_count": 46,
     "metadata": {},
     "output_type": "execute_result"
    }
   ],
   "source": [
    "df_combined['num_recipients_from'].value_counts()"
   ]
  },
  {
   "cell_type": "code",
   "execution_count": 47,
   "metadata": {},
   "outputs": [
    {
     "data": {
      "text/plain": [
       "0    5045\n",
       "1      33\n",
       "Name: num_recipients_from, dtype: int64"
      ]
     },
     "execution_count": 47,
     "metadata": {},
     "output_type": "execute_result"
    }
   ],
   "source": [
    "df_combined['num_recipients_from'] = df_combined['num_recipients_from'].apply(lambda x: 0 if x == 0 else 1)\n",
    "df_combined['num_recipients_from'].value_counts()"
   ]
  },
  {
   "cell_type": "code",
   "execution_count": 48,
   "metadata": {},
   "outputs": [],
   "source": [
    "final_features_list.append('num_recipients_from')"
   ]
  },
  {
   "cell_type": "markdown",
   "metadata": {},
   "source": [
    "**Number of replies:**\n",
    "\n",
    "The number of message-ID's contained within the 'References' field. (Each message-ID is enclosed in a pair of '<>')."
   ]
  },
  {
   "cell_type": "code",
   "execution_count": 49,
   "metadata": {},
   "outputs": [],
   "source": [
    "def extract_num_replies(row):\n",
    "  references_val = row['references']\n",
    "  all = re.findall(r'<([a-zA-Z0-9+._-]+@[a-zA-Z0-9._-]+\\.[a-zA-Z0-9_-]+)>', \n",
    "                  references_val)\n",
    "  return len(all)\n",
    "\n",
    "df_combined['number_replies'] = df_combined.apply(extract_num_replies, axis=1)"
   ]
  },
  {
   "cell_type": "code",
   "execution_count": 50,
   "metadata": {},
   "outputs": [
    {
     "data": {
      "text/plain": [
       "0     5000\n",
       "1       61\n",
       "2        9\n",
       "3        4\n",
       "8        2\n",
       "14       1\n",
       "4        1\n",
       "Name: number_replies, dtype: int64"
      ]
     },
     "execution_count": 50,
     "metadata": {},
     "output_type": "execute_result"
    }
   ],
   "source": [
    "df_combined['number_replies'].value_counts()"
   ]
  },
  {
   "cell_type": "code",
   "execution_count": 51,
   "metadata": {},
   "outputs": [
    {
     "data": {
      "text/plain": [
       "1    78\n",
       "Name: label, dtype: int64"
      ]
     },
     "execution_count": 51,
     "metadata": {},
     "output_type": "execute_result"
    }
   ],
   "source": [
    "df_combined[df_combined['number_replies'] >= 1]['label'].value_counts()"
   ]
  },
  {
   "cell_type": "code",
   "execution_count": 52,
   "metadata": {},
   "outputs": [],
   "source": [
    "df_combined['number_replies'] = df_combined['number_replies'].apply(lambda x: 1 if x >= 1 else 0)"
   ]
  },
  {
   "cell_type": "code",
   "execution_count": 53,
   "metadata": {},
   "outputs": [],
   "source": [
    "final_features_list.append('number_replies')"
   ]
  },
  {
   "cell_type": "markdown",
   "metadata": {},
   "source": [
    "## **Feature - Comparison Based Features**\n",
    "\n",
    "Refers to features that are derived by comparing other features."
   ]
  },
  {
   "cell_type": "markdown",
   "metadata": {},
   "source": [
    "**Date Validity (Received)**: \n",
    "\n",
    "Comparing the 'Date' field and last received's \"date\" value:"
   ]
  },
  {
   "cell_type": "code",
   "execution_count": 54,
   "metadata": {},
   "outputs": [],
   "source": [
    "# def date_received_date_comp(row):\n",
    "#   date_date = row['date']\n",
    "#   date_received = row['last_received_date']\n",
    "\n",
    "#   d1 = email.utils.parsedate_tz(date_date)\n",
    "#   d2 = email.utils.parsedate_tz(date_received)\n",
    "\n",
    "#   if d1 is None or d2 is None:\n",
    "#     return -1\n",
    "\n",
    "#   try:\n",
    "#     val1 = email.utils.mktime_tz(d1)\n",
    "#     val2 = email.utils.mktime_tz(d2)\n",
    "#   except:\n",
    "#     return -1\n",
    "\n",
    "#   return (email.utils.mktime_tz(d2)) - (email.utils.mktime_tz(d1))"
   ]
  },
  {
   "cell_type": "code",
   "execution_count": 55,
   "metadata": {},
   "outputs": [],
   "source": [
    "# df_combined['date_comp_date_received'] = df_combined.apply(date_received_date_comp, axis=1)"
   ]
  },
  {
   "cell_type": "code",
   "execution_count": 56,
   "metadata": {},
   "outputs": [],
   "source": [
    "# df_combined[df_combined['date_comp_date_received'] > 0]['date_comp_date_received'].describe()\n"
   ]
  },
  {
   "cell_type": "markdown",
   "metadata": {},
   "source": [
    "**Domain matching**: \n",
    "\n",
    "- Message-ID + From\n",
    "- Message-ID + Return-Path\n",
    "- Message-ID + Sender\n",
    "- Message-ID + first Received\n",
    "- Return-Path + From\n",
    "- Return-Path + Reply-To\n",
    "- Reply-To + To\n",
    "- Error-To + Message-ID\n",
    "- Error-To + From\n",
    "- Error-To + Sender\n",
    "- Sender + From\n",
    "- Reference + Reply-To\n",
    "- Reference + InReply-To\n",
    "- To + last Received\n",
    "- InReply-To + To\n",
    "- Reference + To\n",
    "- Sender + first Received ('from' part of the first Received)\n",
    "- Return-Path + first Recieved ('from' part of the first Received)\n",
    "- Reply-To + last Received ('for' part of the last Received)\n",
    "- InReply-To + last Received ('for' part of the last Received)"
   ]
  },
  {
   "cell_type": "markdown",
   "metadata": {},
   "source": [
    "Extracting emails and domains:"
   ]
  },
  {
   "cell_type": "code",
   "execution_count": 57,
   "metadata": {},
   "outputs": [],
   "source": [
    "# emails in brackets '<>' are matched first, and if none, then other emails are matched\n",
    "def extract_emails(row, col_name):\n",
    "\n",
    "  in_brackets = re.findall(r'<([a-zA-Z0-9+._-]+@[a-zA-Z0-9._-]+\\.[a-zA-Z0-9_-]+)>', row[col_name])\n",
    "\n",
    "  if len(in_brackets) == 0:\n",
    "    not_in_brackets = re.findall(r'([a-zA-Z0-9+._-]+@[a-zA-Z0-9._-]+\\.[a-zA-Z0-9_-]+)', row[col_name])\n",
    "    if len(not_in_brackets) == 0:\n",
    "      return []\n",
    "    else:\n",
    "      return not_in_brackets\n",
    "  else:\n",
    "    return in_brackets\n",
    "\n",
    "def extract_domains(row, col_name):\n",
    "  emails_list = row[col_name]\n",
    "\n",
    "  if len(emails_list) == 0:\n",
    "    return []\n",
    "  else:\n",
    "    domains_list = []\n",
    "    for email in emails_list:\n",
    "      if len(email.split('.')) < 2:\n",
    "        continue\n",
    "      else:\n",
    "        main_domain = email.split('@')[-1]\n",
    "        main_domain = main_domain.split('.')[-2:]\n",
    "        main_domain = main_domain[0] + '.' + re.sub('\\W+','', main_domain[1])\n",
    "        domains_list.append(main_domain.lower())\n",
    "    return domains_list"
   ]
  },
  {
   "cell_type": "code",
   "execution_count": 58,
   "metadata": {},
   "outputs": [],
   "source": [
    "emails_from = df_combined.apply(extract_emails, col_name='from', axis=1)\n",
    "emails_message_id = df_combined.apply(extract_emails, col_name='message-id', axis=1)\n",
    "emails_return_path = df_combined.apply(extract_emails, col_name='return-path', axis=1)\n",
    "emails_reply_to = df_combined.apply(extract_emails, col_name='reply-to', axis=1)\n",
    "#emails_errors_to = df_combined.apply(extract_emails, col_name='errors-to', axis=1)\n",
    "emails_in_reply_to = df_combined.apply(extract_emails, col_name='in-reply-to', axis=1)\n",
    "emails_references = df_combined.apply(extract_emails, col_name='references', axis=1)\n",
    "emails_to = df_combined.apply(extract_emails, col_name='to', axis=1)\n",
    "emails_cc = df_combined.apply(extract_emails, col_name='cc', axis=1)\n",
    "emails_sender = df_combined.apply(extract_emails, col_name='sender', axis=1)\n",
    "\n",
    "emails_df = pd.concat([emails_from, emails_message_id, emails_return_path, \n",
    "                        emails_reply_to, emails_in_reply_to, \n",
    "                        emails_references, emails_to, emails_cc, emails_sender], axis=1)\n",
    "emails_df.set_axis(['from', 'message-id', 'return-path', 'reply-to',\n",
    "                     'in-reply-to', 'references', 'to', 'cc', 'sender'], \n",
    "                    axis=1, inplace=True)"
   ]
  },
  {
   "cell_type": "code",
   "execution_count": 59,
   "metadata": {},
   "outputs": [],
   "source": [
    "domains_from = emails_df.apply(extract_domains, col_name='from', axis=1)\n",
    "domains_message_id = emails_df.apply(extract_domains, col_name='message-id', axis=1)\n",
    "domains_return_path = emails_df.apply(extract_domains, col_name='return-path', axis=1)\n",
    "domains_reply_to = emails_df.apply(extract_domains, col_name='reply-to', axis=1)\n",
    "#domains_errors_to = emails_df.apply(extract_domains, col_name='errors-to', axis=1)\n",
    "domains_in_reply_to = emails_df.apply(extract_domains, col_name='in-reply-to', axis=1)\n",
    "domains_references = emails_df.apply(extract_domains, col_name='references', axis=1)\n",
    "domains_to = emails_df.apply(extract_domains, col_name='to', axis=1)\n",
    "domains_cc = emails_df.apply(extract_domains, col_name='cc', axis=1)\n",
    "domains_sender = emails_df.apply(extract_domains, col_name='sender', axis=1)\n",
    "\n",
    "domains_df = pd.concat([domains_from, domains_message_id, domains_return_path, \n",
    "                        domains_reply_to, domains_in_reply_to, \n",
    "                        domains_references, domains_to, domains_cc, domains_sender], axis=1)\n",
    "domains_df.set_axis(['from_domains', 'message-id_domains', 'return-path_domains', 'reply-to_domains',\n",
    "                     'in-reply-to_domains', 'references_domains', 'to_domains', 'cc_domains', 'sender_domains'], \n",
    "                    axis=1, inplace=True)"
   ]
  },
  {
   "cell_type": "code",
   "execution_count": 60,
   "metadata": {},
   "outputs": [],
   "source": [
    "def email_same_check(row, first_col, second_col):\n",
    "  vals1 = row[first_col]\n",
    "  vals2 = row[second_col]\n",
    "\n",
    "  for val1 in vals1:\n",
    "    for val2 in vals2:\n",
    "      if val1 == val2:\n",
    "        return 1\n",
    "\n",
    "  return 0\n",
    "\n",
    "emails_to_check = [('from', 'reply-to'), ('from', 'return-path'),]\n",
    "\n",
    "for val in emails_to_check:\n",
    "  first_field = val[0]\n",
    "  second_field = val[1]\n",
    "  new_col_name = 'email_match_' + first_field + '_' + second_field\n",
    "\n",
    "  df_combined[new_col_name] = emails_df.apply(email_same_check, first_col=first_field, \n",
    "                  second_col=second_field, axis=1)\n",
    "  final_features_list.append(new_col_name)"
   ]
  },
  {
   "cell_type": "code",
   "execution_count": 61,
   "metadata": {},
   "outputs": [],
   "source": [
    "# Returns 0 if no matches, 1 if at least one match\n",
    "def domain_match_check(row, first_col, second_col):\n",
    "\n",
    "  first_domain_list = row[first_col]\n",
    "  second_domain_list = row[second_col]\n",
    "\n",
    "  if len(first_domain_list) == 0 or len(second_domain_list) == 0:\n",
    "    return 0\n",
    "  else:\n",
    "    for d1 in first_domain_list:\n",
    "      for d2 in second_domain_list:\n",
    "        if d1 == d2:\n",
    "          return 1\n",
    "    return 0\n",
    "  \n",
    "domain_fields_to_check = [('message-id_domains', 'from_domains'), ('from_domains', 'return-path_domains'), ('message-id_domains', 'return-path_domains'), ('message-id_domains', 'sender_domains'), ('message-id_domains', 'reply-to_domains'),\n",
    "                          ('return-path_domains', 'reply-to_domains'), ('reply-to_domains', 'to_domains'), ('to_domains', 'in-reply-to_domains'), ('sender_domains', 'from_domains'), ('references_domains', 'reply-to_domains'), ('references_domains', 'in-reply-to_domains'), ('references_domains', 'to_domains'), ('from_domains', 'reply-to_domains'),\n",
    "                          ('to_domains', 'from_domains'), ('to_domains', 'message-id_domains')]\n",
    "\n",
    "for val in domain_fields_to_check:\n",
    "  first_field = val[0].replace('_domains', '')\n",
    "  second_field = val[1].replace('_domains', '')\n",
    "  new_col_name = 'domain_match_' + first_field + '_' + second_field \n",
    "\n",
    "  df_combined[new_col_name] = domains_df.apply(domain_match_check, first_col = val[0], \n",
    "                              second_col= val[1], axis=1)\n",
    "  final_features_list.append(new_col_name)"
   ]
  },
  {
   "cell_type": "code",
   "execution_count": null,
   "metadata": {},
   "outputs": [],
   "source": []
  },
  {
   "cell_type": "markdown",
   "metadata": {},
   "source": [
    "**Receieved Consequentive Checks**:\n",
    "\n",
    "Consequentive Received fields: checks if consequentive received fields have a matching domain for the 'by' of the eariler received field and the 'from' part of the later one. Value is 1 if there is an issue, otherwise 0 if all match."
   ]
  },
  {
   "cell_type": "code",
   "execution_count": null,
   "metadata": {},
   "outputs": [],
   "source": []
  },
  {
   "cell_type": "markdown",
   "metadata": {},
   "source": [
    "## Processed data to a file"
   ]
  },
  {
   "cell_type": "code",
   "execution_count": 62,
   "metadata": {},
   "outputs": [
    {
     "name": "stdout",
     "output_type": "stream",
     "text": [
      "hops\n",
      "0    4678\n",
      "1     400\n",
      "Name: hops, dtype: int64\n",
      "\n",
      "\n",
      "missing_received1\n",
      "0    5072\n",
      "1       6\n",
      "Name: missing_received1, dtype: int64\n",
      "\n",
      "\n",
      "missing_received2\n",
      "0    3327\n",
      "1    1751\n",
      "Name: missing_received2, dtype: int64\n",
      "\n",
      "\n",
      "missing_received3\n",
      "1    4086\n",
      "0     992\n",
      "Name: missing_received3, dtype: int64\n",
      "\n",
      "\n",
      "missing_received4\n",
      "1    4678\n",
      "0     400\n",
      "Name: missing_received4, dtype: int64\n",
      "\n",
      "\n",
      "missing_received5\n",
      "1    4863\n",
      "0     215\n",
      "Name: missing_received5, dtype: int64\n",
      "\n",
      "\n",
      "missing_received6\n",
      "1    4923\n",
      "0     155\n",
      "Name: missing_received6, dtype: int64\n",
      "\n",
      "\n",
      "missing_received7\n",
      "1    5033\n",
      "0      45\n",
      "Name: missing_received7, dtype: int64\n",
      "\n",
      "\n",
      "missing_received8\n",
      "1    5063\n",
      "0      15\n",
      "Name: missing_received8, dtype: int64\n",
      "\n",
      "\n",
      "missing_subject\n",
      "0    5073\n",
      "1       5\n",
      "Name: missing_subject, dtype: int64\n",
      "\n",
      "\n",
      "missing_date\n",
      "0    5023\n",
      "1      55\n",
      "Name: missing_date, dtype: int64\n",
      "\n",
      "\n",
      "missing_message-id\n",
      "0    4730\n",
      "1     348\n",
      "Name: missing_message-id, dtype: int64\n",
      "\n",
      "\n",
      "missing_from\n",
      "0    5078\n",
      "Name: missing_from, dtype: int64\n",
      "\n",
      "\n",
      "missing_return-path\n",
      "0    5072\n",
      "1       6\n",
      "Name: missing_return-path, dtype: int64\n",
      "\n",
      "\n",
      "missing_to\n",
      "0    4965\n",
      "1     113\n",
      "Name: missing_to, dtype: int64\n",
      "\n",
      "\n",
      "missing_content-type\n",
      "0    5068\n",
      "1      10\n",
      "Name: missing_content-type, dtype: int64\n",
      "\n",
      "\n",
      "missing_mime-version\n",
      "0    5055\n",
      "1      23\n",
      "Name: missing_mime-version, dtype: int64\n",
      "\n",
      "\n",
      "missing_x-mailer\n",
      "1    3392\n",
      "0    1686\n",
      "Name: missing_x-mailer, dtype: int64\n",
      "\n",
      "\n",
      "missing_content-transfer-encoding\n",
      "1    4024\n",
      "0    1054\n",
      "Name: missing_content-transfer-encoding, dtype: int64\n",
      "\n",
      "\n",
      "missing_x-mimeole\n",
      "1    5014\n",
      "0      64\n",
      "Name: missing_x-mimeole, dtype: int64\n",
      "\n",
      "\n",
      "missing_x-priority\n",
      "1    4867\n",
      "0     211\n",
      "Name: missing_x-priority, dtype: int64\n",
      "\n",
      "\n",
      "missing_list-id\n",
      "1    3763\n",
      "0    1315\n",
      "Name: missing_list-id, dtype: int64\n",
      "\n",
      "\n",
      "missing_x-virus-scanned\n",
      "1    4887\n",
      "0     191\n",
      "Name: missing_x-virus-scanned, dtype: int64\n",
      "\n",
      "\n",
      "missing_status\n",
      "1    2590\n",
      "0    2488\n",
      "Name: missing_status, dtype: int64\n",
      "\n",
      "\n",
      "missing_content-length\n",
      "1    5076\n",
      "0       2\n",
      "Name: missing_content-length, dtype: int64\n",
      "\n",
      "\n",
      "missing_precedence\n",
      "1    4297\n",
      "0     781\n",
      "Name: missing_precedence, dtype: int64\n",
      "\n",
      "\n",
      "missing_delivered-to\n",
      "0    5072\n",
      "1       6\n",
      "Name: missing_delivered-to, dtype: int64\n",
      "\n",
      "\n",
      "missing_list-unsubscribe\n",
      "1    2823\n",
      "0    2255\n",
      "Name: missing_list-unsubscribe, dtype: int64\n",
      "\n",
      "\n",
      "missing_list-post\n",
      "1    5076\n",
      "0       2\n",
      "Name: missing_list-post, dtype: int64\n",
      "\n",
      "\n",
      "missing_list-help\n",
      "1    5076\n",
      "0       2\n",
      "Name: missing_list-help, dtype: int64\n",
      "\n",
      "\n",
      "missing_x-msmail-priority\n",
      "1    4996\n",
      "0      82\n",
      "Name: missing_x-msmail-priority, dtype: int64\n",
      "\n",
      "\n",
      "missing_x-spam-status\n",
      "1    4094\n",
      "0     984\n",
      "Name: missing_x-spam-status, dtype: int64\n",
      "\n",
      "\n",
      "missing_sender\n",
      "1    4578\n",
      "0     500\n",
      "Name: missing_sender, dtype: int64\n",
      "\n",
      "\n",
      "missing_x-beenthere\n",
      "1    5076\n",
      "0       2\n",
      "Name: missing_x-beenthere, dtype: int64\n",
      "\n",
      "\n",
      "missing_list-archive\n",
      "1    5076\n",
      "0       2\n",
      "Name: missing_list-archive, dtype: int64\n",
      "\n",
      "\n",
      "missing_reply-to\n",
      "1    2627\n",
      "0    2451\n",
      "Name: missing_reply-to, dtype: int64\n",
      "\n",
      "\n",
      "missing_x-virus-status\n",
      "1    5069\n",
      "0       9\n",
      "Name: missing_x-virus-status, dtype: int64\n",
      "\n",
      "\n",
      "missing_x-spam-level\n",
      "1    5058\n",
      "0      20\n",
      "Name: missing_x-spam-level, dtype: int64\n",
      "\n",
      "\n",
      "missing_x-spam-checker-version\n",
      "1    5062\n",
      "0      16\n",
      "Name: missing_x-spam-checker-version, dtype: int64\n",
      "\n",
      "\n",
      "missing_references\n",
      "1    4998\n",
      "0      80\n",
      "Name: missing_references, dtype: int64\n",
      "\n",
      "\n",
      "missing_in-reply-to\n",
      "1    5025\n",
      "0      53\n",
      "Name: missing_in-reply-to, dtype: int64\n",
      "\n",
      "\n",
      "missing_user-agent\n",
      "1    5055\n",
      "0      23\n",
      "Name: missing_user-agent, dtype: int64\n",
      "\n",
      "\n",
      "missing_thread-index\n",
      "1    4879\n",
      "0     199\n",
      "Name: missing_thread-index, dtype: int64\n",
      "\n",
      "\n",
      "missing_cc\n",
      "1    5045\n",
      "0      33\n",
      "Name: missing_cc, dtype: int64\n",
      "\n",
      "\n",
      "missing_received-spf\n",
      "0    2675\n",
      "1    2403\n",
      "Name: missing_received-spf, dtype: int64\n",
      "\n",
      "\n",
      "missing_content-disposition\n",
      "1    5072\n",
      "0       6\n",
      "Name: missing_content-disposition, dtype: int64\n",
      "\n",
      "\n",
      "missing_mailing-list\n",
      "1    5076\n",
      "0       2\n",
      "Name: missing_mailing-list, dtype: int64\n",
      "\n",
      "\n",
      "missing_domainkey-signature\n",
      "1    4997\n",
      "0      81\n",
      "Name: missing_domainkey-signature, dtype: int64\n",
      "\n",
      "\n",
      "missing_importance\n",
      "1    5027\n",
      "0      51\n",
      "Name: missing_importance, dtype: int64\n",
      "\n",
      "\n",
      "str_received-SPF_bad\n",
      "0.0    5075\n",
      "1.0       3\n",
      "Name: str_received-SPF_bad, dtype: int64\n",
      "\n",
      "\n",
      "str_received-SPF_softfail\n",
      "0.0    5075\n",
      "1.0       3\n",
      "Name: str_received-SPF_softfail, dtype: int64\n",
      "\n",
      "\n",
      "str_received-SPF_fail\n",
      "0.0    5066\n",
      "1.0      12\n",
      "Name: str_received-SPF_fail, dtype: int64\n",
      "\n",
      "\n",
      "received_str_forged\n",
      "0    5065\n",
      "1      13\n",
      "Name: received_str_forged, dtype: int64\n",
      "\n",
      "\n",
      "str_from_question\n",
      "0.0    4644\n",
      "1.0     434\n",
      "Name: str_from_question, dtype: int64\n",
      "\n",
      "\n",
      "str_from_exclam\n",
      "0.0    5073\n",
      "1.0       5\n",
      "Name: str_from_exclam, dtype: int64\n",
      "\n",
      "\n",
      "str_from_chevron\n",
      "1.0    4988\n",
      "0.0      90\n",
      "Name: str_from_chevron, dtype: int64\n",
      "\n",
      "\n",
      "str_to_chevron\n",
      "0.0    3795\n",
      "1.0    1283\n",
      "Name: str_to_chevron, dtype: int64\n",
      "\n",
      "\n",
      "str_to_undisclosed\n",
      "0.0    5065\n",
      "1.0      13\n",
      "Name: str_to_undisclosed, dtype: int64\n",
      "\n",
      "\n",
      "str_to_empty\n",
      "0.0    4965\n",
      "1.0     113\n",
      "Name: str_to_empty, dtype: int64\n",
      "\n",
      "\n",
      "str_message-ID_dollar\n",
      "0.0    5039\n",
      "1.0      39\n",
      "Name: str_message-ID_dollar, dtype: int64\n",
      "\n",
      "\n",
      "str_return-path_bounce\n",
      "0.0    3251\n",
      "1.0    1827\n",
      "Name: str_return-path_bounce, dtype: int64\n",
      "\n",
      "\n",
      "str_return-path_empty\n",
      "0.0    5072\n",
      "1.0       6\n",
      "Name: str_return-path_empty, dtype: int64\n",
      "\n",
      "\n",
      "str_reply-to_question\n",
      "0.0    4825\n",
      "1.0     253\n",
      "Name: str_reply-to_question, dtype: int64\n",
      "\n",
      "\n",
      "length_from\n",
      "1    2922\n",
      "0    2156\n",
      "Name: length_from, dtype: int64\n",
      "\n",
      "\n",
      "num_recipients_to\n",
      "1    4897\n",
      "0     181\n",
      "Name: num_recipients_to, dtype: int64\n",
      "\n",
      "\n",
      "num_recipients_cc\n",
      "0    5045\n",
      "1      33\n",
      "Name: num_recipients_cc, dtype: int64\n",
      "\n",
      "\n",
      "num_recipients_from\n",
      "0    5045\n",
      "1      33\n",
      "Name: num_recipients_from, dtype: int64\n",
      "\n",
      "\n",
      "number_replies\n",
      "0    5000\n",
      "1      78\n",
      "Name: number_replies, dtype: int64\n",
      "\n",
      "\n",
      "email_match_from_reply-to\n",
      "0    3996\n",
      "1    1082\n",
      "Name: email_match_from_reply-to, dtype: int64\n",
      "\n",
      "\n",
      "email_match_from_return-path\n",
      "0    3304\n",
      "1    1774\n",
      "Name: email_match_from_return-path, dtype: int64\n",
      "\n",
      "\n",
      "domain_match_message-id_from\n",
      "0    2978\n",
      "1    2100\n",
      "Name: domain_match_message-id_from, dtype: int64\n",
      "\n",
      "\n",
      "domain_match_from_return-path\n",
      "1    3626\n",
      "0    1452\n",
      "Name: domain_match_from_return-path, dtype: int64\n",
      "\n",
      "\n",
      "domain_match_message-id_return-path\n",
      "1    3186\n",
      "0    1892\n",
      "Name: domain_match_message-id_return-path, dtype: int64\n",
      "\n",
      "\n",
      "domain_match_message-id_sender\n",
      "0    4628\n",
      "1     450\n",
      "Name: domain_match_message-id_sender, dtype: int64\n",
      "\n",
      "\n",
      "domain_match_message-id_reply-to\n",
      "0    4579\n",
      "1     499\n",
      "Name: domain_match_message-id_reply-to, dtype: int64\n",
      "\n",
      "\n",
      "domain_match_return-path_reply-to\n",
      "0    3887\n",
      "1    1191\n",
      "Name: domain_match_return-path_reply-to, dtype: int64\n",
      "\n",
      "\n",
      "domain_match_reply-to_to\n",
      "0    5053\n",
      "1      25\n",
      "Name: domain_match_reply-to_to, dtype: int64\n",
      "\n",
      "\n",
      "domain_match_to_in-reply-to\n",
      "0    5060\n",
      "1      18\n",
      "Name: domain_match_to_in-reply-to, dtype: int64\n",
      "\n",
      "\n",
      "domain_match_sender_from\n",
      "0    4621\n",
      "1     457\n",
      "Name: domain_match_sender_from, dtype: int64\n",
      "\n",
      "\n",
      "domain_match_references_reply-to\n",
      "0    5078\n",
      "Name: domain_match_references_reply-to, dtype: int64\n",
      "\n",
      "\n",
      "domain_match_references_in-reply-to\n",
      "0    5026\n",
      "1      52\n",
      "Name: domain_match_references_in-reply-to, dtype: int64\n",
      "\n",
      "\n",
      "domain_match_references_to\n",
      "0    5059\n",
      "1      19\n",
      "Name: domain_match_references_to, dtype: int64\n",
      "\n",
      "\n",
      "domain_match_from_reply-to\n",
      "0    3244\n",
      "1    1834\n",
      "Name: domain_match_from_reply-to, dtype: int64\n",
      "\n",
      "\n",
      "domain_match_to_from\n",
      "0    4562\n",
      "1     516\n",
      "Name: domain_match_to_from, dtype: int64\n",
      "\n",
      "\n",
      "domain_match_to_message-id\n",
      "0    4938\n",
      "1     140\n",
      "Name: domain_match_to_message-id, dtype: int64\n",
      "\n",
      "\n"
     ]
    }
   ],
   "source": [
    "for item in final_features_list:\n",
    "  print(item)\n",
    "  print(df_combined[item].value_counts())\n",
    "  print('\\n')"
   ]
  },
  {
   "cell_type": "code",
   "execution_count": 63,
   "metadata": {},
   "outputs": [
    {
     "data": {
      "text/plain": [
       "0    2021\n",
       "1    1774\n",
       "Name: label, dtype: int64"
      ]
     },
     "execution_count": 63,
     "metadata": {},
     "output_type": "execute_result"
    }
   ],
   "source": [
    "df_combined[df_combined['str_to_chevron'] == 0]['label'].value_counts()"
   ]
  },
  {
   "cell_type": "code",
   "execution_count": 64,
   "metadata": {},
   "outputs": [
    {
     "data": {
      "text/plain": [
       "(5078, 136)"
      ]
     },
     "execution_count": 64,
     "metadata": {},
     "output_type": "execute_result"
    }
   ],
   "source": [
    "df_combined.shape"
   ]
  },
  {
   "cell_type": "code",
   "execution_count": 65,
   "metadata": {},
   "outputs": [],
   "source": [
    "# Removes missing_received fields since received1 is always there, and the other ones\n",
    "# encode the same information as 'hops'. The other removed features have only one value,\n",
    "# or a strong majority towards one value.\n",
    "remove_list = ['missing_received1', 'missing_received2', 'missing_received3',\n",
    " 'missing_received4', 'missing_received5', 'missing_received6',\n",
    " 'missing_received7', 'missing_received8', 'missing_received9',\n",
    " 'missing_received10', 'missing_subject', 'missing_date', 'missing_message-id', 'missing_from',\n",
    " 'missing_return-path', 'missing_to', 'missing_content_type', 'missing_mime-version', 'missing_x-mimeole',\n",
    " 'missing_x-priority', 'missing_x-virus-scanned', 'missing_content-length', 'missing_delivered-to', 'missing_list-post',\n",
    " 'missing_list-help', 'missing_x-msmail-priority', 'missing_x-beenthere', 'missing_list-archive', 'missing_x-virus-status', 'missing_x-spam-level', 'missing_x-spam-checker-version', 'missing_references', 'missing_in-reply-to', 'missing_user-agent', 'missing_thread-index', 'missing_cc', 'missing_content-disposition', 'missing_mailing-list', 'missing_domainkey-signature', 'missing_importance', 'str_from_chevron', 'str_to_undisclosed', 'str_return-path_empty',\n",
    " 'str_from_exclam', 'str_reply-to_question', 'str_message-ID_dollar', 'str_received-SPF_bad', \n",
    " 'str_received-SPF_softfail', 'str_received-SPF_fail', 'str_reply-to_question', \n",
    " 'num_recipients_from']\n",
    "\n",
    "# for v in remove_list:\n",
    "#   if v in final_features_list:\n",
    "#     final_features_list.remove(v)\n",
    "    \n",
    "final_features_list.append('label')"
   ]
  },
  {
   "cell_type": "code",
   "execution_count": 66,
   "metadata": {},
   "outputs": [
    {
     "name": "stdout",
     "output_type": "stream",
     "text": [
      "Number of duplicates: 0\n"
     ]
    }
   ],
   "source": [
    "duplicates = df_combined.duplicated().sum()\n",
    "print(f\"Number of duplicates: {duplicates}\")"
   ]
  },
  {
   "cell_type": "code",
   "execution_count": 67,
   "metadata": {},
   "outputs": [],
   "source": [
    "df_final = df_combined[final_features_list]"
   ]
  },
  {
   "cell_type": "code",
   "execution_count": 68,
   "metadata": {},
   "outputs": [
    {
     "name": "stdout",
     "output_type": "stream",
     "text": [
      "Number of duplicates: 4036\n"
     ]
    }
   ],
   "source": [
    "duplicates = df_final.duplicated().sum()\n",
    "print(f\"Number of duplicates: {duplicates}\")"
   ]
  },
  {
   "cell_type": "code",
   "execution_count": 69,
   "metadata": {},
   "outputs": [
    {
     "data": {
      "text/plain": [
       "(5078, 86)"
      ]
     },
     "execution_count": 69,
     "metadata": {},
     "output_type": "execute_result"
    }
   ],
   "source": [
    "df_final.shape"
   ]
  },
  {
   "cell_type": "code",
   "execution_count": 70,
   "metadata": {},
   "outputs": [],
   "source": [
    "df_final.to_csv('preprocessed_ham_phishing.csv', index=False)"
   ]
  },
  {
   "cell_type": "code",
   "execution_count": null,
   "metadata": {},
   "outputs": [],
   "source": []
  }
 ],
 "metadata": {
  "kernelspec": {
   "display_name": "base",
   "language": "python",
   "name": "python3"
  },
  "language_info": {
   "codemirror_mode": {
    "name": "ipython",
    "version": 3
   },
   "file_extension": ".py",
   "mimetype": "text/x-python",
   "name": "python",
   "nbconvert_exporter": "python",
   "pygments_lexer": "ipython3",
   "version": "3.9.12"
  }
 },
 "nbformat": 4,
 "nbformat_minor": 2
}
