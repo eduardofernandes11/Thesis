{
 "cells": [
  {
   "cell_type": "markdown",
   "metadata": {},
   "source": [
    "## Import data "
   ]
  },
  {
   "cell_type": "code",
   "execution_count": 199,
   "metadata": {},
   "outputs": [],
   "source": [
    "import numpy as np\n",
    "import pandas as pd\n",
    "import re\n",
    "import time\n",
    "import email.utils"
   ]
  },
  {
   "cell_type": "code",
   "execution_count": 200,
   "metadata": {},
   "outputs": [
    {
     "data": {
      "text/html": [
       "<div>\n",
       "<style scoped>\n",
       "    .dataframe tbody tr th:only-of-type {\n",
       "        vertical-align: middle;\n",
       "    }\n",
       "\n",
       "    .dataframe tbody tr th {\n",
       "        vertical-align: top;\n",
       "    }\n",
       "\n",
       "    .dataframe thead th {\n",
       "        text-align: right;\n",
       "    }\n",
       "</style>\n",
       "<table border=\"1\" class=\"dataframe\">\n",
       "  <thead>\n",
       "    <tr style=\"text-align: right;\">\n",
       "      <th></th>\n",
       "      <th>received1</th>\n",
       "      <th>received2</th>\n",
       "      <th>received3</th>\n",
       "      <th>received4</th>\n",
       "      <th>received5</th>\n",
       "      <th>received6</th>\n",
       "      <th>received7</th>\n",
       "      <th>received8</th>\n",
       "      <th>received9</th>\n",
       "      <th>received10</th>\n",
       "      <th>...</th>\n",
       "      <th>references</th>\n",
       "      <th>in-reply-to</th>\n",
       "      <th>user-agent</th>\n",
       "      <th>thread-index</th>\n",
       "      <th>cc</th>\n",
       "      <th>received-spf</th>\n",
       "      <th>content-disposition</th>\n",
       "      <th>domainkey-signature</th>\n",
       "      <th>importance</th>\n",
       "      <th>label</th>\n",
       "    </tr>\n",
       "  </thead>\n",
       "  <tbody>\n",
       "    <tr>\n",
       "      <th>0</th>\n",
       "      <td>from EXCHANGE-2-A1.ua.pt (193.136.172.115) by ...</td>\n",
       "      <td>from mx4.ua.pt (193.136.173.27) by EXCHANGE-2-...</td>\n",
       "      <td>from mail.safesopkoco.com ([176.117.76.112])  ...</td>\n",
       "      <td>from localhost (Unknown [127.0.0.1])\\tby mail....</td>\n",
       "      <td>NaN</td>\n",
       "      <td>NaN</td>\n",
       "      <td>NaN</td>\n",
       "      <td>NaN</td>\n",
       "      <td>NaN</td>\n",
       "      <td>NaN</td>\n",
       "      <td>...</td>\n",
       "      <td>NaN</td>\n",
       "      <td>NaN</td>\n",
       "      <td>NaN</td>\n",
       "      <td>NaN</td>\n",
       "      <td>NaN</td>\n",
       "      <td>None (mx4.ua.pt: no sender authenticity inform...</td>\n",
       "      <td>NaN</td>\n",
       "      <td>NaN</td>\n",
       "      <td>NaN</td>\n",
       "      <td>1</td>\n",
       "    </tr>\n",
       "  </tbody>\n",
       "</table>\n",
       "<p>1 rows × 39 columns</p>\n",
       "</div>"
      ],
      "text/plain": [
       "                                           received1  \\\n",
       "0  from EXCHANGE-2-A1.ua.pt (193.136.172.115) by ...   \n",
       "\n",
       "                                           received2  \\\n",
       "0  from mx4.ua.pt (193.136.173.27) by EXCHANGE-2-...   \n",
       "\n",
       "                                           received3  \\\n",
       "0  from mail.safesopkoco.com ([176.117.76.112])  ...   \n",
       "\n",
       "                                           received4 received5 received6  \\\n",
       "0  from localhost (Unknown [127.0.0.1])\\tby mail....       NaN       NaN   \n",
       "\n",
       "  received7 received8 received9 received10  ... references  in-reply-to  \\\n",
       "0       NaN       NaN       NaN        NaN  ...        NaN          NaN   \n",
       "\n",
       "  user-agent thread-index   cc  \\\n",
       "0        NaN          NaN  NaN   \n",
       "\n",
       "                                        received-spf content-disposition  \\\n",
       "0  None (mx4.ua.pt: no sender authenticity inform...                 NaN   \n",
       "\n",
       "  domainkey-signature importance  label  \n",
       "0                 NaN        NaN      1  \n",
       "\n",
       "[1 rows x 39 columns]"
      ]
     },
     "execution_count": 200,
     "metadata": {},
     "output_type": "execute_result"
    }
   ],
   "source": [
    "# Load the phishing emails\n",
    "source_directory = '../../Data/EmailsHeaders/extracted/'\n",
    "\n",
    "PHISHING_FILE = source_directory + 'extracted_headers.csv'\n",
    "\n",
    "df_phishing_2 = pd.read_csv(PHISHING_FILE)\n",
    "\n",
    "df_phishing_2.head(1)"
   ]
  },
  {
   "cell_type": "code",
   "execution_count": 201,
   "metadata": {},
   "outputs": [],
   "source": [
    "# Load the phishing emails\n",
    "source_directory = '../../Data/JosePhishingEmails/extracted/'\n",
    "\n",
    "PHISHING_FILE = source_directory + 'extracted_headers.csv'\n",
    "\n",
    "df_phishing = pd.read_csv(PHISHING_FILE)\n",
    "\n",
    "df_phishing.head(1)\n",
    "\n",
    "df_phishing = df_phishing.drop_duplicates()"
   ]
  },
  {
   "cell_type": "code",
   "execution_count": 202,
   "metadata": {},
   "outputs": [
    {
     "data": {
      "text/html": [
       "<div>\n",
       "<style scoped>\n",
       "    .dataframe tbody tr th:only-of-type {\n",
       "        vertical-align: middle;\n",
       "    }\n",
       "\n",
       "    .dataframe tbody tr th {\n",
       "        vertical-align: top;\n",
       "    }\n",
       "\n",
       "    .dataframe thead th {\n",
       "        text-align: right;\n",
       "    }\n",
       "</style>\n",
       "<table border=\"1\" class=\"dataframe\">\n",
       "  <thead>\n",
       "    <tr style=\"text-align: right;\">\n",
       "      <th></th>\n",
       "      <th>received1</th>\n",
       "      <th>received2</th>\n",
       "      <th>received3</th>\n",
       "      <th>received4</th>\n",
       "      <th>hops</th>\n",
       "      <th>subject</th>\n",
       "      <th>date</th>\n",
       "      <th>message-id</th>\n",
       "      <th>from</th>\n",
       "      <th>return-path</th>\n",
       "      <th>...</th>\n",
       "      <th>list-id</th>\n",
       "      <th>precedence</th>\n",
       "      <th>delivered-to</th>\n",
       "      <th>list-unsubscribe</th>\n",
       "      <th>sender</th>\n",
       "      <th>reply-to</th>\n",
       "      <th>received-spf</th>\n",
       "      <th>x-original-to</th>\n",
       "      <th>content-disposition</th>\n",
       "      <th>label</th>\n",
       "    </tr>\n",
       "  </thead>\n",
       "  <tbody>\n",
       "    <tr>\n",
       "      <th>0</th>\n",
       "      <td>from mda3cf.sendnode.com (mda3cf.sendnode.com ...</td>\n",
       "      <td>NaN</td>\n",
       "      <td>NaN</td>\n",
       "      <td>NaN</td>\n",
       "      <td>1</td>\n",
       "      <td>=?UTF-8?Q?Bitte_best=C3=A4tigen_Sie_Ihr_Newsle...</td>\n",
       "      <td>Thu, 27 Aug 2020 18:54:29 +0200</td>\n",
       "      <td>&lt;6cc.4.199@sendnode.com&gt;</td>\n",
       "      <td>=?UTF-8?Q?Sparkasse_zu_L=C3=BCbeck_AG?=\\n &lt;new...</td>\n",
       "      <td>&lt;hbbj.d.afbi=bounce@bounces.sendnode.com&gt;</td>\n",
       "      <td>...</td>\n",
       "      <td>&lt;201c.4.sendnode.com&gt;</td>\n",
       "      <td>NaN</td>\n",
       "      <td>mailbox@privacy-mail.org</td>\n",
       "      <td>NaN</td>\n",
       "      <td>NaN</td>\n",
       "      <td>&lt;newsletter@sparkasse-luebeck.de&gt;</td>\n",
       "      <td>pass (mx2e90: domain of bounces.sendnode.com d...</td>\n",
       "      <td>christopher.casto@privacy-mail.org</td>\n",
       "      <td>NaN</td>\n",
       "      <td>0</td>\n",
       "    </tr>\n",
       "  </tbody>\n",
       "</table>\n",
       "<p>1 rows × 25 columns</p>\n",
       "</div>"
      ],
      "text/plain": [
       "                                           received1 received2 received3  \\\n",
       "0  from mda3cf.sendnode.com (mda3cf.sendnode.com ...       NaN       NaN   \n",
       "\n",
       "  received4  hops                                            subject  \\\n",
       "0       NaN     1  =?UTF-8?Q?Bitte_best=C3=A4tigen_Sie_Ihr_Newsle...   \n",
       "\n",
       "                              date                message-id  \\\n",
       "0  Thu, 27 Aug 2020 18:54:29 +0200  <6cc.4.199@sendnode.com>   \n",
       "\n",
       "                                                from  \\\n",
       "0  =?UTF-8?Q?Sparkasse_zu_L=C3=BCbeck_AG?=\\n <new...   \n",
       "\n",
       "                                 return-path  ...                list-id  \\\n",
       "0  <hbbj.d.afbi=bounce@bounces.sendnode.com>  ...  <201c.4.sendnode.com>   \n",
       "\n",
       "  precedence              delivered-to list-unsubscribe sender  \\\n",
       "0        NaN  mailbox@privacy-mail.org              NaN    NaN   \n",
       "\n",
       "                            reply-to  \\\n",
       "0  <newsletter@sparkasse-luebeck.de>   \n",
       "\n",
       "                                        received-spf  \\\n",
       "0  pass (mx2e90: domain of bounces.sendnode.com d...   \n",
       "\n",
       "                        x-original-to content-disposition label  \n",
       "0  christopher.casto@privacy-mail.org                 NaN     0  \n",
       "\n",
       "[1 rows x 25 columns]"
      ]
     },
     "execution_count": 202,
     "metadata": {},
     "output_type": "execute_result"
    }
   ],
   "source": [
    "# Load the non-phishing emails\n",
    "HAM_FILE = '../../Data/HamEmails/extracted/extracted_2544_headers.csv'\n",
    "\n",
    "df_ham = pd.read_csv(HAM_FILE)\n",
    "\n",
    "df_ham.head(1)"
   ]
  },
  {
   "cell_type": "code",
   "execution_count": 203,
   "metadata": {},
   "outputs": [
    {
     "name": "stdout",
     "output_type": "stream",
     "text": [
      "The DataFrame with the most columns is df_phishing with 52 columns.\n"
     ]
    }
   ],
   "source": [
    "# DataFrame with the most columns and the column count\n",
    "dfs = {\n",
    "    'df': df_ham,\n",
    "    'df_phishing': df_phishing,\n",
    "    'df_phishing_2': df_phishing_2\n",
    "}\n",
    "max_columns_name, max_columns_df = max(dfs.items(), key=lambda x: x[1].shape[1])\n",
    "\n",
    "print(f\"The DataFrame with the most columns is {max_columns_name} with {max_columns_df.shape[1]} columns.\")"
   ]
  },
  {
   "cell_type": "code",
   "execution_count": 204,
   "metadata": {},
   "outputs": [
    {
     "data": {
      "text/plain": [
       "Index(['date', 'subject', 'reply-to', 'x-mailer', 'mailing-list',\n",
       "       'content-transfer-encoding', 'user-agent', 'x-beenthere',\n",
       "       'thread-index', 'from', 'x-spam-level', 'received10', 'in-reply-to',\n",
       "       'references', 'x-virus-scanned', 'list-unsubscribe',\n",
       "       'domainkey-signature', 'received1', 'received2', 'precedence',\n",
       "       'mime-version', 'x-priority', 'list-post', 'x-spam-status',\n",
       "       'received-spf', 'received4', 'received7', 'delivered-to',\n",
       "       'list-archive', 'received3', 'received6', 'status', 'label',\n",
       "       'received9', 'x-original-to', 'x-spam-checker-version', 'list-id', 'to',\n",
       "       'x-mimeole', 'content-disposition', 'cc', 'received5', 'hops',\n",
       "       'importance', 'list-help', 'content-type', 'sender', 'content-length',\n",
       "       'x-msmail-priority', 'received8', 'x-virus-status', 'message-id',\n",
       "       'return-path', 'received11'],\n",
       "      dtype='object')"
      ]
     },
     "execution_count": 204,
     "metadata": {},
     "output_type": "execute_result"
    }
   ],
   "source": [
    "# Find the union of all columns in dfs and df_phishing\n",
    "all_columns = set(df_phishing.columns)\n",
    "for _, df in dfs.items():\n",
    "    all_columns = all_columns.union(set(df.columns))\n",
    "\n",
    "# Ensure all DataFrames have the same columns, adding missing ones with NaN values\n",
    "dfs_aligned = [d[1].reindex(columns=all_columns, fill_value=np.nan) for d in dfs.items()]\n",
    "\n",
    "# Concatenate all DataFrames into one, ignoring the original index\n",
    "df_combined = pd.concat(dfs_aligned, ignore_index=True)\n",
    "\n",
    "df_combined.tail(1)\n",
    "df_combined.columns"
   ]
  },
  {
   "cell_type": "markdown",
   "metadata": {},
   "source": [
    "## Dataset Information"
   ]
  },
  {
   "cell_type": "code",
   "execution_count": 205,
   "metadata": {},
   "outputs": [
    {
     "data": {
      "text/plain": [
       "1    2588\n",
       "0    2544\n",
       "Name: label, dtype: int64"
      ]
     },
     "execution_count": 205,
     "metadata": {},
     "output_type": "execute_result"
    }
   ],
   "source": [
    "df_combined['label'].value_counts()"
   ]
  },
  {
   "cell_type": "code",
   "execution_count": 206,
   "metadata": {},
   "outputs": [
    {
     "data": {
      "text/plain": [
       "array(['date', 'subject', 'reply-to', 'x-mailer', 'mailing-list',\n",
       "       'content-transfer-encoding', 'user-agent', 'x-beenthere',\n",
       "       'thread-index', 'from', 'x-spam-level', 'received10',\n",
       "       'in-reply-to', 'references', 'x-virus-scanned', 'list-unsubscribe',\n",
       "       'domainkey-signature', 'received1', 'received2', 'precedence',\n",
       "       'mime-version', 'x-priority', 'list-post', 'x-spam-status',\n",
       "       'received-spf', 'received4', 'received7', 'delivered-to',\n",
       "       'list-archive', 'received3', 'received6', 'status', 'label',\n",
       "       'received9', 'x-original-to', 'x-spam-checker-version', 'list-id',\n",
       "       'to', 'x-mimeole', 'content-disposition', 'cc', 'received5',\n",
       "       'hops', 'importance', 'list-help', 'content-type', 'sender',\n",
       "       'content-length', 'x-msmail-priority', 'received8',\n",
       "       'x-virus-status', 'message-id', 'return-path', 'received11'],\n",
       "      dtype=object)"
      ]
     },
     "execution_count": 206,
     "metadata": {},
     "output_type": "execute_result"
    }
   ],
   "source": [
    "df_combined.columns.values"
   ]
  },
  {
   "cell_type": "code",
   "execution_count": 207,
   "metadata": {},
   "outputs": [
    {
     "name": "stdout",
     "output_type": "stream",
     "text": [
      "<class 'pandas.core.frame.DataFrame'>\n",
      "RangeIndex: 5132 entries, 0 to 5131\n",
      "Data columns (total 54 columns):\n",
      " #   Column                     Non-Null Count  Dtype  \n",
      "---  ------                     --------------  -----  \n",
      " 0   date                       5077 non-null   object \n",
      " 1   subject                    5125 non-null   object \n",
      " 2   reply-to                   2467 non-null   object \n",
      " 3   x-mailer                   1688 non-null   object \n",
      " 4   mailing-list               2 non-null      object \n",
      " 5   content-transfer-encoding  1061 non-null   object \n",
      " 6   user-agent                 24 non-null     object \n",
      " 7   x-beenthere                2 non-null      object \n",
      " 8   thread-index               218 non-null    object \n",
      " 9   from                       5132 non-null   object \n",
      " 10  x-spam-level               20 non-null     object \n",
      " 11  received10                 4 non-null      object \n",
      " 12  in-reply-to                54 non-null     object \n",
      " 13  references                 82 non-null     object \n",
      " 14  x-virus-scanned            191 non-null    object \n",
      " 15  list-unsubscribe           2261 non-null   object \n",
      " 16  domainkey-signature        85 non-null     object \n",
      " 17  received1                  5124 non-null   object \n",
      " 18  received2                  3379 non-null   object \n",
      " 19  precedence                 782 non-null    object \n",
      " 20  mime-version               5109 non-null   object \n",
      " 21  x-priority                 214 non-null    object \n",
      " 22  list-post                  2 non-null      object \n",
      " 23  x-spam-status              984 non-null    object \n",
      " 24  received-spf               2724 non-null   object \n",
      " 25  received4                  446 non-null    object \n",
      " 26  received7                  56 non-null     object \n",
      " 27  delivered-to               5072 non-null   object \n",
      " 28  list-archive               2 non-null      object \n",
      " 29  received3                  1044 non-null   object \n",
      " 30  received6                  177 non-null    object \n",
      " 31  status                     2488 non-null   object \n",
      " 32  label                      5132 non-null   int64  \n",
      " 33  received9                  7 non-null      object \n",
      " 34  x-original-to              2544 non-null   object \n",
      " 35  x-spam-checker-version     16 non-null     object \n",
      " 36  list-id                    1316 non-null   object \n",
      " 37  to                         5014 non-null   object \n",
      " 38  x-mimeole                  64 non-null     object \n",
      " 39  content-disposition        7 non-null      object \n",
      " 40  cc                         42 non-null     object \n",
      " 41  received5                  247 non-null    object \n",
      " 42  hops                       5132 non-null   int64  \n",
      " 43  importance                 54 non-null     object \n",
      " 44  list-help                  2 non-null      object \n",
      " 45  content-type               5122 non-null   object \n",
      " 46  sender                     512 non-null    object \n",
      " 47  content-length             6 non-null      float64\n",
      " 48  x-msmail-priority          82 non-null     object \n",
      " 49  received8                  25 non-null     object \n",
      " 50  x-virus-status             9 non-null      object \n",
      " 51  message-id                 4784 non-null   object \n",
      " 52  return-path                5105 non-null   object \n",
      " 53  received11                 1 non-null      object \n",
      "dtypes: float64(1), int64(2), object(51)\n",
      "memory usage: 2.1+ MB\n"
     ]
    }
   ],
   "source": [
    "df_combined.info()"
   ]
  },
  {
   "cell_type": "code",
   "execution_count": 208,
   "metadata": {},
   "outputs": [
    {
     "data": {
      "text/html": [
       "<div>\n",
       "<style scoped>\n",
       "    .dataframe tbody tr th:only-of-type {\n",
       "        vertical-align: middle;\n",
       "    }\n",
       "\n",
       "    .dataframe tbody tr th {\n",
       "        vertical-align: top;\n",
       "    }\n",
       "\n",
       "    .dataframe thead th {\n",
       "        text-align: right;\n",
       "    }\n",
       "</style>\n",
       "<table border=\"1\" class=\"dataframe\">\n",
       "  <thead>\n",
       "    <tr style=\"text-align: right;\">\n",
       "      <th></th>\n",
       "      <th>label</th>\n",
       "      <th>hops</th>\n",
       "      <th>content-length</th>\n",
       "    </tr>\n",
       "  </thead>\n",
       "  <tbody>\n",
       "    <tr>\n",
       "      <th>count</th>\n",
       "      <td>5132.000000</td>\n",
       "      <td>5132.000000</td>\n",
       "      <td>6.000000</td>\n",
       "    </tr>\n",
       "    <tr>\n",
       "      <th>mean</th>\n",
       "      <td>0.504287</td>\n",
       "      <td>2.047935</td>\n",
       "      <td>93583.333333</td>\n",
       "    </tr>\n",
       "    <tr>\n",
       "      <th>std</th>\n",
       "      <td>0.500030</td>\n",
       "      <td>1.214494</td>\n",
       "      <td>169068.834681</td>\n",
       "    </tr>\n",
       "    <tr>\n",
       "      <th>min</th>\n",
       "      <td>0.000000</td>\n",
       "      <td>0.000000</td>\n",
       "      <td>1934.000000</td>\n",
       "    </tr>\n",
       "    <tr>\n",
       "      <th>25%</th>\n",
       "      <td>0.000000</td>\n",
       "      <td>1.000000</td>\n",
       "      <td>1991.250000</td>\n",
       "    </tr>\n",
       "    <tr>\n",
       "      <th>50%</th>\n",
       "      <td>1.000000</td>\n",
       "      <td>2.000000</td>\n",
       "      <td>2180.000000</td>\n",
       "    </tr>\n",
       "    <tr>\n",
       "      <th>75%</th>\n",
       "      <td>1.000000</td>\n",
       "      <td>2.000000</td>\n",
       "      <td>98828.500000</td>\n",
       "    </tr>\n",
       "    <tr>\n",
       "      <th>max</th>\n",
       "      <td>1.000000</td>\n",
       "      <td>11.000000</td>\n",
       "      <td>422233.000000</td>\n",
       "    </tr>\n",
       "  </tbody>\n",
       "</table>\n",
       "</div>"
      ],
      "text/plain": [
       "             label         hops  content-length\n",
       "count  5132.000000  5132.000000        6.000000\n",
       "mean      0.504287     2.047935    93583.333333\n",
       "std       0.500030     1.214494   169068.834681\n",
       "min       0.000000     0.000000     1934.000000\n",
       "25%       0.000000     1.000000     1991.250000\n",
       "50%       1.000000     2.000000     2180.000000\n",
       "75%       1.000000     2.000000    98828.500000\n",
       "max       1.000000    11.000000   422233.000000"
      ]
     },
     "execution_count": 208,
     "metadata": {},
     "output_type": "execute_result"
    }
   ],
   "source": [
    "df_combined.describe()"
   ]
  },
  {
   "cell_type": "code",
   "execution_count": 209,
   "metadata": {},
   "outputs": [
    {
     "data": {
      "text/plain": [
       "date                         4820\n",
       "subject                      4184\n",
       "reply-to                      624\n",
       "x-mailer                      163\n",
       "mailing-list                    1\n",
       "content-transfer-encoding       7\n",
       "user-agent                     14\n",
       "x-beenthere                     1\n",
       "thread-index                  217\n",
       "from                         2253\n",
       "x-spam-level                   13\n",
       "received10                      4\n",
       "in-reply-to                    54\n",
       "references                     82\n",
       "x-virus-scanned               149\n",
       "list-unsubscribe             1830\n",
       "domainkey-signature            85\n",
       "received1                    5124\n",
       "received2                    3378\n",
       "precedence                      2\n",
       "mime-version                    5\n",
       "x-priority                      9\n",
       "list-post                       1\n",
       "x-spam-status                 586\n",
       "received-spf                 2283\n",
       "received4                     446\n",
       "received7                      56\n",
       "delivered-to                    6\n",
       "list-archive                    1\n",
       "received3                    1044\n",
       "received6                     177\n",
       "status                          3\n",
       "label                           2\n",
       "received9                       7\n",
       "x-original-to                  18\n",
       "x-spam-checker-version         15\n",
       "list-id                        22\n",
       "to                            474\n",
       "x-mimeole                      20\n",
       "content-disposition             3\n",
       "cc                             22\n",
       "received5                     247\n",
       "hops                           12\n",
       "importance                      6\n",
       "list-help                       1\n",
       "content-type                 3782\n",
       "sender                         53\n",
       "content-length                  6\n",
       "x-msmail-priority               5\n",
       "received8                      25\n",
       "x-virus-status                  3\n",
       "message-id                   4779\n",
       "return-path                  4125\n",
       "received11                      1\n",
       "dtype: int64"
      ]
     },
     "execution_count": 209,
     "metadata": {},
     "output_type": "execute_result"
    }
   ],
   "source": [
    "df_combined.nunique()"
   ]
  },
  {
   "cell_type": "code",
   "execution_count": 210,
   "metadata": {},
   "outputs": [
    {
     "data": {
      "text/plain": [
       "array([ 1,  2,  3,  4,  6,  5,  8,  0,  9,  7, 10, 11])"
      ]
     },
     "execution_count": 210,
     "metadata": {},
     "output_type": "execute_result"
    }
   ],
   "source": [
    "df_combined['hops'].unique()"
   ]
  },
  {
   "cell_type": "code",
   "execution_count": 211,
   "metadata": {},
   "outputs": [
    {
     "data": {
      "text/plain": [
       "['from', 'label', 'hops']"
      ]
     },
     "execution_count": 211,
     "metadata": {},
     "output_type": "execute_result"
    }
   ],
   "source": [
    "# Columns with no missing values\n",
    "df_combined.columns[~df_combined.isna().any()].tolist()"
   ]
  },
  {
   "cell_type": "code",
   "execution_count": 212,
   "metadata": {},
   "outputs": [
    {
     "data": {
      "text/plain": [
       "['date',\n",
       " 'subject',\n",
       " 'reply-to',\n",
       " 'x-mailer',\n",
       " 'mailing-list',\n",
       " 'content-transfer-encoding',\n",
       " 'user-agent',\n",
       " 'x-beenthere',\n",
       " 'thread-index',\n",
       " 'x-spam-level',\n",
       " 'received10',\n",
       " 'in-reply-to',\n",
       " 'references',\n",
       " 'x-virus-scanned',\n",
       " 'list-unsubscribe',\n",
       " 'domainkey-signature',\n",
       " 'received1',\n",
       " 'received2',\n",
       " 'precedence',\n",
       " 'mime-version',\n",
       " 'x-priority',\n",
       " 'list-post',\n",
       " 'x-spam-status',\n",
       " 'received-spf',\n",
       " 'received4',\n",
       " 'received7',\n",
       " 'delivered-to',\n",
       " 'list-archive',\n",
       " 'received3',\n",
       " 'received6',\n",
       " 'status',\n",
       " 'received9',\n",
       " 'x-original-to',\n",
       " 'x-spam-checker-version',\n",
       " 'list-id',\n",
       " 'to',\n",
       " 'x-mimeole',\n",
       " 'content-disposition',\n",
       " 'cc',\n",
       " 'received5',\n",
       " 'importance',\n",
       " 'list-help',\n",
       " 'content-type',\n",
       " 'sender',\n",
       " 'content-length',\n",
       " 'x-msmail-priority',\n",
       " 'received8',\n",
       " 'x-virus-status',\n",
       " 'message-id',\n",
       " 'return-path',\n",
       " 'received11']"
      ]
     },
     "execution_count": 212,
     "metadata": {},
     "output_type": "execute_result"
    }
   ],
   "source": [
    "# Columns with missing values\n",
    "df_combined.columns[df_combined.isna().any()].tolist()"
   ]
  },
  {
   "cell_type": "markdown",
   "metadata": {},
   "source": [
    "## Data preprocessing"
   ]
  },
  {
   "cell_type": "code",
   "execution_count": 213,
   "metadata": {},
   "outputs": [],
   "source": [
    "initial_features_list = ['received1', 'received2', 'received3', 'received4', 'received5',\n",
    "       'received6', 'received7', 'received8', 'subject', 'date',\n",
    "       'message-id', 'from', 'return-path', 'to', 'content-type',\n",
    "       'mime-version', 'x-mailer', 'content-transfer-encoding',\n",
    "       'x-mimeole', 'x-priority', 'list-id', 'x-virus-scanned', 'status',\n",
    "       'content-length', 'precedence', 'delivered-to', 'list-unsubscribe',\n",
    "       'list-post', 'list-help', 'x-msmail-priority', 'x-spam-status',\n",
    "       'sender', 'x-beenthere', 'list-archive', 'reply-to',\n",
    "       'x-virus-status', 'x-spam-level', 'x-spam-checker-version',\n",
    "       'references', 'in-reply-to', 'user-agent', 'thread-index', 'cc',\n",
    "       'received-spf', 'content-disposition', 'mailing-list',\n",
    "       'domainkey-signature', 'importance']\n",
    "\n",
    "label_name = 'label'\n",
    "\n",
    "final_features_list = ['hops']"
   ]
  },
  {
   "cell_type": "markdown",
   "metadata": {},
   "source": [
    "## **Feature - Handling Missing Values in Features**\n",
    "\n",
    "In this step, we create binary indicator features for missing values in the initial features list. For each feature in the `initial_features_list`, a new feature is created to indicate whether the value is missing (1) or not missing (0). This is useful for many machine learning models that may benefit from knowing whether a value was imputed."
   ]
  },
  {
   "cell_type": "code",
   "execution_count": 214,
   "metadata": {},
   "outputs": [
    {
     "data": {
      "text/plain": [
       "(5132, 54)"
      ]
     },
     "execution_count": 214,
     "metadata": {},
     "output_type": "execute_result"
    }
   ],
   "source": [
    "df_combined.shape"
   ]
  },
  {
   "cell_type": "code",
   "execution_count": 215,
   "metadata": {},
   "outputs": [],
   "source": [
    "missing_feature_names = ['missing_' + name for name in initial_features_list]\n",
    "\n",
    "for feature, missing_feature in zip(initial_features_list, missing_feature_names):\n",
    "    df_combined[missing_feature] = df_combined[feature].isnull().astype(int)\n",
    "\n",
    "final_features_list.extend(missing_feature_names)"
   ]
  },
  {
   "cell_type": "code",
   "execution_count": 216,
   "metadata": {},
   "outputs": [
    {
     "data": {
      "text/plain": [
       "(5132, 102)"
      ]
     },
     "execution_count": 216,
     "metadata": {},
     "output_type": "execute_result"
    }
   ],
   "source": [
    "df_combined.shape"
   ]
  },
  {
   "cell_type": "code",
   "execution_count": 217,
   "metadata": {},
   "outputs": [
    {
     "data": {
      "text/plain": [
       "0    5132\n",
       "Name: missing_from, dtype: int64"
      ]
     },
     "execution_count": 217,
     "metadata": {},
     "output_type": "execute_result"
    }
   ],
   "source": [
    "df_combined['missing_from'].value_counts()"
   ]
  },
  {
   "cell_type": "code",
   "execution_count": 218,
   "metadata": {},
   "outputs": [
    {
     "data": {
      "text/plain": [
       "0    5014\n",
       "1     118\n",
       "Name: missing_to, dtype: int64"
      ]
     },
     "execution_count": 218,
     "metadata": {},
     "output_type": "execute_result"
    }
   ],
   "source": [
    "df_combined['missing_to'].value_counts()"
   ]
  },
  {
   "cell_type": "markdown",
   "metadata": {},
   "source": [
    "### Replacing NaN Values in the DF\n",
    "\n",
    "In this step, we replace all `NaN` values in the `df_combined` DataFrame with empty strings. This operation ensures that there are no `NaN` values in the DataFrame, which can be particularly useful when preparing data for models that do not handle `NaN` values well or when converting the DataFrame to formats that do not support `NaN`.\n",
    "\n",
    "The code below performs this replacement using the `replace` method from Pandas."
   ]
  },
  {
   "cell_type": "code",
   "execution_count": 219,
   "metadata": {},
   "outputs": [],
   "source": [
    "df_combined = df_combined.replace(np.nan, '', regex=True)"
   ]
  },
  {
   "cell_type": "markdown",
   "metadata": {},
   "source": [
    "## **Feature - String Content Matching**"
   ]
  },
  {
   "cell_type": "code",
   "execution_count": 220,
   "metadata": {},
   "outputs": [],
   "source": [
    "def str_based_features_add(old_col_name, new_col_names, items_to_check):\n",
    "\n",
    "  for col_name, item_to_check in zip(new_col_names, items_to_check):\n",
    "    if item_to_check == '':\n",
    "      df_combined.loc[(df_combined[old_col_name].str.fullmatch(item_to_check)), col_name] = 1\n",
    "      df_combined.loc[~(df_combined[old_col_name].str.fullmatch(item_to_check)), col_name] = 0\n",
    "    else:\n",
    "      df_combined.loc[(df_combined[old_col_name].str.contains('(?i)' + item_to_check)), col_name] = 1\n",
    "      df_combined.loc[~(df_combined[old_col_name].str.contains('(?i)' + item_to_check)), col_name] = 0\n",
    "\n",
    "  final_features_list.extend(new_col_names)"
   ]
  },
  {
   "cell_type": "markdown",
   "metadata": {},
   "source": [
    "**Received-SPF:**\n",
    "\n",
    "'Received-SPF': contains 'bad', 'softfail', 'fail'"
   ]
  },
  {
   "cell_type": "code",
   "execution_count": 221,
   "metadata": {},
   "outputs": [],
   "source": [
    "new_col_names = ['str_received-SPF_bad', 'str_received-SPF_softfail', \n",
    "                 'str_received-SPF_fail']\n",
    "items_to_check = ['bad', 'softfail', 'fail']\n",
    "feature = 'received-spf'\n",
    "str_based_features_add(feature, new_col_names, items_to_check)"
   ]
  },
  {
   "cell_type": "code",
   "execution_count": 222,
   "metadata": {},
   "outputs": [
    {
     "data": {
      "text/plain": [
       "0.0    5127\n",
       "1.0       5\n",
       "Name: str_received-SPF_softfail, dtype: int64"
      ]
     },
     "execution_count": 222,
     "metadata": {},
     "output_type": "execute_result"
    }
   ],
   "source": [
    "df_combined['str_received-SPF_softfail'].value_counts()"
   ]
  },
  {
   "cell_type": "markdown",
   "metadata": {},
   "source": [
    "**Received check:**\n",
    "\n",
    "Detect if any of the 'received' columns contain the word 'forged'. If found, it returns 1; otherwise, it continues checking. A new feature, `received_str_forged`, is created in the DataFrame to store these binary indicators.\n"
   ]
  },
  {
   "cell_type": "code",
   "execution_count": 223,
   "metadata": {},
   "outputs": [],
   "source": [
    "def check_received_forged(row):\n",
    "  num_iters = row['hops']\n",
    "  col_name_base = 'received'\n",
    "\n",
    "  for i in range(1, num_iters+1):\n",
    "    curr_val = row[col_name_base + str(i)]\n",
    "    if 'forged' in curr_val:\n",
    "      return 1\n",
    "    else:\n",
    "      continue\n",
    "  return 0\n",
    "\n",
    "df_combined['received_str_forged'] = df_combined.apply(check_received_forged, axis=1)\n",
    "final_features_list.append('received_str_forged')"
   ]
  },
  {
   "cell_type": "code",
   "execution_count": 224,
   "metadata": {},
   "outputs": [
    {
     "data": {
      "text/plain": [
       "1    13\n",
       "Name: label, dtype: int64"
      ]
     },
     "execution_count": 224,
     "metadata": {},
     "output_type": "execute_result"
    }
   ],
   "source": [
    "df_combined[df_combined['received_str_forged'] == 1]['label'].value_counts()"
   ]
  },
  {
   "cell_type": "markdown",
   "metadata": {},
   "source": [
    "**From:**\n",
    "\n",
    "'From': contains '?', '!', or '<>'"
   ]
  },
  {
   "cell_type": "code",
   "execution_count": 225,
   "metadata": {},
   "outputs": [],
   "source": [
    "new_col_names = ['str_from_question', 'str_from_exclam', 'str_from_chevron']\n",
    "items_to_check = ['\\?', '!', '<.+>']\n",
    "feature = 'from'\n",
    "str_based_features_add(feature, new_col_names, items_to_check)"
   ]
  },
  {
   "cell_type": "markdown",
   "metadata": {},
   "source": [
    "**To:**\n",
    "\n",
    "'To': contains '<>'"
   ]
  },
  {
   "cell_type": "code",
   "execution_count": 226,
   "metadata": {},
   "outputs": [],
   "source": [
    "new_col_names = ['str_to_chevron', 'str_to_undisclosed', 'str_to_empty']\n",
    "items_to_check = ['<.+>', 'Undisclosed Recipients', '']\n",
    "feature = 'to'\n",
    "str_based_features_add(feature, new_col_names, items_to_check)"
   ]
  },
  {
   "cell_type": "markdown",
   "metadata": {},
   "source": [
    "**Message-ID:**\n",
    "\n",
    "'Message-ID': contains '$'"
   ]
  },
  {
   "cell_type": "code",
   "execution_count": 227,
   "metadata": {},
   "outputs": [],
   "source": [
    "new_col_names = ['str_message-ID_dollar']\n",
    "items_to_check = ['\\$']\n",
    "feature = 'message-id'\n",
    "str_based_features_add(feature, new_col_names, items_to_check)"
   ]
  },
  {
   "cell_type": "markdown",
   "metadata": {},
   "source": [
    "**Return-path:**\n",
    "\n",
    "'Return-Path': contains 'bounce'"
   ]
  },
  {
   "cell_type": "code",
   "execution_count": 228,
   "metadata": {},
   "outputs": [],
   "source": [
    "new_col_names = ['str_return-path_bounce', 'str_return-path_empty']\n",
    "items_to_check = ['bounce', '']\n",
    "feature = 'return-path'\n",
    "str_based_features_add(feature, new_col_names, items_to_check)"
   ]
  },
  {
   "cell_type": "markdown",
   "metadata": {},
   "source": [
    "**Reply-to:**\n",
    "\n",
    "'Reply-To': contains: '?'"
   ]
  },
  {
   "cell_type": "code",
   "execution_count": 229,
   "metadata": {},
   "outputs": [],
   "source": [
    "new_col_names = ['str_reply-to_question']\n",
    "items_to_check = ['\\?']\n",
    "feature = 'reply-to'\n",
    "str_based_features_add(feature, new_col_names, items_to_check)"
   ]
  },
  {
   "cell_type": "markdown",
   "metadata": {},
   "source": [
    "## **Feature - Count Based features**\n",
    "\n"
   ]
  },
  {
   "cell_type": "markdown",
   "metadata": {},
   "source": [
    "**Hops:**\n",
    "\n",
    "Hops: The number of received fields in an email."
   ]
  },
  {
   "cell_type": "code",
   "execution_count": 230,
   "metadata": {},
   "outputs": [
    {
     "data": {
      "text/plain": [
       "2     2335\n",
       "1     1745\n",
       "3      598\n",
       "4      199\n",
       "6      121\n",
       "5       70\n",
       "7       31\n",
       "8       18\n",
       "0        8\n",
       "9        3\n",
       "10       3\n",
       "11       1\n",
       "Name: hops, dtype: int64"
      ]
     },
     "execution_count": 230,
     "metadata": {},
     "output_type": "execute_result"
    }
   ],
   "source": [
    "df_combined['hops'].value_counts()"
   ]
  },
  {
   "cell_type": "code",
   "execution_count": 231,
   "metadata": {},
   "outputs": [
    {
     "data": {
      "text/plain": [
       "1    444\n",
       "0      2\n",
       "Name: label, dtype: int64"
      ]
     },
     "execution_count": 231,
     "metadata": {},
     "output_type": "execute_result"
    }
   ],
   "source": [
    "df_combined[df_combined['hops'] > 3]['label'].value_counts()"
   ]
  },
  {
   "cell_type": "code",
   "execution_count": 232,
   "metadata": {},
   "outputs": [],
   "source": [
    "df_combined['hops'] = df_combined['hops'].apply(lambda x: 0 if x <= 3 else 1)"
   ]
  },
  {
   "cell_type": "markdown",
   "metadata": {},
   "source": [
    "**Length-from:**\n",
    "\n",
    "Length-from: The total number of characters in the 'From' field."
   ]
  },
  {
   "cell_type": "code",
   "execution_count": 233,
   "metadata": {},
   "outputs": [],
   "source": [
    "def count_chars(field_names, new_col_names):\n",
    "  for field_name, new_col_name in zip(field_names, new_col_names):\n",
    "    df_combined[new_col_name] = df_combined[field_name].str.len()\n",
    "\n",
    "  final_features_list.extend(new_col_names)\n",
    "\n",
    "fields_to_find_lengths = ['from']\n",
    "new_col_names_lengths = []\n",
    "\n",
    "for val in fields_to_find_lengths:\n",
    "  new_col_names_lengths.append('length_' + val)\n",
    "\n",
    "count_chars(fields_to_find_lengths, new_col_names_lengths)"
   ]
  },
  {
   "cell_type": "code",
   "execution_count": 234,
   "metadata": {},
   "outputs": [
    {
     "data": {
      "text/plain": [
       "1    1266\n",
       "0     929\n",
       "Name: label, dtype: int64"
      ]
     },
     "execution_count": 234,
     "metadata": {},
     "output_type": "execute_result"
    }
   ],
   "source": [
    "df_combined[df_combined['length_from'] > 40]['label'].value_counts()"
   ]
  },
  {
   "cell_type": "code",
   "execution_count": 235,
   "metadata": {},
   "outputs": [],
   "source": [
    "df_combined['length_from'] = df_combined['length_from'].apply(lambda x: 0 if x > 40 else 1)"
   ]
  },
  {
   "cell_type": "markdown",
   "metadata": {},
   "source": [
    "**Number of recipients - To**\n",
    "\n",
    "The number of email addresses specified in the 'To' field."
   ]
  },
  {
   "cell_type": "code",
   "execution_count": 236,
   "metadata": {},
   "outputs": [],
   "source": [
    "df_combined['num_recipients_to'] = df_combined.apply(lambda x: len(re.findall(\n",
    "    r'([a-zA-Z0-9+._-]+@[a-zA-Z0-9._-]+\\.[a-zA-Z0-9_-]+)', x['to'])), axis=1)"
   ]
  },
  {
   "cell_type": "code",
   "execution_count": 237,
   "metadata": {},
   "outputs": [
    {
     "data": {
      "text/plain": [
       "1       4819\n",
       "0        187\n",
       "2        122\n",
       "97         1\n",
       "908        1\n",
       "4544       1\n",
       "4          1\n",
       "Name: num_recipients_to, dtype: int64"
      ]
     },
     "execution_count": 237,
     "metadata": {},
     "output_type": "execute_result"
    }
   ],
   "source": [
    "df_combined['num_recipients_to'].value_counts()"
   ]
  },
  {
   "cell_type": "code",
   "execution_count": 238,
   "metadata": {},
   "outputs": [
    {
     "data": {
      "text/plain": [
       "1    4945\n",
       "0     187\n",
       "Name: num_recipients_to, dtype: int64"
      ]
     },
     "execution_count": 238,
     "metadata": {},
     "output_type": "execute_result"
    }
   ],
   "source": [
    "df_combined['num_recipients_to'] = df_combined['num_recipients_to'].apply(lambda x: 0 if x == 0 else 1)\n",
    "df_combined['num_recipients_to'].value_counts()"
   ]
  },
  {
   "cell_type": "code",
   "execution_count": 239,
   "metadata": {},
   "outputs": [],
   "source": [
    "final_features_list.append('num_recipients_to')"
   ]
  },
  {
   "cell_type": "markdown",
   "metadata": {},
   "source": [
    "**Number of recipients - Cc**\n",
    "\n",
    "The number of email addresses specified in the 'Cc' field."
   ]
  },
  {
   "cell_type": "code",
   "execution_count": 240,
   "metadata": {},
   "outputs": [],
   "source": [
    "df_combined['num_recipients_cc'] = df_combined.apply(lambda x: len(re.findall(\n",
    "    r'([a-zA-Z0-9+._-]+@[a-zA-Z0-9._-]+\\.[a-zA-Z0-9_-]+)', x['cc'])), axis=1)"
   ]
  },
  {
   "cell_type": "code",
   "execution_count": 241,
   "metadata": {},
   "outputs": [
    {
     "data": {
      "text/plain": [
       "0    5090\n",
       "3      22\n",
       "1      16\n",
       "2       2\n",
       "5       2\n",
       "Name: num_recipients_cc, dtype: int64"
      ]
     },
     "execution_count": 241,
     "metadata": {},
     "output_type": "execute_result"
    }
   ],
   "source": [
    "df_combined['num_recipients_cc'].value_counts()"
   ]
  },
  {
   "cell_type": "code",
   "execution_count": 242,
   "metadata": {},
   "outputs": [
    {
     "data": {
      "text/plain": [
       "0    5090\n",
       "1      42\n",
       "Name: num_recipients_cc, dtype: int64"
      ]
     },
     "execution_count": 242,
     "metadata": {},
     "output_type": "execute_result"
    }
   ],
   "source": [
    "df_combined['num_recipients_cc'] = df_combined['num_recipients_cc'].apply(lambda x: 0 if x == 0 else 1)\n",
    "df_combined['num_recipients_cc'].value_counts()"
   ]
  },
  {
   "cell_type": "code",
   "execution_count": 243,
   "metadata": {},
   "outputs": [],
   "source": [
    "final_features_list.append('num_recipients_cc')"
   ]
  },
  {
   "cell_type": "markdown",
   "metadata": {},
   "source": [
    "**Number of recipients - From**\n",
    "\n",
    "The number of email addresses specified in the 'From' field."
   ]
  },
  {
   "cell_type": "code",
   "execution_count": 244,
   "metadata": {},
   "outputs": [],
   "source": [
    "df_combined['num_recipients_from'] = df_combined.apply(lambda x: len(re.findall(\n",
    "    r'([a-zA-Z0-9+._-]+@[a-zA-Z0-9._-]+\\.[a-zA-Z0-9_-]+)', x['cc'])), axis=1)"
   ]
  },
  {
   "cell_type": "code",
   "execution_count": 245,
   "metadata": {},
   "outputs": [
    {
     "data": {
      "text/plain": [
       "0    5090\n",
       "3      22\n",
       "1      16\n",
       "2       2\n",
       "5       2\n",
       "Name: num_recipients_from, dtype: int64"
      ]
     },
     "execution_count": 245,
     "metadata": {},
     "output_type": "execute_result"
    }
   ],
   "source": [
    "df_combined['num_recipients_from'].value_counts()"
   ]
  },
  {
   "cell_type": "code",
   "execution_count": 246,
   "metadata": {},
   "outputs": [
    {
     "data": {
      "text/plain": [
       "0    5090\n",
       "1      42\n",
       "Name: num_recipients_from, dtype: int64"
      ]
     },
     "execution_count": 246,
     "metadata": {},
     "output_type": "execute_result"
    }
   ],
   "source": [
    "df_combined['num_recipients_from'] = df_combined['num_recipients_from'].apply(lambda x: 0 if x == 0 else 1)\n",
    "df_combined['num_recipients_from'].value_counts()"
   ]
  },
  {
   "cell_type": "code",
   "execution_count": 247,
   "metadata": {},
   "outputs": [],
   "source": [
    "final_features_list.append('num_recipients_from')"
   ]
  },
  {
   "cell_type": "markdown",
   "metadata": {},
   "source": [
    "**Number of replies:**\n",
    "\n",
    "The number of message-ID's contained within the 'References' field. (Each message-ID is enclosed in a pair of '<>')."
   ]
  },
  {
   "cell_type": "code",
   "execution_count": 248,
   "metadata": {},
   "outputs": [],
   "source": [
    "def extract_num_replies(row):\n",
    "  references_val = row['references']\n",
    "  all = re.findall(r'<([a-zA-Z0-9+._-]+@[a-zA-Z0-9._-]+\\.[a-zA-Z0-9_-]+)>', \n",
    "                  references_val)\n",
    "  return len(all)\n",
    "\n",
    "df_combined['number_replies'] = df_combined.apply(extract_num_replies, axis=1)"
   ]
  },
  {
   "cell_type": "code",
   "execution_count": 249,
   "metadata": {},
   "outputs": [
    {
     "data": {
      "text/plain": [
       "0     5053\n",
       "1       61\n",
       "2        9\n",
       "3        4\n",
       "8        2\n",
       "4        2\n",
       "14       1\n",
       "Name: number_replies, dtype: int64"
      ]
     },
     "execution_count": 249,
     "metadata": {},
     "output_type": "execute_result"
    }
   ],
   "source": [
    "df_combined['number_replies'].value_counts()"
   ]
  },
  {
   "cell_type": "code",
   "execution_count": 250,
   "metadata": {},
   "outputs": [
    {
     "data": {
      "text/plain": [
       "1    79\n",
       "Name: label, dtype: int64"
      ]
     },
     "execution_count": 250,
     "metadata": {},
     "output_type": "execute_result"
    }
   ],
   "source": [
    "df_combined[df_combined['number_replies'] >= 1]['label'].value_counts()"
   ]
  },
  {
   "cell_type": "code",
   "execution_count": 251,
   "metadata": {},
   "outputs": [],
   "source": [
    "df_combined['number_replies'] = df_combined['number_replies'].apply(lambda x: 1 if x >= 1 else 0)"
   ]
  },
  {
   "cell_type": "code",
   "execution_count": 252,
   "metadata": {},
   "outputs": [],
   "source": [
    "final_features_list.append('number_replies')"
   ]
  },
  {
   "cell_type": "markdown",
   "metadata": {},
   "source": [
    "## **Feature - Comparison Based Features**\n",
    "\n",
    "Refers to features that are derived by comparing other features."
   ]
  },
  {
   "cell_type": "markdown",
   "metadata": {},
   "source": [
    "**Date Validity (Received)**: \n",
    "\n",
    "Comparing the 'Date' field and last received's \"date\" value:"
   ]
  },
  {
   "cell_type": "code",
   "execution_count": 253,
   "metadata": {},
   "outputs": [],
   "source": [
    "# def date_received_date_comp(row):\n",
    "#   date_date = row['date']\n",
    "#   date_received = row['last_received_date']\n",
    "\n",
    "#   d1 = email.utils.parsedate_tz(date_date)\n",
    "#   d2 = email.utils.parsedate_tz(date_received)\n",
    "\n",
    "#   if d1 is None or d2 is None:\n",
    "#     return -1\n",
    "\n",
    "#   try:\n",
    "#     val1 = email.utils.mktime_tz(d1)\n",
    "#     val2 = email.utils.mktime_tz(d2)\n",
    "#   except:\n",
    "#     return -1\n",
    "\n",
    "#   return (email.utils.mktime_tz(d2)) - (email.utils.mktime_tz(d1))"
   ]
  },
  {
   "cell_type": "code",
   "execution_count": 254,
   "metadata": {},
   "outputs": [],
   "source": [
    "# df_combined['date_comp_date_received'] = df_combined.apply(date_received_date_comp, axis=1)"
   ]
  },
  {
   "cell_type": "code",
   "execution_count": 255,
   "metadata": {},
   "outputs": [],
   "source": [
    "# df_combined[df_combined['date_comp_date_received'] > 0]['date_comp_date_received'].describe()\n"
   ]
  },
  {
   "cell_type": "markdown",
   "metadata": {},
   "source": [
    "**Domain matching**: \n",
    "\n",
    "- Message-ID + From\n",
    "- Message-ID + Return-Path\n",
    "- Message-ID + Sender\n",
    "- Message-ID + first Received\n",
    "- Return-Path + From\n",
    "- Return-Path + Reply-To\n",
    "- Reply-To + To\n",
    "- Error-To + Message-ID\n",
    "- Error-To + From\n",
    "- Error-To + Sender\n",
    "- Sender + From\n",
    "- Reference + Reply-To\n",
    "- Reference + InReply-To\n",
    "- To + last Received\n",
    "- InReply-To + To\n",
    "- Reference + To\n",
    "- Sender + first Received ('from' part of the first Received)\n",
    "- Return-Path + first Recieved ('from' part of the first Received)\n",
    "- Reply-To + last Received ('for' part of the last Received)\n",
    "- InReply-To + last Received ('for' part of the last Received)"
   ]
  },
  {
   "cell_type": "markdown",
   "metadata": {},
   "source": [
    "Extracting emails and domains:"
   ]
  },
  {
   "cell_type": "code",
   "execution_count": 256,
   "metadata": {},
   "outputs": [],
   "source": [
    "# emails in brackets '<>' are matched first, and if none, then other emails are matched\n",
    "def extract_emails(row, col_name):\n",
    "\n",
    "  in_brackets = re.findall(r'<([a-zA-Z0-9+._-]+@[a-zA-Z0-9._-]+\\.[a-zA-Z0-9_-]+)>', row[col_name])\n",
    "\n",
    "  if len(in_brackets) == 0:\n",
    "    not_in_brackets = re.findall(r'([a-zA-Z0-9+._-]+@[a-zA-Z0-9._-]+\\.[a-zA-Z0-9_-]+)', row[col_name])\n",
    "    if len(not_in_brackets) == 0:\n",
    "      return []\n",
    "    else:\n",
    "      return not_in_brackets\n",
    "  else:\n",
    "    return in_brackets\n",
    "\n",
    "def extract_domains(row, col_name):\n",
    "  emails_list = row[col_name]\n",
    "\n",
    "  if len(emails_list) == 0:\n",
    "    return []\n",
    "  else:\n",
    "    domains_list = []\n",
    "    for email in emails_list:\n",
    "      if len(email.split('.')) < 2:\n",
    "        continue\n",
    "      else:\n",
    "        main_domain = email.split('@')[-1]\n",
    "        main_domain = main_domain.split('.')[-2:]\n",
    "        main_domain = main_domain[0] + '.' + re.sub('\\W+','', main_domain[1])\n",
    "        domains_list.append(main_domain.lower())\n",
    "    return domains_list"
   ]
  },
  {
   "cell_type": "code",
   "execution_count": 257,
   "metadata": {},
   "outputs": [],
   "source": [
    "emails_from = df_combined.apply(extract_emails, col_name='from', axis=1)\n",
    "emails_message_id = df_combined.apply(extract_emails, col_name='message-id', axis=1)\n",
    "emails_return_path = df_combined.apply(extract_emails, col_name='return-path', axis=1)\n",
    "emails_reply_to = df_combined.apply(extract_emails, col_name='reply-to', axis=1)\n",
    "#emails_errors_to = df_combined.apply(extract_emails, col_name='errors-to', axis=1)\n",
    "emails_in_reply_to = df_combined.apply(extract_emails, col_name='in-reply-to', axis=1)\n",
    "emails_references = df_combined.apply(extract_emails, col_name='references', axis=1)\n",
    "emails_to = df_combined.apply(extract_emails, col_name='to', axis=1)\n",
    "emails_cc = df_combined.apply(extract_emails, col_name='cc', axis=1)\n",
    "emails_sender = df_combined.apply(extract_emails, col_name='sender', axis=1)\n",
    "\n",
    "emails_df = pd.concat([emails_from, emails_message_id, emails_return_path, \n",
    "                        emails_reply_to, emails_in_reply_to, \n",
    "                        emails_references, emails_to, emails_cc, emails_sender], axis=1)\n",
    "emails_df.set_axis(['from', 'message-id', 'return-path', 'reply-to',\n",
    "                     'in-reply-to', 'references', 'to', 'cc', 'sender'], \n",
    "                    axis=1, inplace=True)"
   ]
  },
  {
   "cell_type": "code",
   "execution_count": 258,
   "metadata": {},
   "outputs": [],
   "source": [
    "domains_from = emails_df.apply(extract_domains, col_name='from', axis=1)\n",
    "domains_message_id = emails_df.apply(extract_domains, col_name='message-id', axis=1)\n",
    "domains_return_path = emails_df.apply(extract_domains, col_name='return-path', axis=1)\n",
    "domains_reply_to = emails_df.apply(extract_domains, col_name='reply-to', axis=1)\n",
    "#domains_errors_to = emails_df.apply(extract_domains, col_name='errors-to', axis=1)\n",
    "domains_in_reply_to = emails_df.apply(extract_domains, col_name='in-reply-to', axis=1)\n",
    "domains_references = emails_df.apply(extract_domains, col_name='references', axis=1)\n",
    "domains_to = emails_df.apply(extract_domains, col_name='to', axis=1)\n",
    "domains_cc = emails_df.apply(extract_domains, col_name='cc', axis=1)\n",
    "domains_sender = emails_df.apply(extract_domains, col_name='sender', axis=1)\n",
    "\n",
    "domains_df = pd.concat([domains_from, domains_message_id, domains_return_path, \n",
    "                        domains_reply_to, domains_in_reply_to, \n",
    "                        domains_references, domains_to, domains_cc, domains_sender], axis=1)\n",
    "domains_df.set_axis(['from_domains', 'message-id_domains', 'return-path_domains', 'reply-to_domains',\n",
    "                     'in-reply-to_domains', 'references_domains', 'to_domains', 'cc_domains', 'sender_domains'], \n",
    "                    axis=1, inplace=True)"
   ]
  },
  {
   "cell_type": "code",
   "execution_count": 259,
   "metadata": {},
   "outputs": [],
   "source": [
    "def email_same_check(row, first_col, second_col):\n",
    "  vals1 = row[first_col]\n",
    "  vals2 = row[second_col]\n",
    "\n",
    "  for val1 in vals1:\n",
    "    for val2 in vals2:\n",
    "      if val1 == val2:\n",
    "        return 1\n",
    "\n",
    "  return 0\n",
    "\n",
    "emails_to_check = [('from', 'reply-to'), ('from', 'return-path'),]\n",
    "\n",
    "for val in emails_to_check:\n",
    "  first_field = val[0]\n",
    "  second_field = val[1]\n",
    "  new_col_name = 'email_match_' + first_field + '_' + second_field\n",
    "\n",
    "  df_combined[new_col_name] = emails_df.apply(email_same_check, first_col=first_field, \n",
    "                  second_col=second_field, axis=1)\n",
    "  final_features_list.append(new_col_name)"
   ]
  },
  {
   "cell_type": "code",
   "execution_count": 260,
   "metadata": {},
   "outputs": [],
   "source": [
    "# Returns 0 if no matches, 1 if at least one match\n",
    "def domain_match_check(row, first_col, second_col):\n",
    "\n",
    "  first_domain_list = row[first_col]\n",
    "  second_domain_list = row[second_col]\n",
    "\n",
    "  if len(first_domain_list) == 0 or len(second_domain_list) == 0:\n",
    "    return 0\n",
    "  else:\n",
    "    for d1 in first_domain_list:\n",
    "      for d2 in second_domain_list:\n",
    "        if d1 == d2:\n",
    "          return 1\n",
    "    return 0\n",
    "  \n",
    "domain_fields_to_check = [('message-id_domains', 'from_domains'), ('from_domains', 'return-path_domains'), ('message-id_domains', 'return-path_domains'), ('message-id_domains', 'sender_domains'), ('message-id_domains', 'reply-to_domains'),\n",
    "                          ('return-path_domains', 'reply-to_domains'), ('reply-to_domains', 'to_domains'), ('to_domains', 'in-reply-to_domains'), ('sender_domains', 'from_domains'), ('references_domains', 'reply-to_domains'), ('references_domains', 'in-reply-to_domains'), ('references_domains', 'to_domains'), ('from_domains', 'reply-to_domains'),\n",
    "                          ('to_domains', 'from_domains'), ('to_domains', 'message-id_domains')]\n",
    "\n",
    "for val in domain_fields_to_check:\n",
    "  first_field = val[0].replace('_domains', '')\n",
    "  second_field = val[1].replace('_domains', '')\n",
    "  new_col_name = 'domain_match_' + first_field + '_' + second_field \n",
    "\n",
    "  df_combined[new_col_name] = domains_df.apply(domain_match_check, first_col = val[0], \n",
    "                              second_col= val[1], axis=1)\n",
    "  final_features_list.append(new_col_name)"
   ]
  },
  {
   "cell_type": "code",
   "execution_count": null,
   "metadata": {},
   "outputs": [],
   "source": []
  },
  {
   "cell_type": "markdown",
   "metadata": {},
   "source": [
    "**Receieved Consequentive Checks**:\n",
    "\n",
    "Consequentive Received fields: checks if consequentive received fields have a matching domain for the 'by' of the eariler received field and the 'from' part of the later one. Value is 1 if there is an issue, otherwise 0 if all match."
   ]
  },
  {
   "cell_type": "code",
   "execution_count": null,
   "metadata": {},
   "outputs": [],
   "source": []
  },
  {
   "cell_type": "markdown",
   "metadata": {},
   "source": [
    "## Processed data to a file"
   ]
  },
  {
   "cell_type": "code",
   "execution_count": 261,
   "metadata": {},
   "outputs": [
    {
     "name": "stdout",
     "output_type": "stream",
     "text": [
      "hops\n",
      "0    4686\n",
      "1     446\n",
      "Name: hops, dtype: int64\n",
      "\n",
      "\n",
      "missing_received1\n",
      "0    5124\n",
      "1       8\n",
      "Name: missing_received1, dtype: int64\n",
      "\n",
      "\n",
      "missing_received2\n",
      "0    3379\n",
      "1    1753\n",
      "Name: missing_received2, dtype: int64\n",
      "\n",
      "\n",
      "missing_received3\n",
      "1    4088\n",
      "0    1044\n",
      "Name: missing_received3, dtype: int64\n",
      "\n",
      "\n",
      "missing_received4\n",
      "1    4686\n",
      "0     446\n",
      "Name: missing_received4, dtype: int64\n",
      "\n",
      "\n",
      "missing_received5\n",
      "1    4885\n",
      "0     247\n",
      "Name: missing_received5, dtype: int64\n",
      "\n",
      "\n",
      "missing_received6\n",
      "1    4955\n",
      "0     177\n",
      "Name: missing_received6, dtype: int64\n",
      "\n",
      "\n",
      "missing_received7\n",
      "1    5076\n",
      "0      56\n",
      "Name: missing_received7, dtype: int64\n",
      "\n",
      "\n",
      "missing_received8\n",
      "1    5107\n",
      "0      25\n",
      "Name: missing_received8, dtype: int64\n",
      "\n",
      "\n",
      "missing_subject\n",
      "0    5125\n",
      "1       7\n",
      "Name: missing_subject, dtype: int64\n",
      "\n",
      "\n",
      "missing_date\n",
      "0    5077\n",
      "1      55\n",
      "Name: missing_date, dtype: int64\n",
      "\n",
      "\n",
      "missing_message-id\n",
      "0    4784\n",
      "1     348\n",
      "Name: missing_message-id, dtype: int64\n",
      "\n",
      "\n",
      "missing_from\n",
      "0    5132\n",
      "Name: missing_from, dtype: int64\n",
      "\n",
      "\n",
      "missing_return-path\n",
      "0    5105\n",
      "1      27\n",
      "Name: missing_return-path, dtype: int64\n",
      "\n",
      "\n",
      "missing_to\n",
      "0    5014\n",
      "1     118\n",
      "Name: missing_to, dtype: int64\n",
      "\n",
      "\n",
      "missing_content-type\n",
      "0    5122\n",
      "1      10\n",
      "Name: missing_content-type, dtype: int64\n",
      "\n",
      "\n",
      "missing_mime-version\n",
      "0    5109\n",
      "1      23\n",
      "Name: missing_mime-version, dtype: int64\n",
      "\n",
      "\n",
      "missing_x-mailer\n",
      "1    3444\n",
      "0    1688\n",
      "Name: missing_x-mailer, dtype: int64\n",
      "\n",
      "\n",
      "missing_content-transfer-encoding\n",
      "1    4071\n",
      "0    1061\n",
      "Name: missing_content-transfer-encoding, dtype: int64\n",
      "\n",
      "\n",
      "missing_x-mimeole\n",
      "1    5068\n",
      "0      64\n",
      "Name: missing_x-mimeole, dtype: int64\n",
      "\n",
      "\n",
      "missing_x-priority\n",
      "1    4918\n",
      "0     214\n",
      "Name: missing_x-priority, dtype: int64\n",
      "\n",
      "\n",
      "missing_list-id\n",
      "1    3816\n",
      "0    1316\n",
      "Name: missing_list-id, dtype: int64\n",
      "\n",
      "\n",
      "missing_x-virus-scanned\n",
      "1    4941\n",
      "0     191\n",
      "Name: missing_x-virus-scanned, dtype: int64\n",
      "\n",
      "\n",
      "missing_status\n",
      "1    2644\n",
      "0    2488\n",
      "Name: missing_status, dtype: int64\n",
      "\n",
      "\n",
      "missing_content-length\n",
      "1    5126\n",
      "0       6\n",
      "Name: missing_content-length, dtype: int64\n",
      "\n",
      "\n",
      "missing_precedence\n",
      "1    4350\n",
      "0     782\n",
      "Name: missing_precedence, dtype: int64\n",
      "\n",
      "\n",
      "missing_delivered-to\n",
      "0    5072\n",
      "1      60\n",
      "Name: missing_delivered-to, dtype: int64\n",
      "\n",
      "\n",
      "missing_list-unsubscribe\n",
      "1    2871\n",
      "0    2261\n",
      "Name: missing_list-unsubscribe, dtype: int64\n",
      "\n",
      "\n",
      "missing_list-post\n",
      "1    5130\n",
      "0       2\n",
      "Name: missing_list-post, dtype: int64\n",
      "\n",
      "\n",
      "missing_list-help\n",
      "1    5130\n",
      "0       2\n",
      "Name: missing_list-help, dtype: int64\n",
      "\n",
      "\n",
      "missing_x-msmail-priority\n",
      "1    5050\n",
      "0      82\n",
      "Name: missing_x-msmail-priority, dtype: int64\n",
      "\n",
      "\n",
      "missing_x-spam-status\n",
      "1    4148\n",
      "0     984\n",
      "Name: missing_x-spam-status, dtype: int64\n",
      "\n",
      "\n",
      "missing_sender\n",
      "1    4620\n",
      "0     512\n",
      "Name: missing_sender, dtype: int64\n",
      "\n",
      "\n",
      "missing_x-beenthere\n",
      "1    5130\n",
      "0       2\n",
      "Name: missing_x-beenthere, dtype: int64\n",
      "\n",
      "\n",
      "missing_list-archive\n",
      "1    5130\n",
      "0       2\n",
      "Name: missing_list-archive, dtype: int64\n",
      "\n",
      "\n",
      "missing_reply-to\n",
      "1    2665\n",
      "0    2467\n",
      "Name: missing_reply-to, dtype: int64\n",
      "\n",
      "\n",
      "missing_x-virus-status\n",
      "1    5123\n",
      "0       9\n",
      "Name: missing_x-virus-status, dtype: int64\n",
      "\n",
      "\n",
      "missing_x-spam-level\n",
      "1    5112\n",
      "0      20\n",
      "Name: missing_x-spam-level, dtype: int64\n",
      "\n",
      "\n",
      "missing_x-spam-checker-version\n",
      "1    5116\n",
      "0      16\n",
      "Name: missing_x-spam-checker-version, dtype: int64\n",
      "\n",
      "\n",
      "missing_references\n",
      "1    5050\n",
      "0      82\n",
      "Name: missing_references, dtype: int64\n",
      "\n",
      "\n",
      "missing_in-reply-to\n",
      "1    5078\n",
      "0      54\n",
      "Name: missing_in-reply-to, dtype: int64\n",
      "\n",
      "\n",
      "missing_user-agent\n",
      "1    5108\n",
      "0      24\n",
      "Name: missing_user-agent, dtype: int64\n",
      "\n",
      "\n",
      "missing_thread-index\n",
      "1    4914\n",
      "0     218\n",
      "Name: missing_thread-index, dtype: int64\n",
      "\n",
      "\n",
      "missing_cc\n",
      "1    5090\n",
      "0      42\n",
      "Name: missing_cc, dtype: int64\n",
      "\n",
      "\n",
      "missing_received-spf\n",
      "0    2724\n",
      "1    2408\n",
      "Name: missing_received-spf, dtype: int64\n",
      "\n",
      "\n",
      "missing_content-disposition\n",
      "1    5125\n",
      "0       7\n",
      "Name: missing_content-disposition, dtype: int64\n",
      "\n",
      "\n",
      "missing_mailing-list\n",
      "1    5130\n",
      "0       2\n",
      "Name: missing_mailing-list, dtype: int64\n",
      "\n",
      "\n",
      "missing_domainkey-signature\n",
      "1    5047\n",
      "0      85\n",
      "Name: missing_domainkey-signature, dtype: int64\n",
      "\n",
      "\n",
      "missing_importance\n",
      "1    5078\n",
      "0      54\n",
      "Name: missing_importance, dtype: int64\n",
      "\n",
      "\n",
      "str_received-SPF_bad\n",
      "0.0    5129\n",
      "1.0       3\n",
      "Name: str_received-SPF_bad, dtype: int64\n",
      "\n",
      "\n",
      "str_received-SPF_softfail\n",
      "0.0    5127\n",
      "1.0       5\n",
      "Name: str_received-SPF_softfail, dtype: int64\n",
      "\n",
      "\n",
      "str_received-SPF_fail\n",
      "0.0    5118\n",
      "1.0      14\n",
      "Name: str_received-SPF_fail, dtype: int64\n",
      "\n",
      "\n",
      "received_str_forged\n",
      "0    5119\n",
      "1      13\n",
      "Name: received_str_forged, dtype: int64\n",
      "\n",
      "\n",
      "str_from_question\n",
      "0.0    4684\n",
      "1.0     448\n",
      "Name: str_from_question, dtype: int64\n",
      "\n",
      "\n",
      "str_from_exclam\n",
      "0.0    5127\n",
      "1.0       5\n",
      "Name: str_from_exclam, dtype: int64\n",
      "\n",
      "\n",
      "str_from_chevron\n",
      "1.0    5042\n",
      "0.0      90\n",
      "Name: str_from_chevron, dtype: int64\n",
      "\n",
      "\n",
      "str_to_chevron\n",
      "0.0    3827\n",
      "1.0    1305\n",
      "Name: str_to_chevron, dtype: int64\n",
      "\n",
      "\n",
      "str_to_undisclosed\n",
      "0.0    5119\n",
      "1.0      13\n",
      "Name: str_to_undisclosed, dtype: int64\n",
      "\n",
      "\n",
      "str_to_empty\n",
      "0.0    5014\n",
      "1.0     118\n",
      "Name: str_to_empty, dtype: int64\n",
      "\n",
      "\n",
      "str_message-ID_dollar\n",
      "0.0    5093\n",
      "1.0      39\n",
      "Name: str_message-ID_dollar, dtype: int64\n",
      "\n",
      "\n",
      "str_return-path_bounce\n",
      "0.0    3297\n",
      "1.0    1835\n",
      "Name: str_return-path_bounce, dtype: int64\n",
      "\n",
      "\n",
      "str_return-path_empty\n",
      "0.0    5105\n",
      "1.0      27\n",
      "Name: str_return-path_empty, dtype: int64\n",
      "\n",
      "\n",
      "str_reply-to_question\n",
      "0.0    4879\n",
      "1.0     253\n",
      "Name: str_reply-to_question, dtype: int64\n",
      "\n",
      "\n",
      "length_from\n",
      "1    2937\n",
      "0    2195\n",
      "Name: length_from, dtype: int64\n",
      "\n",
      "\n",
      "num_recipients_to\n",
      "1    4945\n",
      "0     187\n",
      "Name: num_recipients_to, dtype: int64\n",
      "\n",
      "\n",
      "num_recipients_cc\n",
      "0    5090\n",
      "1      42\n",
      "Name: num_recipients_cc, dtype: int64\n",
      "\n",
      "\n",
      "num_recipients_from\n",
      "0    5090\n",
      "1      42\n",
      "Name: num_recipients_from, dtype: int64\n",
      "\n",
      "\n",
      "number_replies\n",
      "0    5053\n",
      "1      79\n",
      "Name: number_replies, dtype: int64\n",
      "\n",
      "\n",
      "email_match_from_reply-to\n",
      "0    4048\n",
      "1    1084\n",
      "Name: email_match_from_reply-to, dtype: int64\n",
      "\n",
      "\n",
      "email_match_from_return-path\n",
      "0    3342\n",
      "1    1790\n",
      "Name: email_match_from_return-path, dtype: int64\n",
      "\n",
      "\n",
      "domain_match_message-id_from\n",
      "0    3013\n",
      "1    2119\n",
      "Name: domain_match_message-id_from, dtype: int64\n",
      "\n",
      "\n",
      "domain_match_from_return-path\n",
      "1    3650\n",
      "0    1482\n",
      "Name: domain_match_from_return-path, dtype: int64\n",
      "\n",
      "\n",
      "domain_match_message-id_return-path\n",
      "1    3194\n",
      "0    1938\n",
      "Name: domain_match_message-id_return-path, dtype: int64\n",
      "\n",
      "\n",
      "domain_match_message-id_sender\n",
      "0    4679\n",
      "1     453\n",
      "Name: domain_match_message-id_sender, dtype: int64\n",
      "\n",
      "\n",
      "domain_match_message-id_reply-to\n",
      "0    4632\n",
      "1     500\n",
      "Name: domain_match_message-id_reply-to, dtype: int64\n",
      "\n",
      "\n",
      "domain_match_return-path_reply-to\n",
      "0    3940\n",
      "1    1192\n",
      "Name: domain_match_return-path_reply-to, dtype: int64\n",
      "\n",
      "\n",
      "domain_match_reply-to_to\n",
      "0    5105\n",
      "1      27\n",
      "Name: domain_match_reply-to_to, dtype: int64\n",
      "\n",
      "\n",
      "domain_match_to_in-reply-to\n",
      "0    5114\n",
      "1      18\n",
      "Name: domain_match_to_in-reply-to, dtype: int64\n",
      "\n",
      "\n",
      "domain_match_sender_from\n",
      "0    4672\n",
      "1     460\n",
      "Name: domain_match_sender_from, dtype: int64\n",
      "\n",
      "\n",
      "domain_match_references_reply-to\n",
      "0    5132\n",
      "Name: domain_match_references_reply-to, dtype: int64\n",
      "\n",
      "\n",
      "domain_match_references_in-reply-to\n",
      "0    5079\n",
      "1      53\n",
      "Name: domain_match_references_in-reply-to, dtype: int64\n",
      "\n",
      "\n",
      "domain_match_references_to\n",
      "0    5113\n",
      "1      19\n",
      "Name: domain_match_references_to, dtype: int64\n",
      "\n",
      "\n",
      "domain_match_from_reply-to\n",
      "0    3294\n",
      "1    1838\n",
      "Name: domain_match_from_reply-to, dtype: int64\n",
      "\n",
      "\n",
      "domain_match_to_from\n",
      "0    4614\n",
      "1     518\n",
      "Name: domain_match_to_from, dtype: int64\n",
      "\n",
      "\n",
      "domain_match_to_message-id\n",
      "0    4989\n",
      "1     143\n",
      "Name: domain_match_to_message-id, dtype: int64\n",
      "\n",
      "\n"
     ]
    }
   ],
   "source": [
    "for item in final_features_list:\n",
    "  print(item)\n",
    "  print(df_combined[item].value_counts())\n",
    "  print('\\n')"
   ]
  },
  {
   "cell_type": "code",
   "execution_count": 262,
   "metadata": {},
   "outputs": [
    {
     "data": {
      "text/plain": [
       "0    2021\n",
       "1    1806\n",
       "Name: label, dtype: int64"
      ]
     },
     "execution_count": 262,
     "metadata": {},
     "output_type": "execute_result"
    }
   ],
   "source": [
    "df_combined[df_combined['str_to_chevron'] == 0]['label'].value_counts()"
   ]
  },
  {
   "cell_type": "code",
   "execution_count": 263,
   "metadata": {},
   "outputs": [
    {
     "data": {
      "text/plain": [
       "(5132, 138)"
      ]
     },
     "execution_count": 263,
     "metadata": {},
     "output_type": "execute_result"
    }
   ],
   "source": [
    "df_combined.shape"
   ]
  },
  {
   "cell_type": "code",
   "execution_count": 264,
   "metadata": {},
   "outputs": [],
   "source": [
    "# Removes missing_received fields since received1 is always there, and the other ones\n",
    "# encode the same information as 'hops'. The other removed features have only one value,\n",
    "# or a strong majority towards one value.\n",
    "remove_list = ['missing_received1', 'missing_received2', 'missing_received3',\n",
    " 'missing_received4', 'missing_received5', 'missing_received6',\n",
    " 'missing_received7', 'missing_received8', 'missing_received9',\n",
    " 'missing_received10', 'missing_subject', 'missing_date', 'missing_message-id', 'missing_from',\n",
    " 'missing_return-path', 'missing_to', 'missing_content_type', 'missing_mime-version', 'missing_x-mimeole',\n",
    " 'missing_x-priority', 'missing_x-virus-scanned', 'missing_content-length', 'missing_delivered-to', 'missing_list-post',\n",
    " 'missing_list-help', 'missing_x-msmail-priority', 'missing_x-beenthere', 'missing_list-archive', 'missing_x-virus-status', 'missing_x-spam-level', 'missing_x-spam-checker-version', 'missing_references', 'missing_in-reply-to', 'missing_user-agent', 'missing_thread-index', 'missing_cc', 'missing_content-disposition', 'missing_mailing-list', 'missing_domainkey-signature', 'missing_importance', 'str_from_chevron', 'str_to_undisclosed', 'str_return-path_empty',\n",
    " 'str_from_exclam', 'str_reply-to_question', 'str_message-ID_dollar', 'str_received-SPF_bad', \n",
    " 'str_received-SPF_softfail', 'str_received-SPF_fail', 'str_reply-to_question', \n",
    " 'num_recipients_from']\n",
    "\n",
    "for v in remove_list:\n",
    "  if v in final_features_list:\n",
    "    final_features_list.remove(v)\n",
    "    \n",
    "final_features_list.append('label')"
   ]
  },
  {
   "cell_type": "code",
   "execution_count": 265,
   "metadata": {},
   "outputs": [
    {
     "name": "stdout",
     "output_type": "stream",
     "text": [
      "Number of duplicates: 0\n"
     ]
    }
   ],
   "source": [
    "duplicates = df_combined.duplicated().sum()\n",
    "print(f\"Number of duplicates: {duplicates}\")"
   ]
  },
  {
   "cell_type": "code",
   "execution_count": 266,
   "metadata": {},
   "outputs": [],
   "source": [
    "df_final = df_combined[final_features_list]"
   ]
  },
  {
   "cell_type": "code",
   "execution_count": 267,
   "metadata": {},
   "outputs": [
    {
     "name": "stdout",
     "output_type": "stream",
     "text": [
      "Number of duplicates: 4388\n"
     ]
    }
   ],
   "source": [
    "duplicates = df_final.duplicated().sum()\n",
    "print(f\"Number of duplicates: {duplicates}\")"
   ]
  },
  {
   "cell_type": "code",
   "execution_count": 268,
   "metadata": {},
   "outputs": [
    {
     "data": {
      "text/plain": [
       "(5132, 39)"
      ]
     },
     "execution_count": 268,
     "metadata": {},
     "output_type": "execute_result"
    }
   ],
   "source": [
    "df_final.shape"
   ]
  },
  {
   "cell_type": "code",
   "execution_count": 269,
   "metadata": {},
   "outputs": [],
   "source": [
    "df_final.to_csv('preprocessed_real_phishing.csv', index=False)"
   ]
  },
  {
   "cell_type": "code",
   "execution_count": null,
   "metadata": {},
   "outputs": [],
   "source": []
  }
 ],
 "metadata": {
  "kernelspec": {
   "display_name": "base",
   "language": "python",
   "name": "python3"
  },
  "language_info": {
   "codemirror_mode": {
    "name": "ipython",
    "version": 3
   },
   "file_extension": ".py",
   "mimetype": "text/x-python",
   "name": "python",
   "nbconvert_exporter": "python",
   "pygments_lexer": "ipython3",
   "version": "3.9.12"
  }
 },
 "nbformat": 4,
 "nbformat_minor": 2
}
