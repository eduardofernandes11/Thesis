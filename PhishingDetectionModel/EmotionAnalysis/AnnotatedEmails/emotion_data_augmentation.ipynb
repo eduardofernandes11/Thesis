{
 "cells": [
  {
   "cell_type": "code",
   "execution_count": 1,
   "metadata": {},
   "outputs": [
    {
     "name": "stderr",
     "output_type": "stream",
     "text": [
      "[nltk_data] Downloading package stopwords to /home/rezett/nltk_data...\n",
      "[nltk_data]   Package stopwords is already up-to-date!\n",
      "[nltk_data] Downloading package wordnet to /home/rezett/nltk_data...\n",
      "[nltk_data]   Package wordnet is already up-to-date!\n",
      "[nltk_data] Downloading package omw-1.4 to /home/rezett/nltk_data...\n",
      "[nltk_data]   Package omw-1.4 is already up-to-date!\n"
     ]
    }
   ],
   "source": [
    "import nltk\n",
    "from nltk.corpus import wordnet\n",
    "from nltk.corpus import stopwords\n",
    "nltk.download('stopwords')\n",
    "nltk.download('wordnet')\n",
    "nltk.download('omw-1.4')\n",
    "import random\n",
    "import numpy as np\n",
    "import matplotlib.pyplot as plt\n",
    "import pandas as pd\n",
    "import pickle"
   ]
  },
  {
   "cell_type": "markdown",
   "metadata": {},
   "source": [
    "## EDA Techniques\n",
    "- Random Synonym replacement\n",
    "- Random Insertion\n",
    "- Random Deletion\n",
    "- Random Swap"
   ]
  },
  {
   "cell_type": "code",
   "execution_count": 2,
   "metadata": {},
   "outputs": [],
   "source": [
    "def synonym_replacement(originalSentence, n):\n",
    "    \"\"\"\n",
    "        Paper Methodology -> Randomly choose n words from the sentence that are not stop words. \n",
    "                            Replace each of these words with one of its synonyms chosen at random.\n",
    "        originalSentence -> The sentence on which EDA is to be applied\n",
    "        n -> The number of words to be chosen for random synonym replacement\n",
    "    \"\"\"\n",
    "    stops = set(stopwords.words('english'))\n",
    "    splitSentence = list(originalSentence.split(\" \"))\n",
    "    splitSentenceCopy = splitSentence.copy()\n",
    "    # Since We Make Changes to The Original Sentence List The Indexes Change and Hence an initial copy proves useful to get values\n",
    "    ls_nonStopWordIndexes = []\n",
    "    for i in range(len(splitSentence)):\n",
    "        if splitSentence[i].lower() not in stops:\n",
    "            ls_nonStopWordIndexes.append(i)\n",
    "    if (n > len(ls_nonStopWordIndexes)):\n",
    "        raise Exception(\"The number of replacements exceeds the number of non stop word words\")\n",
    "    for i in range(n):\n",
    "        indexChosen = random.choice(ls_nonStopWordIndexes)\n",
    "        ls_nonStopWordIndexes.remove(indexChosen)\n",
    "        synonyms = []\n",
    "        originalWord = splitSentenceCopy[indexChosen]\n",
    "        for synset in wordnet.synsets(originalWord):\n",
    "            for lemma in synset.lemmas():\n",
    "                if lemma.name() != originalWord:\n",
    "                    synonyms.append(lemma.name())\n",
    "        if (synonyms == []):\n",
    "            continue\n",
    "        splitSentence[indexChosen] = random.choice(synonyms).replace('_', ' ')\n",
    "    return \" \".join(splitSentence)"
   ]
  },
  {
   "cell_type": "code",
   "execution_count": 3,
   "metadata": {},
   "outputs": [
    {
     "name": "stdout",
     "output_type": "stream",
     "text": [
      "I love life to play football game\n"
     ]
    }
   ],
   "source": [
    "print(synonym_replacement('I love to play football', 2))"
   ]
  },
  {
   "cell_type": "code",
   "execution_count": 4,
   "metadata": {},
   "outputs": [],
   "source": [
    "def random_insertion(originalSentence, n):\n",
    "    \"\"\"\n",
    "        Paper Methodology -> Find a random synonym of a random word in the sentence that is not a stop word. \n",
    "                            Insert that synonym into a random position in the sentence. Do this n times\n",
    "        originalSentence -> The sentence on which EDA is to be applied\n",
    "        n -> The number of times the process has to be repeated\n",
    "    \"\"\"\n",
    "    stops = set(stopwords.words('english'))\n",
    "    splitSentence = list(originalSentence.split(\" \"))\n",
    "    splitSentenceCopy = splitSentence.copy() \n",
    "    # Since We Make Changes to The Original Sentence List The Indexes Change and Hence an initial copy proves useful to get values\n",
    "    ls_nonStopWordIndexes = []\n",
    "    for i in range(len(splitSentence)):\n",
    "        if splitSentence[i].lower() not in stops:\n",
    "            ls_nonStopWordIndexes.append(i)\n",
    "    if (n > len(ls_nonStopWordIndexes)):\n",
    "        raise Exception(\"The number of replacements exceeds the number of non stop word words\")\n",
    "    WordCount = len(splitSentence)\n",
    "    for i in range(n):\n",
    "        indexChosen = random.choice(ls_nonStopWordIndexes)\n",
    "        ls_nonStopWordIndexes.remove(indexChosen)\n",
    "        synonyms = []\n",
    "        originalWord = splitSentenceCopy[indexChosen]\n",
    "        for synset in wordnet.synsets(originalWord):\n",
    "            for lemma in synset.lemmas():\n",
    "                if lemma.name() != originalWord:\n",
    "                    synonyms.append(lemma.name())\n",
    "        if (synonyms == []):\n",
    "            continue\n",
    "        splitSentence.insert(random.randint(0,WordCount-1), random.choice(synonyms).replace('_', ' '))\n",
    "    return \" \".join(splitSentence)"
   ]
  },
  {
   "cell_type": "code",
   "execution_count": 5,
   "metadata": {},
   "outputs": [
    {
     "name": "stdout",
     "output_type": "stream",
     "text": [
      "I gambling love to have a go at it play football\n"
     ]
    }
   ],
   "source": [
    "print(random_insertion('I love to play football', 2))"
   ]
  },
  {
   "cell_type": "code",
   "execution_count": 6,
   "metadata": {},
   "outputs": [],
   "source": [
    "def random_deletion(originalSentence, p):\n",
    "    \"\"\"\n",
    "        Paper Methodology -> Randomly remove each word in the sentence with probability p.\n",
    "        originalSentence -> The sentence on which EDA is to be applied\n",
    "        p -> Probability of a Word Being Removed\n",
    "    \"\"\"\n",
    "    og = originalSentence\n",
    "    if (p == 1):\n",
    "        raise Exception(\"Always an Empty String Will Be Returned\") \n",
    "    if (p > 1 or p < 0):\n",
    "        raise Exception(\"Improper Probability Value\")\n",
    "    splitSentence = list(originalSentence.split(\" \"))\n",
    "    lsIndexesRemoved = []\n",
    "    WordCount = len(splitSentence)\n",
    "    for i in range(WordCount):\n",
    "        randomDraw = random.random()\n",
    "        if randomDraw <= p:\n",
    "            lsIndexesRemoved.append(i)\n",
    "    lsRetainingWords = []\n",
    "    for i in range(len(splitSentence)):\n",
    "        if i not in lsIndexesRemoved:\n",
    "            lsRetainingWords.append(splitSentence[i])\n",
    "    if (lsRetainingWords == []):\n",
    "        return og\n",
    "    return \" \".join(lsRetainingWords)"
   ]
  },
  {
   "cell_type": "code",
   "execution_count": 7,
   "metadata": {},
   "outputs": [
    {
     "name": "stdout",
     "output_type": "stream",
     "text": [
      "I love to play\n"
     ]
    }
   ],
   "source": [
    "print(random_deletion(\"I love to play football\", 0.3))"
   ]
  },
  {
   "cell_type": "code",
   "execution_count": 8,
   "metadata": {},
   "outputs": [],
   "source": [
    "def random_swap(originalSentence, n):\n",
    "    \"\"\"\n",
    "    Paper Methodology -> Find a random synonym of a random word in the sentence that is not a stop word. \n",
    "                        Insert that synonym into a random position in the sentence. Do this n times\n",
    "    originalSentence -> The sentence on which EDA is to be applied\n",
    "    n -> The number of times the process has to be repeated\n",
    "    \"\"\"\n",
    "    splitSentence = list(originalSentence.split(\" \"))\n",
    "    WordCount = len(splitSentence)\n",
    "    for i in range(n):\n",
    "        firstIndex = random.randint(0,WordCount-1)\n",
    "        secondIndex = random.randint(0,WordCount-1)\n",
    "        while (secondIndex == firstIndex and WordCount != 1):\n",
    "            secondIndex = random.randint(0,WordCount-1)\n",
    "        splitSentence[firstIndex], splitSentence[secondIndex] = splitSentence[secondIndex], splitSentence[firstIndex]\n",
    "    return \" \".join(splitSentence)"
   ]
  },
  {
   "cell_type": "code",
   "execution_count": 9,
   "metadata": {},
   "outputs": [
    {
     "name": "stdout",
     "output_type": "stream",
     "text": [
      "I love football to play\n"
     ]
    }
   ],
   "source": [
    "print(random_swap(\"I love to play football\", 2))"
   ]
  },
  {
   "cell_type": "code",
   "execution_count": 22,
   "metadata": {},
   "outputs": [],
   "source": [
    "def eda(sentence, alpha_sr=0.2, alpha_ri=0.2, alpha_rs=0.2, p_rd=0.2, num_aug=9):\n",
    "    sentence = sentence.lower()\n",
    "    words = sentence.split()\n",
    "    num_words = len(words)\n",
    "\n",
    "    augmented_sentences = set()\n",
    "    n_sr = max(1, int(alpha_sr * num_words))\n",
    "    n_ri = max(1, int(alpha_ri * num_words))\n",
    "    n_rs = max(1, int(alpha_rs * num_words))\n",
    "\n",
    "    aug_techniques = ['SR', 'RI', 'RD', 'RS']\n",
    "\n",
    "    for _ in range(num_aug):\n",
    "        aug_sentence = sentence\n",
    "        while aug_sentence == sentence and len(augmented_sentences) < num_aug:\n",
    "            techniqueChosen = random.choice(aug_techniques)\n",
    "            if (techniqueChosen == 'SR'):\n",
    "                aug_sentence = synonym_replacement(sentence, n_sr)\n",
    "            elif (techniqueChosen == 'RI'):\n",
    "                aug_sentence = random_insertion(sentence, n_ri)\n",
    "            elif (techniqueChosen == 'RS'):\n",
    "                aug_sentence = random_swap(sentence, n_rs)\n",
    "            elif (techniqueChosen == 'RD'):\n",
    "                aug_sentence = random_deletion(sentence, p_rd)\n",
    "\n",
    "        augmented_sentences.add(aug_sentence)\n",
    "\n",
    "    augmented_sentences = list(augmented_sentences)\n",
    "\n",
    "    return augmented_sentences"
   ]
  },
  {
   "cell_type": "code",
   "execution_count": 23,
   "metadata": {},
   "outputs": [
    {
     "name": "stdout",
     "output_type": "stream",
     "text": [
      "Number of original samples: 471\n",
      "Number of augmented samples: 1884\n",
      "Total number of samples: 2355\n",
      "Augmented data saved to emotion_aug_data.csv\n"
     ]
    }
   ],
   "source": [
    "input_csv = 'final_annotations.csv'\n",
    "output_csv = 'emotion_aug_data.csv'\n",
    "num_aug = 4\n",
    "\n",
    "# Step 1: Read the CSV data\n",
    "data = pd.read_csv(input_csv)\n",
    "\n",
    "# Step 2: Initialize list to store augmented data\n",
    "augmented_data = []\n",
    "\n",
    "# Step 3: Iterate over each row in the dataframe\n",
    "for index, row in data.iterrows():\n",
    "    original_text = row['text']\n",
    "    emotion = row['emotion']\n",
    "    augmented_texts = []\n",
    "\n",
    "    # Append the original row\n",
    "    augmented_data.append([row['id'], original_text, emotion])\n",
    "\n",
    "    while len(augmented_texts) < num_aug:\n",
    "        # Generate augmented sentences\n",
    "        augmented_texts = eda(original_text, num_aug=num_aug)\n",
    "\n",
    "    # Append augmented data\n",
    "    for i, aug_text in enumerate(augmented_texts):\n",
    "        augmented_data.append([f\"{row['id']}_aug_{i+1}\", aug_text, emotion])\n",
    "\n",
    "# Step 4: Create a new dataframe with augmented data\n",
    "augmented_df = pd.DataFrame(augmented_data, columns=['id', 'text', 'emotion'])\n",
    "\n",
    "# Print the number of original samples\n",
    "print(f\"Number of original samples: {len(data)}\")\n",
    "\n",
    "# Print the number of augmented samples\n",
    "print(f\"Number of augmented samples: {len(augmented_df) - len(data)}\")\n",
    "\n",
    "# Print the total number of samples\n",
    "print(f\"Total number of samples: {len(augmented_df)}\")\n",
    "\n",
    "# Step 5: Save the augmented data to a new CSV file\n",
    "augmented_df.to_csv(output_csv, index=False)\n",
    "print(f\"Augmented data saved to {output_csv}\")"
   ]
  },
  {
   "cell_type": "code",
   "execution_count": null,
   "metadata": {},
   "outputs": [],
   "source": []
  }
 ],
 "metadata": {
  "kernelspec": {
   "display_name": "base",
   "language": "python",
   "name": "python3"
  },
  "language_info": {
   "codemirror_mode": {
    "name": "ipython",
    "version": 3
   },
   "file_extension": ".py",
   "mimetype": "text/x-python",
   "name": "python",
   "nbconvert_exporter": "python",
   "pygments_lexer": "ipython3",
   "version": "3.11.9"
  }
 },
 "nbformat": 4,
 "nbformat_minor": 2
}
