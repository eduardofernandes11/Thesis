{
 "cells": [
  {
   "cell_type": "code",
   "execution_count": 4,
   "metadata": {},
   "outputs": [],
   "source": [
    "import pandas as pd\n",
    "from transformers import pipeline\n",
    "from sklearn.metrics import precision_score, recall_score, f1_score, accuracy_score, matthews_corrcoef\n",
    "from sklearn.preprocessing import MultiLabelBinarizer\n",
    "import numpy as np\n",
    "import matplotlib.pyplot as plt"
   ]
  },
  {
   "cell_type": "code",
   "execution_count": 2,
   "metadata": {},
   "outputs": [],
   "source": [
    "# Load email dataset from CSV\n",
    "df = pd.read_csv(\"./100_emotion_emails.csv\", delimiter=';')\n",
    "\n",
    "# Drop rows where 'emotion' is NaN or empty\n",
    "df = df.dropna(subset=['emotion'])\n",
    "df = df[df['emotion'].str.strip() != '']\n",
    "\n",
    "# Assuming emails are in 'text' and emotions in 'emotion'\n",
    "emails = df['text'].tolist()\n",
    "\n",
    "# Assume emotions are separated by commas if multiple (adapt if format is different)\n",
    "df['emotion'] = df['emotion'].apply(lambda x: x.split(','))\n",
    "\n",
    "# Extract unique labels for binarization\n",
    "all_labels = set()\n",
    "df['emotion'].apply(all_labels.update)\n",
    "labels = list(all_labels)\n",
    "\n",
    "# Binarize labels\n",
    "mlb = MultiLabelBinarizer(classes=labels)\n",
    "y_targets_all = mlb.fit_transform(df['emotion'])"
   ]
  },
  {
   "cell_type": "code",
   "execution_count": 8,
   "metadata": {},
   "outputs": [],
   "source": [
    "# Load pre-trained model suitable for multi-label classification\n",
    "classifier = pipeline(\"text-classification\", model=\"SamLowe/roberta-base-go_emotions\", top_k=None)\n",
    "\n",
    "# Classify emails\n",
    "model_outputs = classifier(emails)\n",
    "\n",
    "# Prepare to convert model outputs to binary format\n",
    "num_items = len(emails)\n",
    "num_labels = len(labels)\n",
    "y_probas_all = np.zeros((num_items, num_labels), dtype=float)\n",
    "\n",
    "for i, output in enumerate(model_outputs):\n",
    "    for prediction in output:\n",
    "        if prediction['label'] in labels:\n",
    "            label_index = labels.index(prediction['label'])\n",
    "            y_probas_all[i, label_index] = prediction['score']\n"
   ]
  },
  {
   "cell_type": "code",
   "execution_count": 22,
   "metadata": {},
   "outputs": [
    {
     "name": "stdout",
     "output_type": "stream",
     "text": [
      "[0.005, 0.003, 0.001, 0.011, 0.003, 0.0, 0.007, 0.825, 0.003, 0.004, 0.002, 0.006, 0.006, 0.005]\n",
      "[[0 0 0 1 0 0 0 0 0 0 0 0 0 0]\n",
      " [0 0 0 1 0 0 0 0 0 0 0 0 0 0]\n",
      " [0 0 0 1 0 0 0 0 0 0 0 0 0 0]]\n"
     ]
    }
   ],
   "source": [
    "i = 3\n",
    "print(np.round(y_probas_all[i], 3).tolist())\n",
    "print(y_targets_all[0:3])"
   ]
  },
  {
   "cell_type": "code",
   "execution_count": 18,
   "metadata": {},
   "outputs": [
    {
     "name": "stdout",
     "output_type": "stream",
     "text": [
      "Overall (macro)\n",
      "===============\n",
      "Accuracy: 0.324\n",
      "Precision: 0.404\n",
      "Recall: 0.338\n",
      "F1-Score: 0.349\n"
     ]
    }
   ],
   "source": [
    "# Apply threshold\n",
    "threshold = 0.5\n",
    "y_preds_all = y_probas_all > threshold\n",
    "\n",
    "# Evaluate using metrics\n",
    "print(\"Overall (macro)\")\n",
    "print(\"===============\")\n",
    "accuracy_val = accuracy_score(y_targets_all, y_preds_all)\n",
    "precision_val = precision_score(y_targets_all, y_preds_all, average='macro', zero_division=0)\n",
    "recall_val = recall_score(y_targets_all, y_preds_all, average='macro', zero_division=0)\n",
    "f1_val = f1_score(y_targets_all, y_preds_all, average='macro', zero_division=0)\n",
    "\n",
    "print(f\"Accuracy: {accuracy_val:.3f}\")\n",
    "print(f\"Precision: {precision_val:.3f}\")\n",
    "print(f\"Recall: {recall_val:.3f}\")\n",
    "print(f\"F1-Score: {f1_val:.3f}\")\n"
   ]
  }
 ],
 "metadata": {
  "kernelspec": {
   "display_name": "base",
   "language": "python",
   "name": "python3"
  },
  "language_info": {
   "codemirror_mode": {
    "name": "ipython",
    "version": 3
   },
   "file_extension": ".py",
   "mimetype": "text/x-python",
   "name": "python",
   "nbconvert_exporter": "python",
   "pygments_lexer": "ipython3",
   "version": "3.9.12"
  }
 },
 "nbformat": 4,
 "nbformat_minor": 2
}
