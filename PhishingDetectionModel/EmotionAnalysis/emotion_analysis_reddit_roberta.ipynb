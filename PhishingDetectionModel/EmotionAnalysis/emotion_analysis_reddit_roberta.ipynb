{
 "cells": [
  {
   "cell_type": "code",
   "execution_count": 1,
   "metadata": {},
   "outputs": [
    {
     "name": "stderr",
     "output_type": "stream",
     "text": [
      "/home/rezett/miniconda3/envs/bert-env/lib/python3.11/site-packages/tqdm/auto.py:21: TqdmWarning: IProgress not found. Please update jupyter and ipywidgets. See https://ipywidgets.readthedocs.io/en/stable/user_install.html\n",
      "  from .autonotebook import tqdm as notebook_tqdm\n"
     ]
    }
   ],
   "source": [
    "import transformers\n",
    "from sklearn.model_selection import train_test_split\n",
    "from sklearn.metrics import precision_recall_fscore_support, accuracy_score, cohen_kappa_score\n",
    "from sklearn.metrics import confusion_matrix\n",
    "import pandas as pd\n",
    "import torch\n",
    "from tqdm import tqdm\n",
    "from torch.utils.data import Dataset, DataLoader\n",
    "from datasets import load_dataset\n",
    "from transformers import TrainingArguments, Trainer, AutoModelForSequenceClassification, AutoModel, AdamW\n",
    "from transformers import AutoTokenizer\n",
    "#import regex as re\n",
    "from collections import defaultdict\n",
    "from IPython.display import display, HTML, clear_output\n",
    "from matplotlib import pyplot as plt\n",
    "import csv\n",
    "# from bs4 import BeautifulSoup\n",
    "import re\n",
    "import base64\n",
    "import numpy as np\n",
    "import os\n",
    "import seaborn as sns"
   ]
  },
  {
   "cell_type": "code",
   "execution_count": 2,
   "metadata": {},
   "outputs": [
    {
     "name": "stdout",
     "output_type": "stream",
     "text": [
      "cuda\n"
     ]
    }
   ],
   "source": [
    "# Setting up the device for GPU usage\n",
    "\n",
    "from torch import cuda\n",
    "device = 'cuda' if cuda.is_available() else 'cpu'\n",
    "print(device)"
   ]
  },
  {
   "cell_type": "code",
   "execution_count": 3,
   "metadata": {},
   "outputs": [
    {
     "name": "stderr",
     "output_type": "stream",
     "text": [
      "/tmp/ipykernel_91236/4080986320.py:28: SettingWithCopyWarning: \n",
      "A value is trying to be set on a copy of a slice from a DataFrame.\n",
      "Try using .loc[row_indexer,col_indexer] = value instead\n",
      "\n",
      "See the caveats in the documentation: https://pandas.pydata.org/pandas-docs/stable/user_guide/indexing.html#returning-a-view-versus-a-copy\n",
      "  new_df['text'] = new_df['text'].astype(str)\n",
      "/tmp/ipykernel_91236/4080986320.py:29: SettingWithCopyWarning: \n",
      "A value is trying to be set on a copy of a slice from a DataFrame.\n",
      "Try using .loc[row_indexer,col_indexer] = value instead\n",
      "\n",
      "See the caveats in the documentation: https://pandas.pydata.org/pandas-docs/stable/user_guide/indexing.html#returning-a-view-versus-a-copy\n",
      "  new_df['emotion'] = new_df['emotion'].astype(int)\n"
     ]
    }
   ],
   "source": [
    "# Define the mapping from emotion names to numbers\n",
    "emotion_mapping = {\n",
    "    'admiration': 0, 'anger': 1, 'caring': 2, 'confusion': 3, 'curiosity': 4,\n",
    "    'desire': 5, 'excitement': 6, 'fear': 7, 'gratitude': 8,\n",
    "    'joy': 9, 'relief': 10, 'sadness': 11,\n",
    "    'surprise': 12, 'neutral': 13\n",
    "}\n",
    "\n",
    "def process_csv(file_path):\n",
    "    \"\"\"Processes a single CSV file.\"\"\"\n",
    "    df = pd.read_csv(file_path, delimiter=',')\n",
    "\n",
    "    # Find emotion numbers (same as your existing code)\n",
    "    emotion_numbers = []\n",
    "    for index, row in df.iterrows():\n",
    "        emotion_number = 0\n",
    "        for emotion, number in emotion_mapping.items():\n",
    "            if row['emotion'] == emotion:\n",
    "                emotion_number = number\n",
    "                break\n",
    "        emotion_numbers.append(emotion_number)\n",
    "\n",
    "    # Add emotion numbers as a new column\n",
    "    df['emotion'] = emotion_numbers\n",
    "\n",
    "    # Select relevant columns and ensure data types\n",
    "    new_df = df[['text', 'emotion']]\n",
    "    new_df['text'] = new_df['text'].astype(str)\n",
    "    new_df['emotion'] = new_df['emotion'].astype(int)\n",
    "\n",
    "    return new_df\n",
    "\n",
    "emotion_data_df = process_csv('./AnnotatedEmails/emotion_aug_data.csv')"
   ]
  },
  {
   "cell_type": "code",
   "execution_count": 4,
   "metadata": {},
   "outputs": [
    {
     "data": {
      "text/html": [
       "<div>\n",
       "<style scoped>\n",
       "    .dataframe tbody tr th:only-of-type {\n",
       "        vertical-align: middle;\n",
       "    }\n",
       "\n",
       "    .dataframe tbody tr th {\n",
       "        vertical-align: top;\n",
       "    }\n",
       "\n",
       "    .dataframe thead th {\n",
       "        text-align: right;\n",
       "    }\n",
       "</style>\n",
       "<table border=\"1\" class=\"dataframe\">\n",
       "  <thead>\n",
       "    <tr style=\"text-align: right;\">\n",
       "      <th></th>\n",
       "      <th>text</th>\n",
       "      <th>emotion</th>\n",
       "    </tr>\n",
       "  </thead>\n",
       "  <tbody>\n",
       "    <tr>\n",
       "      <th>0</th>\n",
       "      <td>We've noticed a suspicious login attempt from ...</td>\n",
       "      <td>7</td>\n",
       "    </tr>\n",
       "    <tr>\n",
       "      <th>1</th>\n",
       "      <td>we've noticed notice untrusting a suspicious l...</td>\n",
       "      <td>7</td>\n",
       "    </tr>\n",
       "    <tr>\n",
       "      <th>2</th>\n",
       "      <td>we've noticed suspicious attempt from an unrec...</td>\n",
       "      <td>7</td>\n",
       "    </tr>\n",
       "    <tr>\n",
       "      <th>3</th>\n",
       "      <td>we've noticed a suspicious login attempt from ...</td>\n",
       "      <td>7</td>\n",
       "    </tr>\n",
       "    <tr>\n",
       "      <th>4</th>\n",
       "      <td>an noticed a suspicious login attempt from we'...</td>\n",
       "      <td>7</td>\n",
       "    </tr>\n",
       "  </tbody>\n",
       "</table>\n",
       "</div>"
      ],
      "text/plain": [
       "                                                text  emotion\n",
       "0  We've noticed a suspicious login attempt from ...        7\n",
       "1  we've noticed notice untrusting a suspicious l...        7\n",
       "2  we've noticed suspicious attempt from an unrec...        7\n",
       "3  we've noticed a suspicious login attempt from ...        7\n",
       "4  an noticed a suspicious login attempt from we'...        7"
      ]
     },
     "execution_count": 4,
     "metadata": {},
     "output_type": "execute_result"
    }
   ],
   "source": [
    "emotion_data_df.head()"
   ]
  },
  {
   "cell_type": "markdown",
   "metadata": {},
   "source": [
    "### Split data into training and testing by stratifying samples"
   ]
  },
  {
   "cell_type": "code",
   "execution_count": 5,
   "metadata": {},
   "outputs": [
    {
     "name": "stdout",
     "output_type": "stream",
     "text": [
      "Original dataset distribution:\n",
      " emotion\n",
      "4     0.205945\n",
      "9     0.171975\n",
      "11    0.121019\n",
      "7     0.112527\n",
      "8     0.108280\n",
      "10    0.061571\n",
      "6     0.057325\n",
      "3     0.055202\n",
      "12    0.044586\n",
      "1     0.019108\n",
      "5     0.019108\n",
      "2     0.010616\n",
      "13    0.006369\n",
      "0     0.006369\n",
      "Name: proportion, dtype: float64\n",
      "\n",
      "20%-sample distribution:\n",
      " emotion\n",
      "4     0.205945\n",
      "9     0.171975\n",
      "11    0.121019\n",
      "7     0.112527\n",
      "8     0.108280\n",
      "10    0.061571\n",
      "6     0.057325\n",
      "3     0.055202\n",
      "12    0.044586\n",
      "5     0.019108\n",
      "1     0.019108\n",
      "2     0.010616\n",
      "0     0.006369\n",
      "13    0.006369\n",
      "Name: proportion, dtype: float64\n",
      "\n",
      "80%-sample distribution:\n",
      " emotion\n",
      "4     0.205945\n",
      "9     0.171975\n",
      "11    0.121019\n",
      "7     0.112527\n",
      "8     0.108280\n",
      "10    0.061571\n",
      "6     0.057325\n",
      "3     0.055202\n",
      "12    0.044586\n",
      "1     0.019108\n",
      "5     0.019108\n",
      "2     0.010616\n",
      "0     0.006369\n",
      "13    0.006369\n",
      "Name: proportion, dtype: float64\n",
      "(1884, 2)\n",
      "(471, 2)\n"
     ]
    }
   ],
   "source": [
    "# Perform stratified split on the final DataFrame\n",
    "training_df, testing_df = train_test_split(\n",
    "    emotion_data_df, \n",
    "    test_size=0.2,  # 20% of the data is used for testing\n",
    "    stratify=emotion_data_df['emotion'],  # Stratify by the 'emotion' label\n",
    "    random_state=42  # Ensure reproducibility\n",
    ")\n",
    "\n",
    "# Check the distribution in the original and split datasets\n",
    "print(\"Original dataset distribution:\\n\", emotion_data_df['emotion'].value_counts(normalize=True))\n",
    "print('\\n20%-sample distribution:\\n', testing_df['emotion'].value_counts(normalize=True))\n",
    "print(\"\\n80%-sample distribution:\\n\", training_df['emotion'].value_counts(normalize=True))\n",
    "\n",
    "print(training_df.shape)\n",
    "print(testing_df.shape)"
   ]
  },
  {
   "cell_type": "code",
   "execution_count": null,
   "metadata": {},
   "outputs": [
    {
     "name": "stderr",
     "output_type": "stream",
     "text": [
      "/home/rezett/miniconda3/envs/bert-env/lib/python3.11/site-packages/transformers/tokenization_utils_base.py:1617: FutureWarning: `clean_up_tokenization_spaces` was not set. It will be set to `True` by default. This behavior will be deprecated in transformers v4.45, and will be then set to `False` by default. For more details check this issue: https://github.com/huggingface/transformers/issues/31884\n",
      "  warnings.warn(\n"
     ]
    }
   ],
   "source": [
    "# Defining some key variables that will be used later on in the training\n",
    "MAX_LEN = 256\n",
    "TRAIN_BATCH_SIZE = 16\n",
    "VALID_BATCH_SIZE = 16\n",
    "# EPOCHS = 1\n",
    "LEARNING_RATE =4e-05\n",
    "\n",
    "# Load pre-trained RoBERTa\n",
    "model_name = \"SamLowe/roberta-base-go_emotions\"\n",
    "tokenizer = transformers.AutoTokenizer.from_pretrained(model_name)\n",
    "# model = transformers.AutoModelForSequenceClassification.from_pretrained(model_name)"
   ]
  },
  {
   "cell_type": "code",
   "execution_count": 7,
   "metadata": {},
   "outputs": [
    {
     "data": {
      "image/png": "[encoded data removed]",
      "text/plain": [
       "<Figure size 640x480 with 1 Axes>"
      ]
     },
     "metadata": {},
     "output_type": "display_data"
    }
   ],
   "source": [
    "df_emotion_len = pd.DataFrame\n",
    "\n",
    "# Tokenize messages and calculate lengths for both phishing and ham datasets\n",
    "df_emotion_len = emotion_data_df['text'].apply(lambda x: len(tokenizer.tokenize(x)))\n",
    "\n",
    "# Plot the distribution of token lengths\n",
    "plt.hist(df_emotion_len, bins=50, color='skyblue', edgecolor='black')\n",
    "plt.xlabel('Token Length')\n",
    "plt.ylabel('Frequency')\n",
    "plt.title('Distribution of Token Lengths')\n",
    "plt.show()"
   ]
  },
  {
   "cell_type": "code",
   "execution_count": 8,
   "metadata": {},
   "outputs": [
    {
     "name": "stdout",
     "output_type": "stream",
     "text": [
      "Mean token length: 42.390658174097666\n",
      "Median token length: 41.0\n",
      "Mode token length: 38\n"
     ]
    }
   ],
   "source": [
    "# Calculate descriptive statistics\n",
    "mean_length = df_emotion_len.mean()\n",
    "median_length = df_emotion_len.median()\n",
    "mode_length = df_emotion_len.mode()[0]\n",
    "\n",
    "print(f\"Mean token length: {mean_length}\")\n",
    "print(f\"Median token length: {median_length}\")\n",
    "print(f\"Mode token length: {mode_length}\")"
   ]
  },
  {
   "cell_type": "code",
   "execution_count": 9,
   "metadata": {},
   "outputs": [],
   "source": [
    "class SentimentData(Dataset):\n",
    "    def __init__(self, dataframe, tokenizer, max_len):\n",
    "        self.tokenizer = tokenizer\n",
    "        self.data = dataframe\n",
    "        self.text = dataframe.text\n",
    "        self.targets = self.data.emotion\n",
    "        self.max_len = max_len\n",
    "\n",
    "    def __len__(self):\n",
    "        return len(self.text)\n",
    "\n",
    "    def __getitem__(self, index):\n",
    "        text = str(self.text[index])\n",
    "        text = \" \".join(text.split())\n",
    "\n",
    "        inputs = self.tokenizer.encode_plus(\n",
    "            text,\n",
    "            None,\n",
    "            add_special_tokens=True,\n",
    "            max_length=self.max_len,\n",
    "            padding='max_length',\n",
    "            return_token_type_ids=True,\n",
    "            truncation=True\n",
    "        )\n",
    "        ids = inputs['input_ids']\n",
    "        mask = inputs['attention_mask']\n",
    "        token_type_ids = inputs[\"token_type_ids\"]\n",
    "\n",
    "\n",
    "        return {\n",
    "            'ids': torch.tensor(ids, dtype=torch.long),\n",
    "            'mask': torch.tensor(mask, dtype=torch.long),\n",
    "            'token_type_ids': torch.tensor(token_type_ids, dtype=torch.long),\n",
    "            'targets': torch.tensor(self.targets.iloc[index], dtype=torch.long)\n",
    "        }\n"
   ]
  },
  {
   "cell_type": "code",
   "execution_count": 10,
   "metadata": {},
   "outputs": [],
   "source": [
    "train_data = training_df.reset_index(drop=True)\n",
    "test_data = testing_df.reset_index(drop=True)\n",
    "training_set = SentimentData(train_data, tokenizer, MAX_LEN)\n",
    "testing_set = SentimentData(test_data, tokenizer, MAX_LEN)"
   ]
  },
  {
   "cell_type": "code",
   "execution_count": 11,
   "metadata": {},
   "outputs": [],
   "source": [
    "train_params = {'batch_size': TRAIN_BATCH_SIZE,\n",
    "                'shuffle': True,\n",
    "                'num_workers': 0\n",
    "                }\n",
    "\n",
    "test_params = {'batch_size': VALID_BATCH_SIZE,\n",
    "                'shuffle': True,\n",
    "                'num_workers': 0\n",
    "                }\n",
    "\n",
    "training_loader = DataLoader(training_set, **train_params)\n",
    "testing_loader = DataLoader(testing_set, **test_params)"
   ]
  },
  {
   "cell_type": "code",
   "execution_count": 12,
   "metadata": {},
   "outputs": [],
   "source": [
    "class RobertaEmotionsClass(torch.nn.Module):\n",
    "    def __init__(self):\n",
    "        super(RobertaEmotionsClass, self).__init__()\n",
    "        self.model = AutoModelForSequenceClassification.from_pretrained(model_name, num_labels=14, ignore_mismatched_sizes=True)\n",
    "\n",
    "    def forward(self, input_ids, attention_mask, token_type_ids):\n",
    "        outputs = self.model(input_ids=input_ids, attention_mask=attention_mask, token_type_ids=token_type_ids)\n",
    "        return outputs.logits"
   ]
  },
  {
   "cell_type": "code",
   "execution_count": 13,
   "metadata": {},
   "outputs": [
    {
     "name": "stdout",
     "output_type": "stream",
     "text": [
      "MODEL NAME SamLowe/roberta-base-go_emotions\n"
     ]
    },
    {
     "name": "stderr",
     "output_type": "stream",
     "text": [
      "Some weights of RobertaForSequenceClassification were not initialized from the model checkpoint at SamLowe/roberta-base-go_emotions and are newly initialized because the shapes did not match:\n",
      "- classifier.out_proj.bias: found shape torch.Size([28]) in the checkpoint and torch.Size([14]) in the model instantiated\n",
      "- classifier.out_proj.weight: found shape torch.Size([28, 768]) in the checkpoint and torch.Size([14, 768]) in the model instantiated\n",
      "You should probably TRAIN this model on a down-stream task to be able to use it for predictions and inference.\n"
     ]
    },
    {
     "data": {
      "text/plain": [
       "RobertaEmotionsClass(\n",
       "  (model): RobertaForSequenceClassification(\n",
       "    (roberta): RobertaModel(\n",
       "      (embeddings): RobertaEmbeddings(\n",
       "        (word_embeddings): Embedding(50265, 768, padding_idx=1)\n",
       "        (position_embeddings): Embedding(514, 768, padding_idx=1)\n",
       "        (token_type_embeddings): Embedding(1, 768)\n",
       "        (LayerNorm): LayerNorm((768,), eps=1e-05, elementwise_affine=True)\n",
       "        (dropout): Dropout(p=0.1, inplace=False)\n",
       "      )\n",
       "      (encoder): RobertaEncoder(\n",
       "        (layer): ModuleList(\n",
       "          (0-11): 12 x RobertaLayer(\n",
       "            (attention): RobertaAttention(\n",
       "              (self): RobertaSdpaSelfAttention(\n",
       "                (query): Linear(in_features=768, out_features=768, bias=True)\n",
       "                (key): Linear(in_features=768, out_features=768, bias=True)\n",
       "                (value): Linear(in_features=768, out_features=768, bias=True)\n",
       "                (dropout): Dropout(p=0.1, inplace=False)\n",
       "              )\n",
       "              (output): RobertaSelfOutput(\n",
       "                (dense): Linear(in_features=768, out_features=768, bias=True)\n",
       "                (LayerNorm): LayerNorm((768,), eps=1e-05, elementwise_affine=True)\n",
       "                (dropout): Dropout(p=0.1, inplace=False)\n",
       "              )\n",
       "            )\n",
       "            (intermediate): RobertaIntermediate(\n",
       "              (dense): Linear(in_features=768, out_features=3072, bias=True)\n",
       "              (intermediate_act_fn): GELUActivation()\n",
       "            )\n",
       "            (output): RobertaOutput(\n",
       "              (dense): Linear(in_features=3072, out_features=768, bias=True)\n",
       "              (LayerNorm): LayerNorm((768,), eps=1e-05, elementwise_affine=True)\n",
       "              (dropout): Dropout(p=0.1, inplace=False)\n",
       "            )\n",
       "          )\n",
       "        )\n",
       "      )\n",
       "    )\n",
       "    (classifier): RobertaClassificationHead(\n",
       "      (dense): Linear(in_features=768, out_features=768, bias=True)\n",
       "      (dropout): Dropout(p=0.1, inplace=False)\n",
       "      (out_proj): Linear(in_features=768, out_features=14, bias=True)\n",
       "    )\n",
       "  )\n",
       ")"
      ]
     },
     "execution_count": 13,
     "metadata": {},
     "output_type": "execute_result"
    }
   ],
   "source": [
    "print(\"MODEL NAME {}\".format(model_name))\n",
    "model = RobertaEmotionsClass()\n",
    "model.to(device)"
   ]
  },
  {
   "cell_type": "code",
   "execution_count": 14,
   "metadata": {},
   "outputs": [
    {
     "name": "stderr",
     "output_type": "stream",
     "text": [
      "/home/rezett/miniconda3/envs/bert-env/lib/python3.11/site-packages/transformers/optimization.py:591: FutureWarning: This implementation of AdamW is deprecated and will be removed in a future version. Use the PyTorch implementation torch.optim.AdamW instead, or set `no_deprecation_warning=True` to disable this warning\n",
      "  warnings.warn(\n"
     ]
    }
   ],
   "source": [
    "# Creating the loss function and optimizer\n",
    "loss_function = torch.nn.CrossEntropyLoss()\n",
    "optimizer = AdamW(model.parameters(), lr=LEARNING_RATE, weight_decay=0.0001)"
   ]
  },
  {
   "cell_type": "code",
   "execution_count": 15,
   "metadata": {},
   "outputs": [],
   "source": [
    "def calcuate_accuracy(preds, targets):\n",
    "    n_correct = (preds==targets).sum().item()\n",
    "    return n_correct\n",
    "\n",
    "def train(epoch):\n",
    "    tr_loss = 0\n",
    "    n_correct = 0\n",
    "    nb_tr_steps = 0\n",
    "    nb_tr_examples = 0\n",
    "    model.train()\n",
    "    for _,data in tqdm(enumerate(training_loader, 0)):\n",
    "        ids = data['ids'].to(device, dtype = torch.long)\n",
    "        mask = data['mask'].to(device, dtype = torch.long)\n",
    "        token_type_ids = data['token_type_ids'].to(device, dtype = torch.long)\n",
    "        targets = data['targets'].to(device, dtype = torch.long)\n",
    "\n",
    "        optimizer.zero_grad()\n",
    "        outputs = model(ids, mask, token_type_ids)\n",
    "        loss = loss_function(outputs, targets)\n",
    "        tr_loss += loss.item()\n",
    "        big_val, big_idx = torch.max(outputs.data, dim=1)\n",
    "        n_correct += calcuate_accuracy(big_idx, targets)\n",
    "\n",
    "        nb_tr_steps += 1\n",
    "        nb_tr_examples+=targets.size(0)\n",
    "\n",
    "        if _%5000==0:\n",
    "            loss_step = tr_loss/nb_tr_steps\n",
    "            accu_step = (n_correct*100)/nb_tr_examples\n",
    "            print(f\"Training Loss per 5000 steps: {loss_step}\")\n",
    "            print(f\"Training Accuracy per 5000 steps: {accu_step}\")\n",
    "\n",
    "        #optimizer.zero_grad()\n",
    "        loss.backward()\n",
    "        # # When using GPU\n",
    "        optimizer.step()\n",
    "\n",
    "    print(f'The Total Accuracy for Epoch {epoch}: {(n_correct*100)/nb_tr_examples}')\n",
    "    epoch_loss = tr_loss/nb_tr_steps\n",
    "    epoch_accu = (n_correct*100)/nb_tr_examples\n",
    "    print(f\"Training Loss Epoch: {epoch_loss}\")\n",
    "    print(f\"Training Accuracy Epoch: {epoch_accu}\")\n",
    "\n",
    "    return epoch_accu, epoch_loss"
   ]
  },
  {
   "cell_type": "code",
   "execution_count": 16,
   "metadata": {},
   "outputs": [],
   "source": [
    "def valid(model, testing_loader):\n",
    "    model.eval()\n",
    "    n_correct = 0; n_wrong = 0; total = 0; tr_loss=0; nb_tr_steps=0; nb_tr_examples=0\n",
    "    all_targets = []  # To store all true labels\n",
    "    all_predictions = []  # To store all predictions\n",
    "    with torch.no_grad():\n",
    "        for _, data in tqdm(enumerate(testing_loader, 0)):\n",
    "            ids = data['ids'].to(device, dtype = torch.long)\n",
    "            mask = data['mask'].to(device, dtype = torch.long)\n",
    "            token_type_ids = data['token_type_ids'].to(device, dtype=torch.long)\n",
    "            targets = data['targets'].to(device, dtype = torch.long)\n",
    "            outputs = model(ids, mask, token_type_ids).squeeze()\n",
    "            loss = loss_function(outputs, targets)\n",
    "            tr_loss += loss.item()\n",
    "            big_val, big_idx = torch.max(outputs.data, dim=1)\n",
    "\n",
    "            # Store predictions and targets for confusion matrix\n",
    "            all_targets.extend(targets.cpu().numpy())\n",
    "            all_predictions.extend(big_idx.cpu().numpy())\n",
    "\n",
    "            n_correct += calcuate_accuracy(big_idx, targets)\n",
    "\n",
    "            nb_tr_steps += 1\n",
    "            nb_tr_examples+=targets.size(0)\n",
    "            \n",
    "            if _%5000==0:\n",
    "                loss_step = tr_loss/nb_tr_steps\n",
    "                accu_step = (n_correct*100)/nb_tr_examples\n",
    "                print(f\"Validation Loss per 100 steps: {loss_step}\")\n",
    "                print(f\"Validation Accuracy per 100 steps: {accu_step}\")\n",
    "\n",
    "    epoch_loss = tr_loss/nb_tr_steps\n",
    "    epoch_accu = (n_correct*100)/nb_tr_examples\n",
    "    print(f\"Validation Loss Epoch: {epoch_loss}\")\n",
    "    print(f\"Validation Accuracy Epoch: {epoch_accu}\")\n",
    "    \n",
    "    return epoch_accu, epoch_loss, all_targets, all_predictions"
   ]
  },
  {
   "cell_type": "code",
   "execution_count": 17,
   "metadata": {},
   "outputs": [
    {
     "name": "stdout",
     "output_type": "stream",
     "text": [
      "Epoch 1/10\n"
     ]
    },
    {
     "name": "stderr",
     "output_type": "stream",
     "text": [
      "0it [00:00, ?it/s]"
     ]
    },
    {
     "name": "stdout",
     "output_type": "stream",
     "text": [
      "Training Loss per 5000 steps: 2.5220885276794434\n",
      "Training Accuracy per 5000 steps: 6.25\n"
     ]
    },
    {
     "name": "stderr",
     "output_type": "stream",
     "text": [
      "118it [00:35,  3.30it/s]\n"
     ]
    },
    {
     "name": "stdout",
     "output_type": "stream",
     "text": [
      "The Total Accuracy for Epoch 0: 65.12738853503184\n",
      "Training Loss Epoch: 1.1978018796544965\n",
      "Training Accuracy Epoch: 65.12738853503184\n"
     ]
    },
    {
     "name": "stderr",
     "output_type": "stream",
     "text": [
      "2it [00:00,  5.91it/s]"
     ]
    },
    {
     "name": "stdout",
     "output_type": "stream",
     "text": [
      "Validation Loss per 100 steps: 1.029358148574829\n",
      "Validation Accuracy per 100 steps: 56.25\n"
     ]
    },
    {
     "name": "stderr",
     "output_type": "stream",
     "text": [
      "30it [00:03,  8.61it/s]\n"
     ]
    },
    {
     "name": "stdout",
     "output_type": "stream",
     "text": [
      "Validation Loss Epoch: 0.7069999814033509\n",
      "Validation Accuracy Epoch: 76.2208067940552\n",
      "Saving model with validation accuracy: 76.2208067940552\n",
      "Epoch 2/10\n"
     ]
    },
    {
     "name": "stderr",
     "output_type": "stream",
     "text": [
      "1it [00:00,  6.78it/s]"
     ]
    },
    {
     "name": "stdout",
     "output_type": "stream",
     "text": [
      "Training Loss per 5000 steps: 1.18458092212677\n",
      "Training Accuracy per 5000 steps: 50.0\n"
     ]
    },
    {
     "name": "stderr",
     "output_type": "stream",
     "text": [
      "118it [00:37,  3.18it/s]\n"
     ]
    },
    {
     "name": "stdout",
     "output_type": "stream",
     "text": [
      "The Total Accuracy for Epoch 1: 84.28874734607218\n",
      "Training Loss Epoch: 0.4957245405826528\n",
      "Training Accuracy Epoch: 84.28874734607218\n"
     ]
    },
    {
     "name": "stderr",
     "output_type": "stream",
     "text": [
      "2it [00:00,  5.82it/s]"
     ]
    },
    {
     "name": "stdout",
     "output_type": "stream",
     "text": [
      "Validation Loss per 100 steps: 0.7356544733047485\n",
      "Validation Accuracy per 100 steps: 75.0\n"
     ]
    },
    {
     "name": "stderr",
     "output_type": "stream",
     "text": [
      "30it [00:03,  8.15it/s]\n"
     ]
    },
    {
     "name": "stdout",
     "output_type": "stream",
     "text": [
      "Validation Loss Epoch: 0.40306939544777076\n",
      "Validation Accuracy Epoch: 85.77494692144374\n",
      "Saving model with validation accuracy: 85.77494692144374\n",
      "Epoch 3/10\n"
     ]
    },
    {
     "name": "stderr",
     "output_type": "stream",
     "text": [
      "1it [00:00,  5.91it/s]"
     ]
    },
    {
     "name": "stdout",
     "output_type": "stream",
     "text": [
      "Training Loss per 5000 steps: 0.4372170567512512\n",
      "Training Accuracy per 5000 steps: 81.25\n"
     ]
    },
    {
     "name": "stderr",
     "output_type": "stream",
     "text": [
      "118it [00:38,  3.09it/s]\n"
     ]
    },
    {
     "name": "stdout",
     "output_type": "stream",
     "text": [
      "The Total Accuracy for Epoch 2: 91.02972399150742\n",
      "Training Loss Epoch: 0.2783993331526043\n",
      "Training Accuracy Epoch: 91.02972399150742\n"
     ]
    },
    {
     "name": "stderr",
     "output_type": "stream",
     "text": [
      "2it [00:00,  5.70it/s]"
     ]
    },
    {
     "name": "stdout",
     "output_type": "stream",
     "text": [
      "Validation Loss per 100 steps: 0.4207478165626526\n",
      "Validation Accuracy per 100 steps: 87.5\n"
     ]
    },
    {
     "name": "stderr",
     "output_type": "stream",
     "text": [
      "30it [00:03,  8.20it/s]\n"
     ]
    },
    {
     "name": "stdout",
     "output_type": "stream",
     "text": [
      "Validation Loss Epoch: 0.3381682185456157\n",
      "Validation Accuracy Epoch: 88.1104033970276\n",
      "Saving model with validation accuracy: 88.1104033970276\n",
      "Epoch 4/10\n"
     ]
    },
    {
     "name": "stderr",
     "output_type": "stream",
     "text": [
      "0it [00:00, ?it/s]"
     ]
    },
    {
     "name": "stdout",
     "output_type": "stream",
     "text": [
      "Training Loss per 5000 steps: 0.3195890188217163\n",
      "Training Accuracy per 5000 steps: 87.5\n"
     ]
    },
    {
     "name": "stderr",
     "output_type": "stream",
     "text": [
      "118it [00:35,  3.30it/s]\n"
     ]
    },
    {
     "name": "stdout",
     "output_type": "stream",
     "text": [
      "The Total Accuracy for Epoch 3: 93.5244161358811\n",
      "Training Loss Epoch: 0.20381935621154004\n",
      "Training Accuracy Epoch: 93.5244161358811\n"
     ]
    },
    {
     "name": "stderr",
     "output_type": "stream",
     "text": [
      "2it [00:00,  5.83it/s]"
     ]
    },
    {
     "name": "stdout",
     "output_type": "stream",
     "text": [
      "Validation Loss per 100 steps: 0.3277290463447571\n",
      "Validation Accuracy per 100 steps: 93.75\n"
     ]
    },
    {
     "name": "stderr",
     "output_type": "stream",
     "text": [
      "30it [00:03,  8.57it/s]\n"
     ]
    },
    {
     "name": "stdout",
     "output_type": "stream",
     "text": [
      "Validation Loss Epoch: 0.20811946730439862\n",
      "Validation Accuracy Epoch: 93.63057324840764\n",
      "Saving model with validation accuracy: 93.63057324840764\n",
      "Epoch 5/10\n"
     ]
    },
    {
     "name": "stderr",
     "output_type": "stream",
     "text": [
      "1it [00:00,  6.58it/s]"
     ]
    },
    {
     "name": "stdout",
     "output_type": "stream",
     "text": [
      "Training Loss per 5000 steps: 0.19685539603233337\n",
      "Training Accuracy per 5000 steps: 87.5\n"
     ]
    },
    {
     "name": "stderr",
     "output_type": "stream",
     "text": [
      "118it [00:40,  2.91it/s]\n"
     ]
    },
    {
     "name": "stdout",
     "output_type": "stream",
     "text": [
      "The Total Accuracy for Epoch 4: 96.97452229299363\n",
      "Training Loss Epoch: 0.1132640901842486\n",
      "Training Accuracy Epoch: 96.97452229299363\n"
     ]
    },
    {
     "name": "stderr",
     "output_type": "stream",
     "text": [
      "3it [00:00,  7.74it/s]"
     ]
    },
    {
     "name": "stdout",
     "output_type": "stream",
     "text": [
      "Validation Loss per 100 steps: 0.5736628770828247\n",
      "Validation Accuracy per 100 steps: 87.5\n"
     ]
    },
    {
     "name": "stderr",
     "output_type": "stream",
     "text": [
      "30it [00:02, 10.22it/s]\n"
     ]
    },
    {
     "name": "stdout",
     "output_type": "stream",
     "text": [
      "Validation Loss Epoch: 0.25023219765474397\n",
      "Validation Accuracy Epoch: 94.0552016985138\n",
      "Saving model with validation accuracy: 94.0552016985138\n",
      "Epoch 6/10\n"
     ]
    },
    {
     "name": "stderr",
     "output_type": "stream",
     "text": [
      "1it [00:00,  6.83it/s]"
     ]
    },
    {
     "name": "stdout",
     "output_type": "stream",
     "text": [
      "Training Loss per 5000 steps: 0.025101512670516968\n",
      "Training Accuracy per 5000 steps: 100.0\n"
     ]
    },
    {
     "name": "stderr",
     "output_type": "stream",
     "text": [
      "118it [00:37,  3.16it/s]\n"
     ]
    },
    {
     "name": "stdout",
     "output_type": "stream",
     "text": [
      "The Total Accuracy for Epoch 5: 97.82377919320595\n",
      "Training Loss Epoch: 0.0833509707491908\n",
      "Training Accuracy Epoch: 97.82377919320595\n"
     ]
    },
    {
     "name": "stderr",
     "output_type": "stream",
     "text": [
      "3it [00:00,  7.47it/s]"
     ]
    },
    {
     "name": "stdout",
     "output_type": "stream",
     "text": [
      "Validation Loss per 100 steps: 0.0955018624663353\n",
      "Validation Accuracy per 100 steps: 93.75\n"
     ]
    },
    {
     "name": "stderr",
     "output_type": "stream",
     "text": [
      "30it [00:01, 19.96it/s]\n"
     ]
    },
    {
     "name": "stdout",
     "output_type": "stream",
     "text": [
      "Validation Loss Epoch: 0.23591037935887774\n",
      "Validation Accuracy Epoch: 91.93205944798301\n",
      "Epoch 7/10\n"
     ]
    },
    {
     "name": "stderr",
     "output_type": "stream",
     "text": [
      "1it [00:00,  7.50it/s]"
     ]
    },
    {
     "name": "stdout",
     "output_type": "stream",
     "text": [
      "Training Loss per 5000 steps: 0.14612272381782532\n",
      "Training Accuracy per 5000 steps: 93.75\n"
     ]
    },
    {
     "name": "stderr",
     "output_type": "stream",
     "text": [
      "118it [00:34,  3.40it/s]\n"
     ]
    },
    {
     "name": "stdout",
     "output_type": "stream",
     "text": [
      "The Total Accuracy for Epoch 6: 97.87685774946921\n",
      "Training Loss Epoch: 0.075224192157956\n",
      "Training Accuracy Epoch: 97.87685774946921\n"
     ]
    },
    {
     "name": "stderr",
     "output_type": "stream",
     "text": [
      "3it [00:00,  7.93it/s]"
     ]
    },
    {
     "name": "stdout",
     "output_type": "stream",
     "text": [
      "Validation Loss per 100 steps: 0.13725699484348297\n",
      "Validation Accuracy per 100 steps: 87.5\n"
     ]
    },
    {
     "name": "stderr",
     "output_type": "stream",
     "text": [
      "30it [00:02, 10.21it/s]\n"
     ]
    },
    {
     "name": "stdout",
     "output_type": "stream",
     "text": [
      "Validation Loss Epoch: 0.19848840696116288\n",
      "Validation Accuracy Epoch: 94.90445859872611\n",
      "Saving model with validation accuracy: 94.90445859872611\n",
      "Epoch 8/10\n"
     ]
    },
    {
     "name": "stderr",
     "output_type": "stream",
     "text": [
      "1it [00:00,  7.43it/s]"
     ]
    },
    {
     "name": "stdout",
     "output_type": "stream",
     "text": [
      "Training Loss per 5000 steps: 0.06258943676948547\n",
      "Training Accuracy per 5000 steps: 93.75\n"
     ]
    },
    {
     "name": "stderr",
     "output_type": "stream",
     "text": [
      "118it [00:36,  3.27it/s]\n"
     ]
    },
    {
     "name": "stdout",
     "output_type": "stream",
     "text": [
      "The Total Accuracy for Epoch 7: 97.66454352441613\n",
      "Training Loss Epoch: 0.0730270187970314\n",
      "Training Accuracy Epoch: 97.66454352441613\n"
     ]
    },
    {
     "name": "stderr",
     "output_type": "stream",
     "text": [
      "2it [00:00,  5.76it/s]"
     ]
    },
    {
     "name": "stdout",
     "output_type": "stream",
     "text": [
      "Validation Loss per 100 steps: 0.014500570483505726\n",
      "Validation Accuracy per 100 steps: 100.0\n"
     ]
    },
    {
     "name": "stderr",
     "output_type": "stream",
     "text": [
      "30it [00:03,  9.88it/s]\n"
     ]
    },
    {
     "name": "stdout",
     "output_type": "stream",
     "text": [
      "Validation Loss Epoch: 0.19519483139738442\n",
      "Validation Accuracy Epoch: 95.32908704883228\n",
      "Saving model with validation accuracy: 95.32908704883228\n",
      "Epoch 9/10\n"
     ]
    },
    {
     "name": "stderr",
     "output_type": "stream",
     "text": [
      "1it [00:00,  7.39it/s]"
     ]
    },
    {
     "name": "stdout",
     "output_type": "stream",
     "text": [
      "Training Loss per 5000 steps: 0.03755111247301102\n",
      "Training Accuracy per 5000 steps: 100.0\n"
     ]
    },
    {
     "name": "stderr",
     "output_type": "stream",
     "text": [
      "118it [00:34,  3.39it/s]\n"
     ]
    },
    {
     "name": "stdout",
     "output_type": "stream",
     "text": [
      "The Total Accuracy for Epoch 8: 98.19532908704883\n",
      "Training Loss Epoch: 0.06833786201284472\n",
      "Training Accuracy Epoch: 98.19532908704883\n"
     ]
    },
    {
     "name": "stderr",
     "output_type": "stream",
     "text": [
      "3it [00:00,  7.66it/s]"
     ]
    },
    {
     "name": "stdout",
     "output_type": "stream",
     "text": [
      "Validation Loss per 100 steps: 0.35813790559768677\n",
      "Validation Accuracy per 100 steps: 93.75\n"
     ]
    },
    {
     "name": "stderr",
     "output_type": "stream",
     "text": [
      "30it [00:03,  9.17it/s]\n"
     ]
    },
    {
     "name": "stdout",
     "output_type": "stream",
     "text": [
      "Validation Loss Epoch: 0.1832256309532871\n",
      "Validation Accuracy Epoch: 95.96602972399151\n",
      "Saving model with validation accuracy: 95.96602972399151\n",
      "Epoch 10/10\n"
     ]
    },
    {
     "name": "stderr",
     "output_type": "stream",
     "text": [
      "1it [00:00,  7.28it/s]"
     ]
    },
    {
     "name": "stdout",
     "output_type": "stream",
     "text": [
      "Training Loss per 5000 steps: 0.00518794683739543\n",
      "Training Accuracy per 5000 steps: 100.0\n"
     ]
    },
    {
     "name": "stderr",
     "output_type": "stream",
     "text": [
      "118it [00:34,  3.37it/s]\n"
     ]
    },
    {
     "name": "stdout",
     "output_type": "stream",
     "text": [
      "The Total Accuracy for Epoch 9: 97.87685774946921\n",
      "Training Loss Epoch: 0.07603145550573402\n",
      "Training Accuracy Epoch: 97.87685774946921\n"
     ]
    },
    {
     "name": "stderr",
     "output_type": "stream",
     "text": [
      "3it [00:00,  7.66it/s]"
     ]
    },
    {
     "name": "stdout",
     "output_type": "stream",
     "text": [
      "Validation Loss per 100 steps: 0.021469634026288986\n",
      "Validation Accuracy per 100 steps: 100.0\n"
     ]
    },
    {
     "name": "stderr",
     "output_type": "stream",
     "text": [
      "30it [00:03,  9.94it/s]"
     ]
    },
    {
     "name": "stdout",
     "output_type": "stream",
     "text": [
      "Validation Loss Epoch: 0.31325559923425317\n",
      "Validation Accuracy Epoch: 93.63057324840764\n"
     ]
    },
    {
     "name": "stderr",
     "output_type": "stream",
     "text": [
      "\n"
     ]
    }
   ],
   "source": [
    "EPOCHS = 10\n",
    "train_accuracies = []  # To store training accuracy for each epoch\n",
    "validation_accuracies = []  # To store validation accuracy for each epoch\n",
    "train_losses = []  # List to store training loss for each epoch\n",
    "validation_losses = []  # List to store validation loss for each epoch\n",
    "best_accuracy = 0  # Initialize best validation accuracy\n",
    "\n",
    "for epoch in range(EPOCHS):\n",
    "    print(f\"Epoch {epoch + 1}/{EPOCHS}\")\n",
    "\n",
    "    # Training phase \n",
    "    train_accuracy, train_loss = train(epoch)  \n",
    "    train_accuracies.append(train_accuracy)\n",
    "    train_losses.append(train_loss)\n",
    "\n",
    "    # Validation phase\n",
    "    validation_accuracy, validation_loss, _, __ = valid(model, testing_loader)\n",
    "    validation_accuracies.append(validation_accuracy)\n",
    "    validation_losses.append(validation_loss)\n",
    "\n",
    "    # Save the model if validation accuracy is the best so far\n",
    "    if validation_accuracy > best_accuracy:\n",
    "        best_accuracy = validation_accuracy\n",
    "        print(f\"Saving model with validation accuracy: {best_accuracy}\")\n",
    "        torch.save(model.state_dict(), f\"./Models/test_reddit_roberta/{LEARNING_RATE}_roberta_model_epoch_{epoch + 1}.pth\")  # Save best model"
   ]
  },
  {
   "cell_type": "code",
   "execution_count": 18,
   "metadata": {},
   "outputs": [
    {
     "data": {
      "image/png": "[encoded data removed]",
      "text/plain": [
       "<Figure size 1200x500 with 2 Axes>"
      ]
     },
     "metadata": {},
     "output_type": "display_data"
    }
   ],
   "source": [
    "# Plotting the accuracy vs epochs\n",
    "epochs_range = range(1, EPOCHS + 1)\n",
    "plt.figure(figsize=(12, 5))\n",
    "\n",
    "# Plotting Accuracy\n",
    "plt.subplot(1, 2, 1)\n",
    "plt.plot(epochs_range, train_accuracies, label='Training Accuracy')\n",
    "plt.plot(epochs_range, validation_accuracies, label='Validation Accuracy')\n",
    "plt.xlabel('Epochs')\n",
    "plt.ylabel('Accuracy (%)')\n",
    "plt.title('Training and Validation Accuracy over Epochs')\n",
    "plt.legend()\n",
    "plt.grid(True)\n",
    "\n",
    "# Plotting Loss\n",
    "plt.subplot(1, 2, 2)\n",
    "plt.plot(epochs_range, train_losses, label='Training Loss')\n",
    "plt.plot(epochs_range, validation_losses, label='Validation Loss')\n",
    "plt.xlabel('Epochs')\n",
    "plt.ylabel('Loss')\n",
    "plt.title('Training and Validation Loss over Epochs')\n",
    "plt.legend()\n",
    "plt.grid(True)\n",
    "\n",
    "plt.tight_layout()\n",
    "plt.show()"
   ]
  },
  {
   "cell_type": "code",
   "execution_count": 19,
   "metadata": {},
   "outputs": [
    {
     "name": "stderr",
     "output_type": "stream",
     "text": [
      "2it [00:00,  9.11it/s]"
     ]
    },
    {
     "name": "stdout",
     "output_type": "stream",
     "text": [
      "Validation Loss per 100 steps: 1.0897839069366455\n",
      "Validation Accuracy per 100 steps: 81.25\n"
     ]
    },
    {
     "name": "stderr",
     "output_type": "stream",
     "text": [
      "30it [00:03,  8.78it/s]\n"
     ]
    },
    {
     "name": "stdout",
     "output_type": "stream",
     "text": [
      "Validation Loss Epoch: 0.3436429049664487\n",
      "Validation Accuracy Epoch: 93.63057324840764\n",
      "Validation Accuracy: 0.94\n",
      "Validation Precision: 0.94\n",
      "Validation Recall: 0.94\n",
      "Validation F1 Score: 0.93\n",
      "Classification Report:\n",
      "              precision    recall  f1-score   support\n",
      "\n",
      "  admiration       1.00      1.00      1.00         3\n",
      "       anger       1.00      0.56      0.71         9\n",
      "      caring       1.00      1.00      1.00         5\n",
      "   confusion       1.00      0.96      0.98        26\n",
      "   curiosity       0.93      0.96      0.94        97\n",
      "      desire       1.00      0.44      0.62         9\n",
      "  excitement       0.92      0.89      0.91        27\n",
      "        fear       0.91      1.00      0.95        53\n",
      "   gratitude       0.98      0.86      0.92        51\n",
      "         joy       0.92      0.99      0.95        81\n",
      "      relief       0.92      0.83      0.87        29\n",
      "     sadness       0.97      1.00      0.98        57\n",
      "    surprise       0.84      1.00      0.91        21\n",
      "     neutral       1.00      1.00      1.00         3\n",
      "\n",
      "    accuracy                           0.94       471\n",
      "   macro avg       0.96      0.89      0.91       471\n",
      "weighted avg       0.94      0.94      0.93       471\n",
      "\n"
     ]
    },
    {
     "data": {
      "image/png": "[encoded data removed]",
      "text/plain": [
       "<Figure size 1000x700 with 2 Axes>"
      ]
     },
     "metadata": {},
     "output_type": "display_data"
    }
   ],
   "source": [
    "from sklearn.metrics import classification_report, accuracy_score, confusion_matrix, precision_score, recall_score, f1_score\n",
    "\n",
    "\n",
    "# Validation phase with confusion matrix\n",
    "validation_accuracy, validation_loss, all_targets, all_predictions = valid(model, testing_loader)\n",
    "\n",
    "# Generate a confusion matrix\n",
    "cm = confusion_matrix(all_targets, all_predictions)\n",
    "\n",
    "def plot_confusion_matrix(cm, class_names):\n",
    "    plt.figure(figsize=(10, 7))\n",
    "    sns.heatmap(cm, annot=True, fmt='d', cmap='Blues', xticklabels=class_names, yticklabels=class_names)\n",
    "    plt.xlabel('Predicted Label')\n",
    "    plt.ylabel('True Label')\n",
    "    plt.title('Confusion Matrix')\n",
    "    plt.show()\n",
    "\n",
    "# Reverse the mapping dictionary to get encoded value as key and label as value\n",
    "reversed_label_map = {v: k for k, v in emotion_mapping.items()}\n",
    "\n",
    "# Get the count of each emotion label\n",
    "testing_df['emotion_label'] = testing_df['emotion'].map(reversed_label_map)\n",
    "emotion_counts = testing_df['emotion_label'].value_counts()\n",
    "\n",
    "# Get the count of each emotion label\n",
    "# Map the encoded labels back to emotion labels\n",
    "training_df['emotion_label'] = training_df['emotion'].map(reversed_label_map)\n",
    "emotion_counts = training_df['emotion_label'].value_counts()\n",
    "\n",
    "# Get the unique values from the 'emotion' column\n",
    "unique_emotions = emotion_data_df['emotion'].unique()\n",
    "\n",
    "# Get the actual class names using the reversed mapping\n",
    "class_names = [reversed_label_map[emotion] for emotion in sorted(unique_emotions)]\n",
    "\n",
    "# Get the accuracy\n",
    "accuracy = accuracy_score(all_targets, all_predictions)\n",
    "precision_score = precision_score(all_targets, all_predictions, average='weighted')\n",
    "recall_score = recall_score(all_targets, all_predictions, average='weighted')\n",
    "f1_score = f1_score(all_targets, all_predictions, average='weighted')\n",
    "print(f\"Validation Accuracy: {accuracy:.2f}\")\n",
    "print(f\"Validation Precision: {precision_score:.2f}\")\n",
    "print(f\"Validation Recall: {recall_score:.2f}\")\n",
    "print(f\"Validation F1 Score: {f1_score:.2f}\")\n",
    "\n",
    "# Generate a classification report with precision, recall, f1-score for each label\n",
    "class_report = classification_report(all_targets, all_predictions, target_names=class_names)\n",
    "print(\"Classification Report:\")\n",
    "print(class_report)\n",
    "\n",
    "plot_confusion_matrix(cm, class_names)"
   ]
  },
  {
   "cell_type": "code",
   "execution_count": null,
   "metadata": {},
   "outputs": [],
   "source": []
  }
 ],
 "metadata": {
  "kernelspec": {
   "display_name": "bert-env",
   "language": "python",
   "name": "python3"
  },
  "language_info": {
   "codemirror_mode": {
    "name": "ipython",
    "version": 3
   },
   "file_extension": ".py",
   "mimetype": "text/x-python",
   "name": "python",
   "nbconvert_exporter": "python",
   "pygments_lexer": "ipython3",
   "version": "3.11.9"
  }
 },
 "nbformat": 4,
 "nbformat_minor": 2
}
